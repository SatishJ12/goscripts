{
 "cells": [
  {
   "cell_type": "markdown",
   "metadata": {},
   "source": [
    "# GO enrichment tool\n",
    "Copyright (c) 2017 Pieter Moris, based on code by Pieter Meysman"
   ]
  },
  {
   "cell_type": "code",
   "execution_count": 64,
   "metadata": {
    "collapsed": true
   },
   "outputs": [],
   "source": [
    "import pandas as pd\n",
    "import argparse, re, os"
   ]
  },
  {
   "cell_type": "code",
   "execution_count": 96,
   "metadata": {
    "collapsed": false
   },
   "outputs": [],
   "source": [
    "def importGAF(path, geneSet):\n",
    "    \"\"\"\n",
    "    Imports a GAF file (gene association format) and generates a dictionary mapping the gene uniprot AC to the GO ID.\n",
    "    \n",
    "    Information on the GAF 2.1 format can be found at \n",
    "        http://geneontology.org/page/go-annotation-file-gaf-format-21 \n",
    "            \n",
    "    Parameters\n",
    "    ----------\n",
    "    path : str\n",
    "        The path to the file.\n",
    "    geneSet : set\n",
    "        A set containing the uniprot AC's of all the genes under consideration (background).\n",
    "\n",
    "    Returns\n",
    "    -------\n",
    "    dict of str\n",
    "        A dictionary mapping gene uniprot AC's to GO ID's.\n",
    "        \n",
    "        \n",
    "    Possible improvements:\n",
    "        Check for `is_obsolete` and `replaced_by`, although the replacement term should be in OBO file as an entry.\n",
    "        \n",
    "        Check for inclusion in provided geneset afterwards using:\n",
    "            gafDict = {key: value for key, value in gafDict.items() if key in geneSet }\n",
    "            \n",
    "        To do: double dictionary? already filter based on gene list? what to do with NOT?\n",
    "    \"\"\"\n",
    "    \n",
    "    gafPath = os.path.abspath(path)\n",
    "    \n",
    "    if not geneSet:\n",
    "        print('Empty gene set was provided during creation of GAF dictionary.')\n",
    "        exit()\n",
    "    \n",
    "    with open(gafPath,'r') as gafFile:\n",
    "        gafDict = {}\n",
    "        for line in gafFile:\n",
    "#             if not line.startswith('!'):                    # ignore comments in gaf file\n",
    "            if line.startswith('UniProtKB'):\n",
    "                splitLine = line.split('\\t')                # split column-wise\n",
    "                uniprotAC = splitLine[1]\n",
    "                goTerm = splitLine[4]\n",
    "                goQualifier = splitLine[3]\n",
    "                if 'NOT' not in goQualifier:                # ignore annotations with \"NOT\"\n",
    "                    if uniprotAC in geneSet:                # only keep genes present in background gene set\n",
    "                        if uniprotAC not in gafDict:        # Create new key if AC does not already appear in dictionary\n",
    "                            gafDict[uniprotAC] = {goTerm}   # make dictionary containing uniprot AC as key and set of GO's\n",
    "                        else:\n",
    "                            gafDict[uniprotAC].add(goTerm)\n",
    "                            \n",
    "    print('Retrieved',len(gafDict),'annotated (background filtered) uniprot AC\\'s from',gafPath+'\\n')\n",
    "    \n",
    "    if len(gafDict) != len(geneSet):\n",
    "        print('WARNING!\\nNot every uniprot AC that was provided in the background set was found in the GAF file:')\n",
    "        [print(AC) for AC in geneSet if AC not in gafDict]\n",
    "        print('WARNING!\\n')\n",
    "                            \n",
    "    return gafDict"
   ]
  },
  {
   "cell_type": "code",
   "execution_count": 112,
   "metadata": {
    "collapsed": false
   },
   "outputs": [],
   "source": [
    "# https://stackoverflow.com/questions/1336791/dictionary-vs-object-which-is-more-efficient-and-why\n",
    "\n",
    "'''\n",
    "https://stackoverflow.com/questions/3489071/in-python-when-to-use-a-dictionary-list-or-set\n",
    "When you want to store some values which you'll be iterating over, \n",
    "Python's list constructs are slightly faster. \n",
    "However, if you'll be storing (unique) values in order to check for their existence, \n",
    "then sets are significantly faster.\n",
    "'''\n",
    "\n",
    "class goTerm:\n",
    "    \"\"\"\n",
    "    GO term object.\n",
    "    \n",
    "    Stores the ID, name and domain of the GO term and contains dictionaries for child and parent nodes.\n",
    "\n",
    "    Attributes\n",
    "    ----------\n",
    "    id : str\n",
    "        The identifier of the GO term.\n",
    "    altid : str\n",
    "        Optional tag for an alternative id.\n",
    "    name : str\n",
    "        The GO term name.\n",
    "    namespace : str\n",
    "        The domain of the GO term (Cellular Component, Molecular Function or Biological Process).\n",
    "    parents : set of str\n",
    "        The parent terms of the GO term, as indicated by the `is_a` relationship.\n",
    "    childs : set of str\n",
    "        The child terms of the GO term, derived from other GO terms after a complete OBO file is processed initially.\n",
    "\n",
    "not necessary... Methods\n",
    "    -------\n",
    "    returnID\n",
    "        Returns the ID of the GO term.\n",
    "    gamma(n=1.0)\n",
    "        Change the photo's gamma exposure.  \n",
    "    \"\"\"\n",
    "    \n",
    "    goCount = 0\n",
    "    \n",
    "    __slots__ = ('id', 'name', 'altid', 'namespace', 'childs', 'parents')\n",
    "    \n",
    "    def __init__(self, goID):\n",
    "        self.id = goID\n",
    "        self.altid = []\n",
    "        self.name = ''\n",
    "        self.namespace = ''\n",
    "        self.childs = set()\n",
    "        self.parents = set()\n",
    "        \n",
    "        goTerm.goCount += 1\n",
    "    \n",
    "    def returnID(self):\n",
    "        return self.id\n",
    "    "
   ]
  },
  {
   "cell_type": "code",
   "execution_count": 113,
   "metadata": {
    "collapsed": false
   },
   "outputs": [],
   "source": [
    "def importOBO(path):\n",
    "    \"\"\"\n",
    "    Imports an OBO file and generates a dictionary containing an OBO object for each GO term.\n",
    "    \n",
    "    Parameters\n",
    "    ----------\n",
    "    path : str\n",
    "        The path to the file.\n",
    "\n",
    "    Returns\n",
    "    -------\n",
    "    dict of OBO objects\n",
    "        Keys of the format `GO-0000001` mapping to OBO objects.\n",
    "        \n",
    "        \n",
    "    Possible improvements:\n",
    "        Check for `is_obsolete` and `replaced_by`, although the replacement term should be in OBO file as an entry.\n",
    "    \"\"\"\n",
    "    \n",
    "    GOdict = {}\n",
    "    \n",
    "    path = os.path.abspath(path)\n",
    "    with open(path,'r') as oboFile:\n",
    "        entryPattern = re.compile('^\\[.+\\]')             # find re pattern to match '[Entry]'\n",
    "        validEntry = False\n",
    "        \n",
    "        for line in oboFile:\n",
    "            \n",
    "            if entryPattern.search(line):                # Only parse entries preceded by [Entry], not [Typedef]\n",
    "                if 'Term' in line:\n",
    "                    validEntry = True\n",
    "                else:\n",
    "                    validEntry = False\n",
    "                    \n",
    "            elif validEntry:                             # if [Entry] was encountered previously, parse annotation\n",
    "                if line.startswith('id'):                # and hierarchy from subsequent lines\n",
    "                    goID = line.split(': ')[1].rstrip()  # Store ID for lookup of other attributes in next lines\n",
    "                    \n",
    "                    if not goID in GOdict:               # check if id is already stored as a key in dictionary\n",
    "                        GOdict[goID] = goTerm(goID)      # if not, create new goID object as the value for this key\n",
    "\n",
    "                elif line.startswith('name'):\n",
    "                    GOdict[goID].name = line.split(': ')[1].rstrip()\n",
    "                elif line.startswith('namespace'):\n",
    "                    GOdict[goID].namespace = line.split(': ')[1].rstrip()\n",
    "                elif line.startswith('alt_id'):\n",
    "                    GOdict[goID].altid.append(line.split(': ')[1].rstrip())\n",
    "                elif line.startswith('is_a'):\n",
    "                    GOdict[goID].parents.add(line.split()[1].rstrip())\n",
    "    return GOdict\n",
    "\n"
   ]
  },
  {
   "cell_type": "code",
   "execution_count": 114,
   "metadata": {
    "collapsed": true
   },
   "outputs": [],
   "source": [
    "def importBackground(path):\n",
    "    \"\"\"\n",
    "    Imports the background set of genes (uniprot AC).\n",
    "    \n",
    "    Parameters\n",
    "    ----------\n",
    "    path : str\n",
    "        The path to the file.\n",
    "\n",
    "    Returns\n",
    "    -------\n",
    "    set\n",
    "        A set of background uniprot AC's.\n",
    "        \n",
    "    Notes: Gene lists should not contain a header. One gene per line.\n",
    "    Possible improvement: check for file structure and allow headers, comma separated lists, etc.\n",
    "    \"\"\"\n",
    "    with open(path,'r') as inGenes:\n",
    "        backgroundSet = set([line.rstrip() for line in inGenes][1:])\n",
    "    print('Retrieved',len(backgroundSet),'background uniprot AC\\'s from',path)\n",
    "    return backgroundSet\n",
    "\n",
    "def importSubset(path):\n",
    "    \"\"\"\n",
    "    Imports the gene subset of interest (uniprot AC).\n",
    "    \n",
    "    Parameters\n",
    "    ----------\n",
    "    path : str\n",
    "        The path to the file.\n",
    "\n",
    "    Returns\n",
    "    -------\n",
    "    set\n",
    "        A subset of uniprot ACs of interest.\n",
    "        \n",
    "    Notes: Gene lists should not contain a header. One gene per line.\n",
    "    \"\"\"\n",
    "    with open(path,'r') as inGenes:\n",
    "        geneSubset = set([line.rstrip() for line in inGenes][1:])\n",
    "    print('Retrieved',len(geneSubset),'subset uniprot AC\\'s from',path)\n",
    "    return geneSubset"
   ]
  },
  {
   "cell_type": "code",
   "execution_count": 128,
   "metadata": {
    "collapsed": false,
    "scrolled": false
   },
   "outputs": [
    {
     "name": "stdout",
     "output_type": "stream",
     "text": [
      "Retrieved 146 background uniprot AC's from /media/pieter/DATA/github/ebola-go/data/background.txt\n",
      "Retrieved 26 subset uniprot AC's from /media/pieter/DATA/github/ebola-go/data/missing.txt\n",
      "Retrieved 145 annotated (background filtered) uniprot AC's from /media/pieter/DATA/github/ebola-go/data/go_data/goa_human.gaf\n",
      "\n",
      "WARNING!\n",
      "Not every uniprot AC that was provided in the background set was found in the GAF file:\n",
      "F8VVM2\n",
      "WARNING!\n",
      "\n"
     ]
    }
   ],
   "source": [
    "# # Import gene list\n",
    "# inputPath = os.path.abspath('../data/genelistinput.txt')\n",
    "# with open(inputPath,'r') as inGenes:\n",
    "#     geneSet = set([line.rstrip() for line in inGenes][1:])\n",
    "\n",
    "backgroundPath = os.path.abspath('../data/background.txt')\n",
    "subsetPath = os.path.abspath('../data/missing.txt')\n",
    "\n",
    "# # Import .obo file\n",
    "oboPath = os.path.abspath('../data/go_data/gotest.obo')\n",
    "# with open(oboPath,'r') as oboFile:\n",
    "#     obo = oboFile.read()\n",
    "\n",
    "gafPath = os.path.abspath('../data/go_data/goa_human.gaf')\n",
    "\n",
    "minGenes = 5\n",
    "threshold = 0.1\n",
    "\n",
    "background = importBackground(backgroundPath)\n",
    "interest = importSubset(subsetPath)\n",
    "\n",
    "gafDict = importGAF(gafPath, background)\n",
    "gterms = importOBO(oboPath)"
   ]
  },
  {
   "cell_type": "code",
   "execution_count": 129,
   "metadata": {
    "collapsed": false
   },
   "outputs": [
    {
     "name": "stdout",
     "output_type": "stream",
     "text": [
      "{'GO:0008584', 'GO:0031492', 'GO:0006334', 'GO:0005654', 'GO:0045814', 'GO:0031508', 'GO:0000788', 'GO:0006336', 'GO:0048477', 'GO:0043234', 'GO:0046982', 'GO:0031509', 'GO:0005634', 'GO:0008283', 'GO:0000784', 'GO:0000786', 'GO:0090230', 'GO:0006997', 'GO:0035264', 'GO:0000980', 'GO:0005576', 'GO:0001649', 'GO:0007566', 'GO:0042393', 'GO:0070062', 'GO:1902340', 'GO:0007338', 'GO:0007596', 'GO:0000228', 'GO:0001740', 'GO:0000183', 'GO:0000979', 'GO:0007286', 'GO:0032200', 'GO:0042692', 'GO:0030307', 'GO:0031047', 'GO:0045815', 'GO:0005515', 'GO:0044267'}\n",
      "40\n"
     ]
    }
   ],
   "source": [
    "print(gafDict['P84243'])\n",
    "print(len(gafDict['P84243']))"
   ]
  },
  {
   "cell_type": "code",
   "execution_count": 130,
   "metadata": {
    "collapsed": false
   },
   "outputs": [],
   "source": [
    "# # Import .gaf file\n",
    "# gafPath = os.path.abspath('../data/go_data/goa_human.gaf')\n",
    "# with open(gafPath,'r') as gafFile:\n",
    "#     gafDict = {}\n",
    "#     for line in gafFile:\n",
    "#         if not line.startswith('!'):                    # ignore comments in gaf file\n",
    "#             splitLine = line.split('\\t')                # split column-wise\n",
    "#             uniprotAC = splitLine[1]\n",
    "#             goTerm = splitLine[4]\n",
    "#             goQualifier = splitLine[3]\n",
    "#             if not 'NOT' in goQualifier:                # ignore annotations with \"NOT\"\n",
    "#                 if uniprotAC in geneSet:                # only keep genes present in input gene set\n",
    "#                     if not uniprotAC in gafDict:        # Create new key if AC does not already appear in dictionary\n",
    "#                         gafDict[uniprotAC] = {goTerm}   # make dictionary containing uniprot AC as key and set of GO's\n",
    "#                     else:\n",
    "#                         gafDict[uniprotAC].add(goTerm)\n",
    "# print(gafDict['O43175'])"
   ]
  },
  {
   "cell_type": "code",
   "execution_count": 131,
   "metadata": {
    "collapsed": false
   },
   "outputs": [],
   "source": [
    "# # Gaf pandas\n",
    "# gafDf = pd.read_csv(gafPath, sep='\\t', header=None, comment='!')\n",
    "# gafDf = gafDf[gafDf[1].isin(geneSet)]    # only keep genes present in input gene set\n",
    "# gafDf = gafDf[~gafDf[3].str.contains('NOT', na=False)]    # ignore annotations with \"NOT\"\n",
    "# gafDf = gafDf.reset_index(drop=True)\n",
    "# print(gafDf)"
   ]
  },
  {
   "cell_type": "code",
   "execution_count": null,
   "metadata": {
    "collapsed": false,
    "scrolled": false
   },
   "outputs": [],
   "source": [
    "print(gterms)\n",
    "gterms['GO:0000001'].id\n",
    "print(gterms['GO:0000001'].parents)\n",
    "gterms['GO:0000001'].childs"
   ]
  },
  {
   "cell_type": "code",
   "execution_count": 124,
   "metadata": {
    "collapsed": true
   },
   "outputs": [],
   "source": [
    "def buildGOTree(GOdict):\n",
    "    \"\"\"\n",
    "    Generates the entire GO tree by walking through the parent hierarchy.\n",
    "    \n",
    "    Parameters\n",
    "    ----------\n",
    "    GOdict : dict\n",
    "        A dictionary of GO objects generated by importOBO().\n",
    "\n",
    "    Returns\n",
    "    -------\n",
    "    dict of OBO objects\n",
    "        Child and parent attributes are completed.\n",
    "        Keys of the format `GO-0000001` mapping to OBO objects.\n",
    "    \"\"\"\n",
    "    for goID in GOdict:\n",
    "        \n",
    "        # recursive call starts here\n",
    "        \n",
    "        for parent in GOdict[goID].parents:\n",
    "            \n",
    "            propagateTree(parent, goID, GOdict)\n",
    "            \n",
    "def propagateTree(parent, goID, GOdict):\n",
    "    if goID not in GOdict[parent].child:\n",
    "        GOdict[parent].child.add(goID)\n",
    "        \n",
    "    if GOdict[parent]:\n",
    "        for parentsParent in GOdict[parent].parents: \n",
    "            propagateTree(parentsParent, goID, GOdict)\n",
    "    else:\n",
    "        return False"
   ]
  },
  {
   "cell_type": "code",
   "execution_count": 127,
   "metadata": {
    "collapsed": false
   },
   "outputs": [
    {
     "name": "stdout",
     "output_type": "stream",
     "text": [
      "GO:0048308\n",
      "GO:0048311\n",
      "GO:0007005\n",
      "GO:0008150\n"
     ]
    },
    {
     "ename": "KeyError",
     "evalue": "'GO:0048308'",
     "output_type": "error",
     "traceback": [
      "\u001b[0;31m---------------------------------------------------------------------------\u001b[0m",
      "\u001b[0;31mKeyError\u001b[0m                                  Traceback (most recent call last)",
      "\u001b[0;32m<ipython-input-127-3d2b49ed6f9c>\u001b[0m in \u001b[0;36m<module>\u001b[0;34m()\u001b[0m\n\u001b[1;32m      3\u001b[0m         \u001b[0mprint\u001b[0m\u001b[0;34m(\u001b[0m\u001b[0mparent\u001b[0m\u001b[0;34m)\u001b[0m\u001b[0;34m\u001b[0m\u001b[0m\n\u001b[1;32m      4\u001b[0m \u001b[0;34m\u001b[0m\u001b[0m\n\u001b[0;32m----> 5\u001b[0;31m \u001b[0mgterms\u001b[0m\u001b[0;34m[\u001b[0m\u001b[0;34m'GO:0048308'\u001b[0m\u001b[0;34m]\u001b[0m\u001b[0;34m.\u001b[0m\u001b[0mchild\u001b[0m\u001b[0;34m\u001b[0m\u001b[0m\n\u001b[0m",
      "\u001b[0;31mKeyError\u001b[0m: 'GO:0048308'"
     ]
    }
   ],
   "source": [
    "for goID in gterms:\n",
    "    for parent in gterms[goID].parents:\n",
    "        print(parent)\n",
    "        \n",
    "gterms['GO:0048308'].child"
   ]
  },
  {
   "cell_type": "code",
   "execution_count": 126,
   "metadata": {
    "collapsed": false
   },
   "outputs": [
    {
     "ename": "KeyError",
     "evalue": "'GO:0048308'",
     "output_type": "error",
     "traceback": [
      "\u001b[0;31m---------------------------------------------------------------------------\u001b[0m",
      "\u001b[0;31mKeyError\u001b[0m                                  Traceback (most recent call last)",
      "\u001b[0;32m<ipython-input-126-4d305ad682b6>\u001b[0m in \u001b[0;36m<module>\u001b[0;34m()\u001b[0m\n\u001b[0;32m----> 1\u001b[0;31m \u001b[0mbuildGOTree\u001b[0m\u001b[0;34m(\u001b[0m\u001b[0mgterms\u001b[0m\u001b[0;34m)\u001b[0m\u001b[0;34m\u001b[0m\u001b[0m\n\u001b[0m",
      "\u001b[0;32m<ipython-input-124-86a4b37a4e84>\u001b[0m in \u001b[0;36mbuildGOTree\u001b[0;34m(GOdict)\u001b[0m\n\u001b[1;32m     20\u001b[0m         \u001b[0;32mfor\u001b[0m \u001b[0mparent\u001b[0m \u001b[0;32min\u001b[0m \u001b[0mGOdict\u001b[0m\u001b[0;34m[\u001b[0m\u001b[0mgoID\u001b[0m\u001b[0;34m]\u001b[0m\u001b[0;34m.\u001b[0m\u001b[0mparents\u001b[0m\u001b[0;34m:\u001b[0m\u001b[0;34m\u001b[0m\u001b[0m\n\u001b[1;32m     21\u001b[0m \u001b[0;34m\u001b[0m\u001b[0m\n\u001b[0;32m---> 22\u001b[0;31m             \u001b[0mpropagateTree\u001b[0m\u001b[0;34m(\u001b[0m\u001b[0mparent\u001b[0m\u001b[0;34m,\u001b[0m \u001b[0mgoID\u001b[0m\u001b[0;34m,\u001b[0m \u001b[0mGOdict\u001b[0m\u001b[0;34m)\u001b[0m\u001b[0;34m\u001b[0m\u001b[0m\n\u001b[0m\u001b[1;32m     23\u001b[0m \u001b[0;34m\u001b[0m\u001b[0m\n\u001b[1;32m     24\u001b[0m \u001b[0;32mdef\u001b[0m \u001b[0mpropagateTree\u001b[0m\u001b[0;34m(\u001b[0m\u001b[0mparent\u001b[0m\u001b[0;34m,\u001b[0m \u001b[0mgoID\u001b[0m\u001b[0;34m,\u001b[0m \u001b[0mGOdict\u001b[0m\u001b[0;34m)\u001b[0m\u001b[0;34m:\u001b[0m\u001b[0;34m\u001b[0m\u001b[0m\n",
      "\u001b[0;32m<ipython-input-124-86a4b37a4e84>\u001b[0m in \u001b[0;36mpropagateTree\u001b[0;34m(parent, goID, GOdict)\u001b[0m\n\u001b[1;32m     23\u001b[0m \u001b[0;34m\u001b[0m\u001b[0m\n\u001b[1;32m     24\u001b[0m \u001b[0;32mdef\u001b[0m \u001b[0mpropagateTree\u001b[0m\u001b[0;34m(\u001b[0m\u001b[0mparent\u001b[0m\u001b[0;34m,\u001b[0m \u001b[0mgoID\u001b[0m\u001b[0;34m,\u001b[0m \u001b[0mGOdict\u001b[0m\u001b[0;34m)\u001b[0m\u001b[0;34m:\u001b[0m\u001b[0;34m\u001b[0m\u001b[0m\n\u001b[0;32m---> 25\u001b[0;31m     \u001b[0;32mif\u001b[0m \u001b[0mgoID\u001b[0m \u001b[0;32mnot\u001b[0m \u001b[0;32min\u001b[0m \u001b[0mGOdict\u001b[0m\u001b[0;34m[\u001b[0m\u001b[0mparent\u001b[0m\u001b[0;34m]\u001b[0m\u001b[0;34m.\u001b[0m\u001b[0mchild\u001b[0m\u001b[0;34m:\u001b[0m\u001b[0;34m\u001b[0m\u001b[0m\n\u001b[0m\u001b[1;32m     26\u001b[0m         \u001b[0mGOdict\u001b[0m\u001b[0;34m[\u001b[0m\u001b[0mparent\u001b[0m\u001b[0;34m]\u001b[0m\u001b[0;34m.\u001b[0m\u001b[0mchild\u001b[0m\u001b[0;34m.\u001b[0m\u001b[0madd\u001b[0m\u001b[0;34m(\u001b[0m\u001b[0mgoID\u001b[0m\u001b[0;34m)\u001b[0m\u001b[0;34m\u001b[0m\u001b[0m\n\u001b[1;32m     27\u001b[0m \u001b[0;34m\u001b[0m\u001b[0m\n",
      "\u001b[0;31mKeyError\u001b[0m: 'GO:0048308'"
     ]
    }
   ],
   "source": [
    "buildGOTree(gterms)"
   ]
  },
  {
   "cell_type": "code",
   "execution_count": null,
   "metadata": {
    "collapsed": true
   },
   "outputs": [],
   "source": []
  },
  {
   "cell_type": "code",
   "execution_count": null,
   "metadata": {
    "collapsed": false
   },
   "outputs": [],
   "source": [
    "from timeit import timeit\n",
    "import re\n",
    "\n",
    "def find(string, text):\n",
    "    if string.find(text) > -1:\n",
    "        pass\n",
    "\n",
    "def re_find(string, text):\n",
    "    if re.match(text, string):\n",
    "        pass\n",
    "\n",
    "def best_find(string, text):\n",
    "    if text in string:\n",
    "        pass\n",
    "\n",
    "def third_find(string, text):\n",
    "    if text.startswith(string):\n",
    "        pass    \n",
    "\n",
    "print(timeit(\"find(string, text)\", \"from __main__ import find; string='lookforme'; text='look'\"))\n",
    "print(timeit(\"re_find(string, text)\", \"from __main__ import re_find; string='lookforme'; text='look'\")) \n",
    "print(timeit(\"best_find(string, text)\", \"from __main__ import best_find; string='lookforme'; text='look'\")) \n",
    "print(timeit(\"third_find(string, text)\", \"from __main__ import third_find; string='lookforme'; text='look'\")) \n",
    "\n"
   ]
  },
  {
   "cell_type": "code",
   "execution_count": null,
   "metadata": {
    "collapsed": true
   },
   "outputs": [],
   "source": [
    "# https://techoverflow.net/blog/2013/11/18/a-geneontology-obo-v1.2-parser-in-python/\n",
    "# Import .obo file\n",
    "oboPath = os.path.abspath('../data/go_data/go.obo')\n",
    "# with open(oboPath,'r') as oboFile:\n",
    "#     for line in oboFile:\n",
    "\n",
    "\n",
    "def processGOTerm(goTerm):\n",
    "    \"\"\"\n",
    "    In an object representing a GO term, replace single-element lists with\n",
    "    their only member.\n",
    "    Returns the modified object as a dictionary.\n",
    "    \"\"\"\n",
    "    ret = dict(goTerm) #Input is a defaultdict, might express unexpected behaviour\n",
    "    for key, value in ret.iteritems():\n",
    "        if len(value) == 1:\n",
    "            ret[key] = value[0]\n",
    "    return ret\n",
    "\n",
    "def parseGOOBO(filename):\n",
    "    \"\"\"\n",
    "    Parses a Gene Ontology dump in OBO v1.2 format.\n",
    "    Yields each \n",
    "    Keyword arguments:\n",
    "        filename: The filename to read\n",
    "    \"\"\"\n",
    "    with open(filename, \"r\") as infile:\n",
    "        currentGOTerm = None\n",
    "        for line in infile:\n",
    "            line = line.strip()\n",
    "            if not line: continue #Skip empty\n",
    "            if line == \"[Term]\":\n",
    "                if currentGOTerm: yield processGOTerm(currentGOTerm)\n",
    "                currentGOTerm = defaultdict(list)\n",
    "            elif line == \"[Typedef]\":\n",
    "                #Skip [Typedef sections]\n",
    "                currentGOTerm = None\n",
    "            else: #Not [Term]\n",
    "                #Only process if we're inside a [Term] environment\n",
    "                if currentGOTerm is None: continue\n",
    "                key, sep, val = line.partition(\":\")\n",
    "                currentGOTerm[key].append(val.strip())\n",
    "        #Add last term\n",
    "        if currentGOTerm is not None:\n",
    "            yield processGOTerm(currentGOTerm)"
   ]
  },
  {
   "cell_type": "code",
   "execution_count": null,
   "metadata": {
    "collapsed": false
   },
   "outputs": [],
   "source": [
    "for goTerm in parseGOOBO(oboPath):\n",
    "    termCounter += 1\n"
   ]
  },
  {
   "cell_type": "code",
   "execution_count": null,
   "metadata": {
    "collapsed": true
   },
   "outputs": [],
   "source": []
  },
  {
   "cell_type": "code",
   "execution_count": null,
   "metadata": {
    "collapsed": true
   },
   "outputs": [],
   "source": []
  }
 ],
 "metadata": {
  "kernelspec": {
   "display_name": "Python 3",
   "language": "python",
   "name": "python3"
  },
  "language_info": {
   "codemirror_mode": {
    "name": "ipython",
    "version": 3
   },
   "file_extension": ".py",
   "mimetype": "text/x-python",
   "name": "python",
   "nbconvert_exporter": "python",
   "pygments_lexer": "ipython3",
   "version": "3.4.3"
  }
 },
 "nbformat": 4,
 "nbformat_minor": 2
}
