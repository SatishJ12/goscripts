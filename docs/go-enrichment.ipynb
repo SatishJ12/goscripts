{
 "cells": [
  {
   "cell_type": "markdown",
   "metadata": {},
   "source": [
    "# GO enrichment tool\n",
    "Copyright (c) 2017 Pieter Moris, based on code by Pieter Meysman"
   ]
  },
  {
   "cell_type": "code",
   "execution_count": 15,
   "metadata": {
    "collapsed": true
   },
   "outputs": [],
   "source": [
    "import pandas as pd\n",
    "import argparse, re, os"
   ]
  },
  {
   "cell_type": "code",
   "execution_count": 16,
   "metadata": {
    "collapsed": false
   },
   "outputs": [],
   "source": [
    "def importGAF(path, geneSet):\n",
    "    \"\"\"\n",
    "    Imports a GAF file (gene association format) and generates a dictionary mapping the gene uniprot AC to the GO ID.\n",
    "    \n",
    "    Information on the GAF 2.1 format can be found at \n",
    "        http://geneontology.org/page/go-annotation-file-gaf-format-21 \n",
    "            \n",
    "    Parameters\n",
    "    ----------\n",
    "    path : str\n",
    "        The path to the file.\n",
    "    geneSet : set\n",
    "        A set containing the uniprot AC's of all the genes under consideration (background).\n",
    "\n",
    "    Returns\n",
    "    -------\n",
    "    dict of str\n",
    "        A dictionary mapping gene uniprot AC's to GO ID's.\n",
    "        \n",
    "        \n",
    "    Possible improvements:\n",
    "        Check for `is_obsolete` and `replaced_by`, although the replacement term should be in OBO file as an entry.\n",
    "        \n",
    "        Check for inclusion in provided geneset afterwards using:\n",
    "            gafDict = {key: value for key, value in gafDict.items() if key in geneSet }\n",
    "            \n",
    "        To do: double dictionary? already filter based on gene list? what to do with NOT?\n",
    "    \"\"\"\n",
    "    \n",
    "    gafPath = os.path.abspath(path)\n",
    "    \n",
    "    if not geneSet:\n",
    "        print('Empty gene set was provided during creation of GAF dictionary.')\n",
    "        exit()\n",
    "    \n",
    "    with open(gafPath,'r') as gafFile:\n",
    "        gafDict = {}\n",
    "        for line in gafFile:\n",
    "#             if not line.startswith('!'):                    # ignore comments in gaf file\n",
    "            if line.startswith('UniProtKB'):\n",
    "                splitLine = line.split('\\t')                # split column-wise\n",
    "                uniprotAC = splitLine[1]\n",
    "                goTerm = splitLine[4]\n",
    "                goQualifier = splitLine[3]\n",
    "                if 'NOT' not in goQualifier:                # ignore annotations with \"NOT\"\n",
    "                    if uniprotAC in geneSet:                # only keep genes present in background gene set\n",
    "                        if uniprotAC not in gafDict:        # Create new key if AC does not already appear in dictionary\n",
    "                            gafDict[uniprotAC] = {goTerm}   # make dictionary containing uniprot AC as key and set of GO's\n",
    "                        else:\n",
    "                            gafDict[uniprotAC].add(goTerm)\n",
    "                            \n",
    "    print('Retrieved',len(gafDict),'annotated (background filtered) uniprot AC\\'s from',gafPath+'\\n')\n",
    "    \n",
    "    if len(gafDict) != len(geneSet):\n",
    "        print('WARNING!\\nNot every uniprot AC that was provided in the background set was found in the GAF file:')\n",
    "        [print(AC) for AC in geneSet if AC not in gafDict]\n",
    "        print('WARNING!\\n')\n",
    "                            \n",
    "    return gafDict"
   ]
  },
  {
   "cell_type": "code",
   "execution_count": 17,
   "metadata": {
    "collapsed": false
   },
   "outputs": [],
   "source": [
    "# https://stackoverflow.com/questions/1336791/dictionary-vs-object-which-is-more-efficient-and-why\n",
    "\n",
    "'''\n",
    "https://stackoverflow.com/questions/3489071/in-python-when-to-use-a-dictionary-list-or-set\n",
    "When you want to store some values which you'll be iterating over, \n",
    "Python's list constructs are slightly faster. \n",
    "However, if you'll be storing (unique) values in order to check for their existence, \n",
    "then sets are significantly faster.\n",
    "'''\n",
    "\n",
    "class goTerm:\n",
    "    \"\"\"\n",
    "    GO term object.\n",
    "    \n",
    "    Stores the ID, name and domain of the GO term and contains dictionaries for child and parent nodes.\n",
    "\n",
    "    Attributes\n",
    "    ----------\n",
    "    id : str\n",
    "        The identifier of the GO term.\n",
    "    altid : str\n",
    "        Optional tag for an alternative id.\n",
    "    name : str\n",
    "        The GO term name.\n",
    "    namespace : str\n",
    "        The domain of the GO term (Cellular Component, Molecular Function or Biological Process).\n",
    "    parents : set of str\n",
    "        The parent terms of the GO term, as indicated by the `is_a` relationship.\n",
    "    childs : set of str\n",
    "        The child terms of the GO term, derived from other GO terms after a complete OBO file is processed initially.\n",
    "\n",
    "not necessary... Methods\n",
    "    -------\n",
    "    returnID\n",
    "        Returns the ID of the GO term.\n",
    "    gamma(n=1.0)\n",
    "        Change the photo's gamma exposure.  \n",
    "    \"\"\"\n",
    "    \n",
    "    goCount = 0\n",
    "    \n",
    "    __slots__ = ('id', 'name', 'altid', 'namespace', 'childs', 'parents')\n",
    "    \n",
    "    def __init__(self, goID):\n",
    "        self.id = goID\n",
    "        self.altid = []\n",
    "        self.name = ''\n",
    "        self.namespace = ''\n",
    "        self.childs = set()\n",
    "        self.parents = set()\n",
    "        \n",
    "        goTerm.goCount += 1\n",
    "    \n",
    "    def returnID(self):\n",
    "        return self.id\n",
    "    "
   ]
  },
  {
   "cell_type": "code",
   "execution_count": 18,
   "metadata": {
    "collapsed": false
   },
   "outputs": [],
   "source": [
    "def importOBO(path):\n",
    "    \"\"\"\n",
    "    Imports an OBO file and generates a dictionary containing an OBO object for each GO term.\n",
    "    \n",
    "    Parameters\n",
    "    ----------\n",
    "    path : str\n",
    "        The path to the file.\n",
    "\n",
    "    Returns\n",
    "    -------\n",
    "    dict of OBO objects\n",
    "        Keys of the format `GO-0000001` mapping to OBO objects.\n",
    "        \n",
    "        \n",
    "    Possible improvements:\n",
    "        Check for `is_obsolete` and `replaced_by`, although the replacement term should be in OBO file as an entry.\n",
    "    \"\"\"\n",
    "    \n",
    "    GOdict = {}\n",
    "    \n",
    "    path = os.path.abspath(path)\n",
    "    with open(path,'r') as oboFile:\n",
    "        entryPattern = re.compile('^\\[.+\\]')             # find re pattern to match '[Entry]'\n",
    "        validEntry = False\n",
    "        \n",
    "        for line in oboFile:\n",
    "            \n",
    "            if entryPattern.search(line):                # Only parse entries preceded by [Entry], not [Typedef]\n",
    "                if 'Term' in line:\n",
    "                    validEntry = True\n",
    "                else:\n",
    "                    validEntry = False\n",
    "                    \n",
    "            elif validEntry:                             # if [Entry] was encountered previously, parse annotation\n",
    "                if line.startswith('id'):                # and hierarchy from subsequent lines\n",
    "                    goID = line.split(': ')[1].rstrip()  # Store ID for lookup of other attributes in next lines\n",
    "                    \n",
    "                    if not goID in GOdict:               # check if id is already stored as a key in dictionary\n",
    "                        GOdict[goID] = goTerm(goID)      # if not, create new goID object as the value for this key\n",
    "\n",
    "                elif line.startswith('name'):\n",
    "                    GOdict[goID].name = line.split(': ')[1].rstrip()\n",
    "                elif line.startswith('namespace'):\n",
    "                    GOdict[goID].namespace = line.split(': ')[1].rstrip()\n",
    "                elif line.startswith('alt_id'):\n",
    "                    GOdict[goID].altid.append(line.split(': ')[1].rstrip())\n",
    "                elif line.startswith('is_a'):\n",
    "                    GOdict[goID].parents.add(line.split()[1].rstrip())\n",
    "    return GOdict\n",
    "\n"
   ]
  },
  {
   "cell_type": "code",
   "execution_count": 19,
   "metadata": {
    "collapsed": true
   },
   "outputs": [],
   "source": [
    "def importBackground(path):\n",
    "    \"\"\"\n",
    "    Imports the background set of genes (uniprot AC).\n",
    "    \n",
    "    Parameters\n",
    "    ----------\n",
    "    path : str\n",
    "        The path to the file.\n",
    "\n",
    "    Returns\n",
    "    -------\n",
    "    set\n",
    "        A set of background uniprot AC's.\n",
    "        \n",
    "    Notes: Gene lists should not contain a header. One gene per line.\n",
    "    Possible improvement: check for file structure and allow headers, comma separated lists, etc.\n",
    "    \"\"\"\n",
    "    with open(path,'r') as inGenes:\n",
    "        backgroundSet = set([line.rstrip() for line in inGenes][1:])\n",
    "    print('Retrieved',len(backgroundSet),'background uniprot AC\\'s from',path)\n",
    "    return backgroundSet\n",
    "\n",
    "def importSubset(path):\n",
    "    \"\"\"\n",
    "    Imports the gene subset of interest (uniprot AC).\n",
    "    \n",
    "    Parameters\n",
    "    ----------\n",
    "    path : str\n",
    "        The path to the file.\n",
    "\n",
    "    Returns\n",
    "    -------\n",
    "    set\n",
    "        A subset of uniprot ACs of interest.\n",
    "        \n",
    "    Notes: Gene lists should not contain a header. One gene per line.\n",
    "    \"\"\"\n",
    "    with open(path,'r') as inGenes:\n",
    "        geneSubset = set([line.rstrip() for line in inGenes][1:])\n",
    "    print('Retrieved',len(geneSubset),'subset uniprot AC\\'s from',path)\n",
    "    return geneSubset"
   ]
  },
  {
   "cell_type": "code",
   "execution_count": 20,
   "metadata": {
    "collapsed": false,
    "scrolled": true
   },
   "outputs": [
    {
     "name": "stdout",
     "output_type": "stream",
     "text": [
      "Retrieved 146 background uniprot AC's from /media/pieter/DATA/github/ebola-go/data/background.txt\n",
      "Retrieved 26 subset uniprot AC's from /media/pieter/DATA/github/ebola-go/data/missing.txt\n",
      "Retrieved 145 annotated (background filtered) uniprot AC's from /media/pieter/DATA/github/ebola-go/data/go_data/goa_human.gaf\n",
      "\n",
      "WARNING!\n",
      "Not every uniprot AC that was provided in the background set was found in the GAF file:\n",
      "F8VVM2\n",
      "WARNING!\n",
      "\n"
     ]
    }
   ],
   "source": [
    "# # Import gene list\n",
    "# inputPath = os.path.abspath('../data/genelistinput.txt')\n",
    "# with open(inputPath,'r') as inGenes:\n",
    "#     geneSet = set([line.rstrip() for line in inGenes][1:])\n",
    "\n",
    "backgroundPath = os.path.abspath('../data/background.txt')\n",
    "subsetPath = os.path.abspath('../data/missing.txt')\n",
    "\n",
    "# # Import .obo file\n",
    "oboPath = os.path.abspath('../data/go_data/gotest.obo')\n",
    "# with open(oboPath,'r') as oboFile:\n",
    "#     obo = oboFile.read()\n",
    "\n",
    "gafPath = os.path.abspath('../data/go_data/goa_human.gaf')\n",
    "\n",
    "minGenes = 5\n",
    "threshold = 0.1\n",
    "\n",
    "background = importBackground(backgroundPath)\n",
    "interest = importSubset(subsetPath)\n",
    "\n",
    "gafDict = importGAF(gafPath, background)\n",
    "gterms = importOBO(oboPath)"
   ]
  },
  {
   "cell_type": "code",
   "execution_count": 21,
   "metadata": {
    "collapsed": false,
    "scrolled": true
   },
   "outputs": [
    {
     "name": "stdout",
     "output_type": "stream",
     "text": [
      "{'GO:0032200', 'GO:0045815', 'GO:0031047', 'GO:0090230', 'GO:0030307', 'GO:0048477', 'GO:0000228', 'GO:0042692', 'GO:0006997', 'GO:0007566', 'GO:0005654', 'GO:0005634', 'GO:0031508', 'GO:0045814', 'GO:0000784', 'GO:0000979', 'GO:0000980', 'GO:0044267', 'GO:0031509', 'GO:1902340', 'GO:0008584', 'GO:0007596', 'GO:0001649', 'GO:0005576', 'GO:0008283', 'GO:0043234', 'GO:0007286', 'GO:0006334', 'GO:0005515', 'GO:0046982', 'GO:0000788', 'GO:0070062', 'GO:0000183', 'GO:0001740', 'GO:0007338', 'GO:0042393', 'GO:0035264', 'GO:0031492', 'GO:0000786', 'GO:0006336'}\n",
      "40\n"
     ]
    }
   ],
   "source": [
    "print(gafDict['P84243'])\n",
    "print(len(gafDict['P84243']))"
   ]
  },
  {
   "cell_type": "markdown",
   "metadata": {},
   "source": [
    "# Old version using base case and returning set in each recursion"
   ]
  },
  {
   "cell_type": "code",
   "execution_count": 22,
   "metadata": {
    "collapsed": false
   },
   "outputs": [
    {
     "name": "stdout",
     "output_type": "stream",
     "text": [
      "id GO:0000002 parents {'GO:0007005'}\n",
      "id GO:0000003 parents {'GO:0008150'}\n",
      "id GO:0000001 parents {'GO:0048308', 'GO:0048311'}\n",
      "id GO:0000005 parents set()\n",
      "id GO:0048308 parents {'GO:0000003'}\n",
      "WARNING!\n",
      "GO:0007005 was defined as a parent for GO:0000002 , but was not found in the OBO file.\n",
      "WARNING!\n",
      "GO:0008150 was defined as a parent for GO:0000003 , but was not found in the OBO file.\n",
      "WARNING!\n",
      "GO:0008150 was defined as a parent for GO:0000001 , but was not found in the OBO file.\n",
      "WARNING!\n",
      "GO:0008150 was defined as a parent for GO:0048308 , but was not found in the OBO file.\n",
      "id GO:0000002 parents {'GO:0007005'}\n",
      "id GO:0000003 parents {'GO:0008150'}\n",
      "id GO:0000001 parents {'GO:0048308', 'GO:0000003', 'GO:0008150', 'GO:0048311'}\n",
      "id GO:0000005 parents set()\n",
      "id GO:0048308 parents {'GO:0000003', 'GO:0008150'}\n"
     ]
    }
   ],
   "source": [
    "gterms = importOBO(oboPath)\n",
    "gterms['GO:0048308'] = goTerm('GO:0048308')\n",
    "gterms['GO:0048308'].parents.add('GO:0000003')\n",
    "\n",
    "\n",
    "def buildGOtree(GOdict):\n",
    "    \"\"\"\n",
    "    Generates the entire GO tree by walking through the parent hierarchy of each GO entry.\n",
    "\n",
    "    Parameters\n",
    "    ----------\n",
    "    GOdict : dict\n",
    "        A dictionary of GO objects generated by importOBO().\n",
    "\n",
    "    Returns\n",
    "    -------\n",
    "    dict of OBO objects\n",
    "        Updated GO dict where parent attributes trace back over the full tree hierarchy.\n",
    "        Keys are of the format `GO-0000001` and map to OBO objects.\n",
    "    \"\"\"\n",
    "    for goID, goObj in GOdict.items():                                 # Process each GO term in the GO dictionary\n",
    "        # baseParents = GOdict.get(goID).parents\n",
    "        # if baseParents:                                 # Don't start propagation if GO term has no parents\n",
    "        #     for parent in baseParents:\n",
    "        #         propagateTree(parent, goID, GOdict, set())\n",
    "\n",
    "        # won't work if first order parents have no parents, propagate tree will never reach steps to add these parents\n",
    "\n",
    "        parentSet = set()\n",
    "        completeHigherOrderParentSet = propagateTree(goID, goID, GOdict, parentSet)\n",
    "        goObj.parents.update(completeHigherOrderParentSet)\n",
    "\n",
    "def propagateTree(currentTerm, basegoID, GOdict, parentSet):\n",
    "    \"\"\"\n",
    "    Propagates through the parent hierarchy of a provided GO term.\n",
    "\n",
    "    Parameters\n",
    "    ----------\n",
    "    GOdict : dict\n",
    "        A dictionary of GO objects generated by importOBO().\n",
    "\n",
    "    Returns\n",
    "    -------\n",
    "    dict of OBO objects\n",
    "        Updated GO dict where parent attributes trace back over the full tree hierarchy.\n",
    "        Keys are of the format `GO-0000001` and map to OBO objects.\n",
    "    \"\"\"\n",
    "\n",
    "    # If current term is not present in GO dictionary, print warning and end recursion\n",
    "    if currentTerm not in GOdict:\n",
    "        print('WARNING!\\n' + currentTerm, 'was defined as a parent for',\n",
    "              basegoID, ', but was not found in the OBO file.') \n",
    "        return parentSet\n",
    "    \n",
    "    # If current term has no further parents, stop the recursion and return the set\n",
    "    parents = GOdict[currentTerm].parents\n",
    "    if not parents:\n",
    "        return parentSet\n",
    "\n",
    "    else:\n",
    "        # Add current term's parents to growing set\n",
    "        # and recurse function for each\n",
    "        for parent in parents:           \n",
    "            parentSet.add(parent)\n",
    "            return propagateTree(parent, basegoID, GOdict, parentSet)\n",
    "\n",
    "gterms = importOBO(oboPath)\n",
    "gterms['GO:0048308'] = goTerm('GO:0048308')\n",
    "gterms['GO:0048308'].parents.add('GO:0000003')\n",
    "\n",
    "for i in gterms:\n",
    "    print('id',i,'parents',gterms[i].parents)\n",
    "\n",
    "buildGOtree(gterms)\n",
    "\n",
    "for i in gterms:\n",
    "    print('id',i,'parents',gterms[i].parents)"
   ]
  },
  {
   "cell_type": "code",
   "execution_count": 26,
   "metadata": {
    "collapsed": false,
    "scrolled": false
   },
   "outputs": [
    {
     "name": "stdout",
     "output_type": "stream",
     "text": [
      "id GO:0000002 parents {'GO:0007005'}\n",
      "id GO:0000003 parents {'GO:0008150'}\n",
      "id GO:0000001 parents {'GO:0048308', 'GO:0048311'}\n",
      "id GO:0000005 parents set()\n",
      "id GO:0048308 parents {'GO:0000003'}\n",
      "WARNING!\n",
      "GO:0007005 was defined as a parent for GO:0000002 , but was not found in the OBO file.\n",
      "WARNING!\n",
      "GO:0008150 was defined as a parent for GO:0000003 , but was not found in the OBO file.\n",
      "WARNING!\n",
      "GO:0008150 was defined as a parent for GO:0000001 , but was not found in the OBO file.\n",
      "WARNING!\n",
      "GO:0048311 was defined as a parent for GO:0000001 , but was not found in the OBO file.\n",
      "WARNING!\n",
      "GO:0008150 was defined as a parent for GO:0048308 , but was not found in the OBO file.\n",
      "id GO:0000002 parents {'GO:0007005'}\n",
      "id GO:0000003 parents {'GO:0008150'}\n",
      "id GO:0000001 parents {'GO:0048308', 'GO:0008150', 'GO:0000003', 'GO:0048311'}\n",
      "id GO:0000005 parents set()\n",
      "id GO:0048308 parents {'GO:0000003', 'GO:0008150'}\n"
     ]
    }
   ],
   "source": [
    "def buildGOtree(GOdict):\n",
    "    \"\"\"\n",
    "    Generates the entire GO tree's parent structure by walking through the parent hierarchy of each GO entry.\n",
    "\n",
    "    Parameters\n",
    "    ----------\n",
    "    GOdict : dict\n",
    "        A dictionary of GO objects generated by importOBO().\n",
    "        Keys are of the format `GO-0000001` and map to OBO objects.\n",
    "\n",
    "    Returns\n",
    "    -------\n",
    "    None\n",
    "        The input GO dictionary will be updated.\n",
    "        Parent attributes now trace back over the full tree hierarchy.\n",
    "    \"\"\"\n",
    "\n",
    "    # Process each GO term in the GO dictionary\n",
    "    for goID, obj in GOdict.items():\n",
    "        # Define new set to store higher order parents\n",
    "        parentSet = set()\n",
    "        # Call helper function to propagate through parents\n",
    "        propagateTree(goID, goID, GOdict, parentSet)\n",
    "        # Update GO term's parents attribute to include all higher order\n",
    "        # parents\n",
    "        obj.parents.update(parentSet)\n",
    "\n",
    "    return None\n",
    "\n",
    "\n",
    "def propagateTree(currentTerm, basegoID, GOdict, parentSet):\n",
    "    \"\"\"\n",
    "    Propagates through the parent hierarchy of a provided GO term.\n",
    "\n",
    "    Parameters\n",
    "    ----------\n",
    "    GOdict : dict\n",
    "        A dictionary of GO objects generated by importOBO().\n",
    "\n",
    "    Returns\n",
    "    -------\n",
    "    dict of OBO objects\n",
    "        Updated GO dict where parent attributes trace back over the full tree hierarchy.\n",
    "        Keys are of the format `GO-0000001` and map to OBO objects.\n",
    "    \"\"\"\n",
    "\n",
    "    # If current term is not present in GO dictionary, print warning and end recursion\n",
    "    if currentTerm not in GOdict:\n",
    "        print('WARNING!\\n' + currentTerm, 'was defined as a parent for',\n",
    "              basegoID, ', but was not found in the OBO file.')\n",
    "        return\n",
    "\n",
    "    # If current term has no further parents will end and move\n",
    "    # back up the stack, since there are no parents to iterate over\n",
    "    parents = GOdict.get(currentTerm).parents\n",
    "    for parent in parents:\n",
    "\n",
    "#         # Check if parent is present in GO dictionary\n",
    "#         if parent not in GOdict:\n",
    "#             print('WARNING!\\n' + parent, 'was defined as a parent for',\n",
    "#                   basegoID, ', but was not found in the OBO file.')\n",
    "\n",
    "        # Add current term's parents to growing set\n",
    "        parentSet.add(parent)\n",
    "\n",
    "        # and recurse function for each parent\n",
    "        propagateTree(parent, basegoID, GOdict, parentSet)\n",
    "        \n",
    "        \n",
    "gterms = importOBO(oboPath)\n",
    "gterms['GO:0048308'] = goTerm('GO:0048308')\n",
    "gterms['GO:0048308'].parents.add('GO:0000003')\n",
    "\n",
    "for i in gterms:\n",
    "    print('id',i,'parents',gterms[i].parents)\n",
    "\n",
    "buildGOtree(gterms)\n",
    "\n",
    "for i in gterms:\n",
    "    print('id',i,'parents',gterms[i].parents)"
   ]
  },
  {
   "cell_type": "code",
   "execution_count": 24,
   "metadata": {
    "collapsed": false
   },
   "outputs": [
    {
     "name": "stdout",
     "output_type": "stream",
     "text": [
      "1271\n",
      "10\n",
      "5\n"
     ]
    }
   ],
   "source": [
    "s = set()\n",
    "for k,v in gafDict.items():\n",
    "    s.update(v)\n",
    "print(len(s))\n",
    "s = set()\n",
    "for k,v in gterms.items():\n",
    "    s.update(k)\n",
    "print(len(s))\n",
    "print(len(gterms))"
   ]
  },
  {
   "cell_type": "code",
   "execution_count": 25,
   "metadata": {
    "collapsed": false,
    "scrolled": true
   },
   "outputs": [
    {
     "name": "stdout",
     "output_type": "stream",
     "text": [
      "id GO:0000002 parents {'GO:0007005'}\n",
      "id GO:0000003 parents {'GO:0008150'}\n",
      "id GO:0000001 parents {'GO:0048308', 'GO:0048311'}\n",
      "id GO:0000005 parents set()\n",
      "id GO:0048308 parents {'GO:0000003'}\n"
     ]
    },
    {
     "ename": "TypeError",
     "evalue": "buildGOtree() missing 1 required positional argument: 'gafDict'",
     "output_type": "error",
     "traceback": [
      "\u001b[0;31m---------------------------------------------------------------------------\u001b[0m",
      "\u001b[0;31mTypeError\u001b[0m                                 Traceback (most recent call last)",
      "\u001b[0;32m<ipython-input-25-07ac945b77d8>\u001b[0m in \u001b[0;36m<module>\u001b[0;34m()\u001b[0m\n\u001b[1;32m     88\u001b[0m     \u001b[0mprint\u001b[0m\u001b[0;34m(\u001b[0m\u001b[0;34m'id'\u001b[0m\u001b[0;34m,\u001b[0m\u001b[0mi\u001b[0m\u001b[0;34m,\u001b[0m\u001b[0;34m'parents'\u001b[0m\u001b[0;34m,\u001b[0m\u001b[0mgterms\u001b[0m\u001b[0;34m[\u001b[0m\u001b[0mi\u001b[0m\u001b[0;34m]\u001b[0m\u001b[0;34m.\u001b[0m\u001b[0mparents\u001b[0m\u001b[0;34m)\u001b[0m\u001b[0;34m\u001b[0m\u001b[0m\n\u001b[1;32m     89\u001b[0m \u001b[0;34m\u001b[0m\u001b[0m\n\u001b[0;32m---> 90\u001b[0;31m \u001b[0mbuildGOtree\u001b[0m\u001b[0;34m(\u001b[0m\u001b[0mgterms\u001b[0m\u001b[0;34m)\u001b[0m\u001b[0;34m\u001b[0m\u001b[0m\n\u001b[0m\u001b[1;32m     91\u001b[0m \u001b[0;34m\u001b[0m\u001b[0m\n\u001b[1;32m     92\u001b[0m \u001b[0;32mfor\u001b[0m \u001b[0mi\u001b[0m \u001b[0;32min\u001b[0m \u001b[0mgterms\u001b[0m\u001b[0;34m:\u001b[0m\u001b[0;34m\u001b[0m\u001b[0m\n",
      "\u001b[0;31mTypeError\u001b[0m: buildGOtree() missing 1 required positional argument: 'gafDict'"
     ]
    }
   ],
   "source": [
    "def buildGOtree(GOdict, gafDict):\n",
    "    \"\"\"\n",
    "    Generates the entire GO tree's parent structure by walking through the parent hierarchy of each GO entry.\n",
    "\n",
    "    Parameters\n",
    "    ----------\n",
    "    GOdict : dict\n",
    "        A dictionary of GO objects generated by importOBO().\n",
    "        Keys are of the format `GO-0000001` and map to OBO objects.\n",
    "\n",
    "    Returns\n",
    "    -------\n",
    "    None\n",
    "        The input GO dictionary will be updated.\n",
    "        Parent attributes now trace back over the full tree hierarchy.\n",
    "    \"\"\"\n",
    "    \n",
    "    backgroundSetTerms = set()\n",
    "    for gene, goids in gafDict.items():\n",
    "        backgroundSetTerms.update(goids)\n",
    "        \n",
    "    newGOdict = {}\n",
    "    \n",
    "    for goid in backgroundSetTerms:\n",
    "        parentSet = set()\n",
    "        propagateTree(goID, goID, GOdict, newGOdict, parentSet)\n",
    "        # wont work cause only adding base goids, not higher ups\n",
    "    return newGOdict\n",
    "    \n",
    "    \n",
    "    # Process each GO term in the GO dictionary\n",
    "    for goID, obj in GOdict.items():\n",
    "        # Define new set to store higher order parents\n",
    "        parentSet = set()\n",
    "        # Call helper function to propagate through parents\n",
    "        propagateTree(goID, goID, GOdict, parentSet)\n",
    "        # Update GO term's parents attribute to include all higher order\n",
    "        # parents\n",
    "        obj.parents.update(parentSet)\n",
    "\n",
    "    return None\n",
    "\n",
    "\n",
    "def propagateTree(currentTerm, basegoID, GOdict, parentSet):\n",
    "    \"\"\"\n",
    "    Propagates through the parent hierarchy of a provided GO term.\n",
    "\n",
    "    Parameters\n",
    "    ----------\n",
    "    GOdict : dict\n",
    "        A dictionary of GO objects generated by importOBO().\n",
    "\n",
    "    Returns\n",
    "    -------\n",
    "    dict of OBO objects\n",
    "        Updated GO dict where parent attributes trace back over the full tree hierarchy.\n",
    "        Keys are of the format `GO-0000001` and map to OBO objects.\n",
    "    \"\"\"\n",
    "\n",
    "    # If current term is not present in GO dictionary, print warning and end recursion\n",
    "    if currentTerm not in GOdict:\n",
    "        print('WARNING!\\n' + currentTerm, 'was defined as a parent for',\n",
    "              basegoID, ', but was not found in the OBO file.')\n",
    "        return\n",
    "\n",
    "    # If current term has no further parents will end and move\n",
    "    # back up the stack, since there are no parents to iterate over\n",
    "    parents = GOdict.get(currentTerm).parents\n",
    "    for parent in parents:\n",
    "\n",
    "#         # Check if parent is present in GO dictionary\n",
    "#         if parent not in GOdict:\n",
    "#             print('WARNING!\\n' + parent, 'was defined as a parent for',\n",
    "#                   basegoID, ', but was not found in the OBO file.')\n",
    "\n",
    "        # Add current term's parents to growing set\n",
    "        parentSet.add(parent)\n",
    "\n",
    "        # and recurse function for each parent\n",
    "        propagateTree(parent, basegoID, GOdict, parentSet)\n",
    "        \n",
    "        \n",
    "gterms = importOBO(oboPath)\n",
    "gterms['GO:0048308'] = goTerm('GO:0048308')\n",
    "gterms['GO:0048308'].parents.add('GO:0000003')\n",
    "\n",
    "for i in gterms:\n",
    "    print('id',i,'parents',gterms[i].parents)\n",
    "\n",
    "buildGOtree(gterms)\n",
    "\n",
    "for i in gterms:\n",
    "    print('id',i,'parents',gterms[i].parents)"
   ]
  },
  {
   "cell_type": "code",
   "execution_count": 40,
   "metadata": {
    "collapsed": false,
    "scrolled": true
   },
   "outputs": [
    {
     "name": "stdout",
     "output_type": "stream",
     "text": [
      "id GO:0060373 parents {'GO:0065007', 'GO:0032844', 'GO:2000021', 'GO:0003254', 'GO:0050789', 'GO:0050794', 'GO:0042391', 'GO:0008150', 'GO:0065008'} children set()\n",
      "id GO:0048245 parents {'GO:0006935', 'GO:0044699', 'GO:0002376', 'GO:0042330', 'GO:0050900', 'GO:0016477', 'GO:0040011', 'GO:0097529', 'GO:0044763', 'GO:0009987', 'GO:0097530', 'GO:0071621', 'GO:0030595', 'GO:0072677', 'GO:0048870', 'GO:0006928', 'GO:0060326', 'GO:0008150'} children set()\n",
      "id GO:0044077 parents {'GO:0044068', 'GO:0065007', 'GO:0032879', 'GO:0044003', 'GO:0050789', 'GO:0051049', 'GO:0035821', 'GO:0048259', 'GO:0044419', 'GO:0060627', 'GO:0051128', 'GO:0051817', 'GO:0050794', 'GO:0051704', 'GO:0030100', 'GO:0051701', 'GO:0008150', 'GO:0065008'} children set()\n",
      "id GO:0042925 parents {'GO:0042910', 'GO:0003674', 'GO:0005215'} children set()\n",
      "id GO:1902361 parents {'GO:0044699', 'GO:0006810', 'GO:0015711', 'GO:1905039', 'GO:0006820', 'GO:0006848', 'GO:0006850', 'GO:0055085', 'GO:1902578', 'GO:0044765', 'GO:0051179', 'GO:0046942', 'GO:0006839', 'GO:0015849', 'GO:0006811', 'GO:0051234', 'GO:0071702', 'GO:1990542', 'GO:0034220', 'GO:1903825', 'GO:0098656', 'GO:1901475', 'GO:0015718', 'GO:0008150'} children set()\n",
      "id GO:1902361 parents {'GO:0044699', 'GO:0006810', 'GO:0015711', 'GO:1905039', 'GO:0006820', 'GO:0006848', 'GO:0006850', 'GO:0055085', 'GO:1902578', 'GO:0044765', 'GO:0051179', 'GO:0046942', 'GO:0006839', 'GO:0015849', 'GO:0006811', 'GO:0051234', 'GO:0071702', 'GO:1990542', 'GO:0034220', 'GO:1903825', 'GO:0098656', 'GO:1901475', 'GO:0015718', 'GO:0008150'} children set()\n",
      "id GO:1902361 parents {'GO:0044699', 'GO:0006810', 'GO:0015711', 'GO:1905039', 'GO:0006820', 'GO:0006848', 'GO:0006850', 'GO:0055085', 'GO:1902578', 'GO:0044765', 'GO:0051179', 'GO:0046942', 'GO:0006839', 'GO:0015849', 'GO:0006811', 'GO:0051234', 'GO:0071702', 'GO:1990542', 'GO:0034220', 'GO:1903825', 'GO:0098656', 'GO:1901475', 'GO:0015718', 'GO:0008150'} children set()\n",
      "id GO:0000001 parents {'GO:0051179', 'GO:0051640', 'GO:0048308', 'GO:0071840', 'GO:0009987', 'GO:0051646', 'GO:0016043', 'GO:0051641', 'GO:0048311', 'GO:0006996', 'GO:0007005', 'GO:0008150'} children set()\n",
      "id GO:0000002 parents {'GO:0016043', 'GO:0009987', 'GO:0071840', 'GO:0006996', 'GO:0007005', 'GO:0008150'} children set()\n",
      "after\n",
      "id GO:0060373 parents {'GO:0065007', 'GO:0032844', 'GO:2000021', 'GO:0003254', 'GO:0050789', 'GO:0050794', 'GO:0042391', 'GO:0008150', 'GO:0065008'} children set()\n",
      "id GO:0048245 parents {'GO:0006935', 'GO:0044699', 'GO:0002376', 'GO:0042330', 'GO:0050900', 'GO:0016477', 'GO:0040011', 'GO:0097529', 'GO:0044763', 'GO:0009987', 'GO:0097530', 'GO:0071621', 'GO:0030595', 'GO:0072677', 'GO:0048870', 'GO:0006928', 'GO:0060326', 'GO:0008150'} children set()\n",
      "id GO:0044077 parents {'GO:0044068', 'GO:0065007', 'GO:0032879', 'GO:0044003', 'GO:0050789', 'GO:0051049', 'GO:0035821', 'GO:0048259', 'GO:0044419', 'GO:0060627', 'GO:0051128', 'GO:0051817', 'GO:0050794', 'GO:0051704', 'GO:0030100', 'GO:0051701', 'GO:0008150', 'GO:0065008'} children {'GO:0044078'}\n",
      "id GO:0042925 parents {'GO:0042910', 'GO:0003674', 'GO:0005215'} children set()\n",
      "id GO:1902361 parents {'GO:0044699', 'GO:0006810', 'GO:0015711', 'GO:1905039', 'GO:0006820', 'GO:0006848', 'GO:0006850', 'GO:0055085', 'GO:1902578', 'GO:0044765', 'GO:0051179', 'GO:0046942', 'GO:0006839', 'GO:0015849', 'GO:0006811', 'GO:0051234', 'GO:0071702', 'GO:1990542', 'GO:0034220', 'GO:1903825', 'GO:0098656', 'GO:1901475', 'GO:0015718', 'GO:0008150'} children set()\n",
      "id GO:1902361 parents {'GO:0044699', 'GO:0006810', 'GO:0015711', 'GO:1905039', 'GO:0006820', 'GO:0006848', 'GO:0006850', 'GO:0055085', 'GO:1902578', 'GO:0044765', 'GO:0051179', 'GO:0046942', 'GO:0006839', 'GO:0015849', 'GO:0006811', 'GO:0051234', 'GO:0071702', 'GO:1990542', 'GO:0034220', 'GO:1903825', 'GO:0098656', 'GO:1901475', 'GO:0015718', 'GO:0008150'} children set()\n",
      "id GO:1902361 parents {'GO:0044699', 'GO:0006810', 'GO:0015711', 'GO:1905039', 'GO:0006820', 'GO:0006848', 'GO:0006850', 'GO:0055085', 'GO:1902578', 'GO:0044765', 'GO:0051179', 'GO:0046942', 'GO:0006839', 'GO:0015849', 'GO:0006811', 'GO:0051234', 'GO:0071702', 'GO:1990542', 'GO:0034220', 'GO:1903825', 'GO:0098656', 'GO:1901475', 'GO:0015718', 'GO:0008150'} children set()\n",
      "id GO:0000001 parents {'GO:0051179', 'GO:0051640', 'GO:0048308', 'GO:0071840', 'GO:0009987', 'GO:0051646', 'GO:0016043', 'GO:0051641', 'GO:0048311', 'GO:0006996', 'GO:0007005', 'GO:0008150'} children set()\n",
      "id GO:0000002 parents {'GO:0016043', 'GO:0009987', 'GO:0071840', 'GO:0006996', 'GO:0007005', 'GO:0008150'} children {'GO:0033955'}\n"
     ]
    }
   ],
   "source": [
    "# get children\n",
    "\n",
    "for i in ['GO:0060373', 'GO:0048245', 'GO:0044077', 'GO:0042925', 'GO:1902361', 'GO:1902361', 'GO:1902361', 'GO:0000001', 'GO:0000002']:\n",
    "    print('id',i,'parents',gterms[i].parents,'children',gterms[i].childs)\n",
    "\n",
    "for k, v in gterms.items():\n",
    "    for parent in v.parents:\n",
    "        gterms[parent].childs.add(k)\n",
    "\n",
    "print('after')\n",
    "for i in ['GO:0060373', 'GO:0048245', 'GO:0044077', 'GO:0042925', 'GO:1902361', 'GO:1902361', 'GO:1902361', 'GO:0000001', 'GO:0000002']:\n",
    "    print('id',i,'parents',gterms[i].parents,'children',gterms[i].childs)"
   ]
  },
  {
   "cell_type": "code",
   "execution_count": 43,
   "metadata": {
    "collapsed": false
   },
   "outputs": [
    {
     "name": "stdout",
     "output_type": "stream",
     "text": [
      "{'GO:0044068', 'GO:0065008', 'GO:0065007', 'GO:0045807', 'GO:0044077', 'GO:0044003', 'GO:0032879', 'GO:0050789', 'GO:0051049', 'GO:0035821', 'GO:0051050', 'GO:0044419', 'GO:0048259', 'GO:0060627', 'GO:0051128', 'GO:0048260', 'GO:0048518', 'GO:0051817', 'GO:0048522', 'GO:0050794', 'GO:0051704', 'GO:0030100', 'GO:0051701', 'GO:0008150', 'GO:0051130'}\n"
     ]
    }
   ],
   "source": [
    "print(gterms['GO:0044078'].parents)\n",
    "for goid in gterms:\n",
    "    if 'GO:0042925' in gterms[goid].parents:\n",
    "        print(goid,'isparentof GO:0042925')"
   ]
  },
  {
   "cell_type": "code",
   "execution_count": 29,
   "metadata": {
    "collapsed": false,
    "scrolled": true
   },
   "outputs": [
    {
     "name": "stdout",
     "output_type": "stream",
     "text": [
      "Retrieved 146 background uniprot AC's from /media/pieter/DATA/github/ebola-go/data/background.txt\n",
      "Retrieved 26 subset uniprot AC's from /media/pieter/DATA/github/ebola-go/data/missing.txt\n",
      "Retrieved 145 annotated (background filtered) uniprot AC's from /media/pieter/DATA/github/ebola-go/data/go_data/goa_human.gaf\n",
      "\n",
      "WARNING!\n",
      "Not every uniprot AC that was provided in the background set was found in the GAF file:\n",
      "F8VVM2\n",
      "WARNING!\n",
      "\n",
      "background\n",
      " {'P35637', 'Q00325', 'P09651', 'Q96HA1', 'Q92688', 'P68104', 'Q16778', 'Q969J3', 'P10412', 'P31943', 'Q00839', 'O43175', 'P45880', 'O15131', 'Q5QNW6', 'O15269', 'P21796', 'Q71UM5', 'Q8IXQ5', 'O60684', 'P51532', 'O95816', 'Q96B45', 'P05386', 'Q9P258', 'Q12906', 'P31942', 'P39687', 'P49755', 'P60866', 'P12273', 'P57053', 'P51571', 'P17987', 'Q15758', 'Q16531', 'P23527', 'P62879', 'P61978', 'Q96FJ2', 'Q14164', 'P27708', 'Q9UIG0', 'O75569', 'O43791', 'P58876', 'Q6NXT2', 'P0DMV9', 'Q96TA2', 'P22626', 'O95831', 'P04843', 'Q99880', 'P55795', 'P68431', 'P05141', 'Q99878', 'Q9UHD2', 'P78537', 'P22102', 'Q14839', 'P20700', 'Q05639', 'Q9NQ55', 'Q99879', 'P78527', 'Q8TAQ2', 'P10606', 'Q9UNL2', 'Q7L7L0', 'P23396', 'P04844', 'Q93008', 'Q9Y4I1', 'P35268', 'P06899', 'P14866', 'Q93079', 'P16615', 'P12036', 'Q14257', 'Q32P51', 'P50402', 'P51149', 'P49790', 'A8CG34', 'Q99877', 'P46934', 'Q8N257', 'Q14974', 'P0C0S8', 'P04908', 'P52597', 'P31689', 'P05388', 'Q6FI13', 'P63167', 'P12004', 'Q9BQE3', 'Q16777', 'P62807', 'Q96AX9', 'Q08211', 'O00264', 'Q71DI3', 'Q969G3', 'P35613', 'P42677', 'P19338', 'P84243', 'P62805', 'Q8WWM7', 'Q9NQX4', 'P08708', 'P05023', 'Q6P2E9', 'Q71U36', 'Q16695', 'Q99832', 'Q9BTM1', 'P33778', 'Q99729', 'P48643', 'Q13263', 'P30050', 'Q96CS3', 'Q9UFW8', 'F8VVM2', 'P20671', 'Q93077', 'P07919', 'Q9Y5M8', 'P52294', 'Q8N163', 'P11142', 'P08238', 'P35232', 'P49411', 'P07437', 'O60814', 'Q96A08', 'Q15907', 'Q5VTE0', 'P53992', 'Q96KK5', 'Q09028'}\n",
      "interest\n",
      " {'P35637', 'P35268', 'P10412', 'P31943', 'P12036', 'Q16695', 'Q32P51', 'O15131', 'A8CG34', 'Q99877', 'F8VVM2', 'Q71UM5', 'Q8N257', 'P51532', 'Q9Y5M8', 'Q9BQE3', 'Q96AX9', 'P27708', 'Q14839', 'P49411', 'Q99879', 'P0DMV9', 'P35613', 'Q5VTE0', 'Q8TAQ2', 'Q96KK5'}\n",
      "id GO:0060373 parents {'GO:0003254'}\n",
      "id GO:0048245 parents {'GO:0072677', 'GO:0071621'}\n",
      "id GO:0044077 parents {'GO:0044068', 'GO:0048259'}\n",
      "id GO:0042925 parents {'GO:0042910'}\n",
      "id GO:1902361 parents {'GO:1901475', 'GO:0006850', 'GO:1990542'}\n",
      "id GO:1902361 parents {'GO:1901475', 'GO:0006850', 'GO:1990542'}\n",
      "id GO:1902361 parents {'GO:1901475', 'GO:0006850', 'GO:1990542'}\n",
      "id GO:0000001 parents {'GO:0048308', 'GO:0048311'}\n",
      "id GO:0000002 parents {'GO:0007005'}\n",
      "id GO:0060373 parents {'GO:0050789', 'GO:2000021', 'GO:0032844', 'GO:0065008', 'GO:0008150', 'GO:0050794', 'GO:0065007', 'GO:0042391', 'GO:0003254'}\n",
      "id GO:0048245 parents {'GO:0060326', 'GO:0002376', 'GO:0044763', 'GO:0097529', 'GO:0016477', 'GO:0040011', 'GO:0048870', 'GO:0050900', 'GO:0042330', 'GO:0097530', 'GO:0030595', 'GO:0071621', 'GO:0044699', 'GO:0009987', 'GO:0006928', 'GO:0072677', 'GO:0008150', 'GO:0006935'}\n",
      "id GO:0044077 parents {'GO:0051817', 'GO:0048259', 'GO:0051128', 'GO:0065008', 'GO:0051704', 'GO:0044003', 'GO:0044068', 'GO:0035821', 'GO:0050789', 'GO:0060627', 'GO:0050794', 'GO:0008150', 'GO:0030100', 'GO:0051049', 'GO:0032879', 'GO:0065007', 'GO:0051701', 'GO:0044419'}\n",
      "id GO:0042925 parents {'GO:0042910', 'GO:0005215', 'GO:0003674'}\n",
      "id GO:1902361 parents {'GO:0044765', 'GO:0006839', 'GO:0006850', 'GO:0006810', 'GO:0006820', 'GO:0051179', 'GO:1905039', 'GO:1990542', 'GO:0051234', 'GO:0044699', 'GO:0015849', 'GO:0006848', 'GO:0055085', 'GO:0046942', 'GO:0015718', 'GO:0034220', 'GO:0098656', 'GO:1902578', 'GO:1903825', 'GO:0071702', 'GO:0008150', 'GO:1901475', 'GO:0006811', 'GO:0015711'}\n",
      "id GO:1902361 parents {'GO:0044765', 'GO:0006839', 'GO:0006850', 'GO:0006810', 'GO:0006820', 'GO:0051179', 'GO:1905039', 'GO:1990542', 'GO:0051234', 'GO:0044699', 'GO:0015849', 'GO:0006848', 'GO:0055085', 'GO:0046942', 'GO:0015718', 'GO:0034220', 'GO:0098656', 'GO:1902578', 'GO:1903825', 'GO:0071702', 'GO:0008150', 'GO:1901475', 'GO:0006811', 'GO:0015711'}\n",
      "id GO:1902361 parents {'GO:0044765', 'GO:0006839', 'GO:0006850', 'GO:0006810', 'GO:0006820', 'GO:0051179', 'GO:1905039', 'GO:1990542', 'GO:0051234', 'GO:0044699', 'GO:0015849', 'GO:0006848', 'GO:0055085', 'GO:0046942', 'GO:0015718', 'GO:0034220', 'GO:0098656', 'GO:1902578', 'GO:1903825', 'GO:0071702', 'GO:0008150', 'GO:1901475', 'GO:0006811', 'GO:0015711'}\n",
      "id GO:0000001 parents {'GO:0006996', 'GO:0071840', 'GO:0007005', 'GO:0009987', 'GO:0016043', 'GO:0008150', 'GO:0048308', 'GO:0051646', 'GO:0051179', 'GO:0051640', 'GO:0051641', 'GO:0048311'}\n",
      "id GO:0000002 parents {'GO:0008150', 'GO:0071840', 'GO:0007005', 'GO:0009987', 'GO:0016043', 'GO:0006996'}\n"
     ]
    }
   ],
   "source": [
    "backgroundPath = os.path.abspath('../data/background.txt')\n",
    "subsetPath = os.path.abspath('../data/missing.txt')\n",
    "oboPath = os.path.abspath('../data/go_data/go.obo')\n",
    "gafPath = os.path.abspath('../data/go_data/goa_human.gaf')\n",
    "\n",
    "minGenes = 5\n",
    "threshold = 0.1\n",
    "\n",
    "background = importBackground(backgroundPath)\n",
    "interest = importSubset(subsetPath)\n",
    "gafDict = importGAF(gafPath, background)\n",
    "gterms = importOBO(oboPath)\n",
    "print('background\\n', background)\n",
    "print('interest\\n', interest)\n",
    "\n",
    "for i in ['GO:0060373', 'GO:0048245', 'GO:0044077', 'GO:0042925', 'GO:1902361', 'GO:1902361', 'GO:1902361', 'GO:0000001', 'GO:0000002']:\n",
    "    print('id',i,'parents',gterms[i].parents)\n",
    "\n",
    "buildGOtree(gterms)\n",
    "\n",
    "for i in ['GO:0060373', 'GO:0048245', 'GO:0044077', 'GO:0042925', 'GO:1902361', 'GO:1902361', 'GO:1902361', 'GO:0000001', 'GO:0000002']:\n",
    "    print('id',i,'parents',gterms[i].parents)"
   ]
  },
  {
   "cell_type": "code",
   "execution_count": 30,
   "metadata": {
    "collapsed": false,
    "scrolled": true
   },
   "outputs": [
    {
     "name": "stdout",
     "output_type": "stream",
     "text": [
      "id GO:0060373 parents {'GO:0050789', 'GO:2000021', 'GO:0032844', 'GO:0065008', 'GO:0008150', 'GO:0050794', 'GO:0065007', 'GO:0042391', 'GO:0003254'} children set()\n",
      "id GO:0048245 parents {'GO:0060326', 'GO:0002376', 'GO:0044763', 'GO:0097529', 'GO:0016477', 'GO:0040011', 'GO:0048870', 'GO:0050900', 'GO:0042330', 'GO:0097530', 'GO:0030595', 'GO:0071621', 'GO:0044699', 'GO:0009987', 'GO:0006928', 'GO:0072677', 'GO:0008150', 'GO:0006935'} children set()\n",
      "id GO:0044077 parents {'GO:0051817', 'GO:0048259', 'GO:0051128', 'GO:0065008', 'GO:0051704', 'GO:0044003', 'GO:0044068', 'GO:0035821', 'GO:0050789', 'GO:0060627', 'GO:0050794', 'GO:0008150', 'GO:0030100', 'GO:0051049', 'GO:0032879', 'GO:0065007', 'GO:0051701', 'GO:0044419'} children set()\n",
      "id GO:0042925 parents {'GO:0042910', 'GO:0005215', 'GO:0003674'} children set()\n",
      "id GO:1902361 parents {'GO:0044765', 'GO:0006839', 'GO:0006850', 'GO:0006810', 'GO:0006820', 'GO:0051179', 'GO:1905039', 'GO:1990542', 'GO:0051234', 'GO:0044699', 'GO:0015849', 'GO:0006848', 'GO:0055085', 'GO:0046942', 'GO:0015718', 'GO:0034220', 'GO:0098656', 'GO:1902578', 'GO:1903825', 'GO:0071702', 'GO:0008150', 'GO:1901475', 'GO:0006811', 'GO:0015711'} children set()\n",
      "id GO:1902361 parents {'GO:0044765', 'GO:0006839', 'GO:0006850', 'GO:0006810', 'GO:0006820', 'GO:0051179', 'GO:1905039', 'GO:1990542', 'GO:0051234', 'GO:0044699', 'GO:0015849', 'GO:0006848', 'GO:0055085', 'GO:0046942', 'GO:0015718', 'GO:0034220', 'GO:0098656', 'GO:1902578', 'GO:1903825', 'GO:0071702', 'GO:0008150', 'GO:1901475', 'GO:0006811', 'GO:0015711'} children set()\n",
      "id GO:1902361 parents {'GO:0044765', 'GO:0006839', 'GO:0006850', 'GO:0006810', 'GO:0006820', 'GO:0051179', 'GO:1905039', 'GO:1990542', 'GO:0051234', 'GO:0044699', 'GO:0015849', 'GO:0006848', 'GO:0055085', 'GO:0046942', 'GO:0015718', 'GO:0034220', 'GO:0098656', 'GO:1902578', 'GO:1903825', 'GO:0071702', 'GO:0008150', 'GO:1901475', 'GO:0006811', 'GO:0015711'} children set()\n",
      "id GO:0000001 parents {'GO:0006996', 'GO:0071840', 'GO:0007005', 'GO:0009987', 'GO:0016043', 'GO:0008150', 'GO:0048308', 'GO:0051646', 'GO:0051179', 'GO:0051640', 'GO:0051641', 'GO:0048311'} children set()\n",
      "id GO:0000002 parents {'GO:0008150', 'GO:0071840', 'GO:0007005', 'GO:0009987', 'GO:0016043', 'GO:0006996'} children set()\n",
      "completechildhierarchy\n",
      "id GO:0060373 parents {'GO:0050789', 'GO:2000021', 'GO:0032844', 'GO:0065008', 'GO:0008150', 'GO:0050794', 'GO:0065007', 'GO:0042391', 'GO:0003254'} children set()\n",
      "id GO:0048245 parents {'GO:0060326', 'GO:0002376', 'GO:0044763', 'GO:0097529', 'GO:0016477', 'GO:0040011', 'GO:0048870', 'GO:0050900', 'GO:0042330', 'GO:0097530', 'GO:0030595', 'GO:0071621', 'GO:0044699', 'GO:0009987', 'GO:0006928', 'GO:0072677', 'GO:0008150', 'GO:0006935'} children set()\n",
      "id GO:0044077 parents {'GO:0051817', 'GO:0048259', 'GO:0051128', 'GO:0065008', 'GO:0051704', 'GO:0044003', 'GO:0044068', 'GO:0035821', 'GO:0050789', 'GO:0060627', 'GO:0050794', 'GO:0008150', 'GO:0030100', 'GO:0051049', 'GO:0032879', 'GO:0065007', 'GO:0051701', 'GO:0044419'} children {'GO:0044078'}\n",
      "id GO:0042925 parents {'GO:0042910', 'GO:0005215', 'GO:0003674'} children set()\n",
      "id GO:1902361 parents {'GO:0044765', 'GO:0006839', 'GO:0006850', 'GO:0006810', 'GO:0006820', 'GO:0051179', 'GO:1905039', 'GO:1990542', 'GO:0051234', 'GO:0044699', 'GO:0015849', 'GO:0006848', 'GO:0055085', 'GO:0046942', 'GO:0015718', 'GO:0034220', 'GO:0098656', 'GO:1902578', 'GO:1903825', 'GO:0071702', 'GO:0008150', 'GO:1901475', 'GO:0006811', 'GO:0015711'} children set()\n",
      "id GO:1902361 parents {'GO:0044765', 'GO:0006839', 'GO:0006850', 'GO:0006810', 'GO:0006820', 'GO:0051179', 'GO:1905039', 'GO:1990542', 'GO:0051234', 'GO:0044699', 'GO:0015849', 'GO:0006848', 'GO:0055085', 'GO:0046942', 'GO:0015718', 'GO:0034220', 'GO:0098656', 'GO:1902578', 'GO:1903825', 'GO:0071702', 'GO:0008150', 'GO:1901475', 'GO:0006811', 'GO:0015711'} children set()\n",
      "id GO:1902361 parents {'GO:0044765', 'GO:0006839', 'GO:0006850', 'GO:0006810', 'GO:0006820', 'GO:0051179', 'GO:1905039', 'GO:1990542', 'GO:0051234', 'GO:0044699', 'GO:0015849', 'GO:0006848', 'GO:0055085', 'GO:0046942', 'GO:0015718', 'GO:0034220', 'GO:0098656', 'GO:1902578', 'GO:1903825', 'GO:0071702', 'GO:0008150', 'GO:1901475', 'GO:0006811', 'GO:0015711'} children set()\n",
      "id GO:0000001 parents {'GO:0006996', 'GO:0071840', 'GO:0007005', 'GO:0009987', 'GO:0016043', 'GO:0008150', 'GO:0048308', 'GO:0051646', 'GO:0051179', 'GO:0051640', 'GO:0051641', 'GO:0048311'} children set()\n",
      "id GO:0000002 parents {'GO:0008150', 'GO:0071840', 'GO:0007005', 'GO:0009987', 'GO:0016043', 'GO:0006996'} children {'GO:0033955'}\n"
     ]
    }
   ],
   "source": [
    "def completeChildHierarchy(GOdict):\n",
    "    for GOid, GOobj in GOdict.items():\n",
    "        [GOdict[parent].childs.add(GOid) for parent in GOobj.parents]\n",
    "        \n",
    "for i in ['GO:0060373', 'GO:0048245', 'GO:0044077', 'GO:0042925', 'GO:1902361', 'GO:1902361', 'GO:1902361', 'GO:0000001', 'GO:0000002']:\n",
    "    print('id',i,'parents',gterms[i].parents,'children',gterms[i].childs)   \n",
    "    \n",
    "completeChildHierarchy(gterms)\n",
    "\n",
    "print('completechildhierarchy')\n",
    "\n",
    "for i in ['GO:0060373', 'GO:0048245', 'GO:0044077', 'GO:0042925', 'GO:1902361', 'GO:1902361', 'GO:1902361', 'GO:0000001', 'GO:0000002']:\n",
    "    print('id',i,'parents',gterms[i].parents,'children',gterms[i].childs)"
   ]
  },
  {
   "cell_type": "code",
   "execution_count": 71,
   "metadata": {
    "collapsed": false,
    "scrolled": true
   },
   "outputs": [
    {
     "name": "stdout",
     "output_type": "stream",
     "text": [
      "{'GO:0008270', 'GO:0035255', 'GO:1903506', 'GO:0000166', 'GO:0003677', 'GO:0005654', 'GO:0005634', 'GO:0005844', 'GO:0031489', 'GO:0042802', 'GO:0044822', 'GO:0071277', 'GO:0046965', 'GO:0003713', 'GO:0030331', 'GO:0044327', 'GO:0005515', 'GO:0046966', 'GO:0003723', 'GO:0048471', 'GO:0000398', 'GO:0043204'}\n",
      "GO:0035255 is a child of GO:0005515\n",
      "GO:0031489 is a child of GO:0005515\n",
      "GO:0042802 is a child of GO:0005515\n",
      "GO:0046965 is a child of GO:0005515\n",
      "GO:0030331 is a child of GO:0005515\n",
      "GO:0046966 is a child of GO:0005515\n",
      "GO:0044822 is a child of GO:0003723\n",
      "GO:0005515 is a parent of GO:0035255\n",
      "GO:0005515 is a parent of GO:0031489\n",
      "GO:0005515 is a parent of GO:0042802\n",
      "GO:0003723 is a parent of GO:0044822\n",
      "GO:0005515 is a parent of GO:0046965\n",
      "GO:0005515 is a parent of GO:0030331\n",
      "GO:0005515 is a parent of GO:0046966\n",
      "GO:0008270\n",
      "GO:0035255\n",
      "GO:0005654\n",
      "GO:0005844\n",
      "GO:0031489\n",
      "GO:0071277\n",
      "GO:0046965\n",
      "GO:0030331\n",
      "GO:0044327\n",
      "GO:0046966\n",
      "GO:0043204\n"
     ]
    }
   ],
   "source": [
    "print(gafDict['P35637'])\n",
    "\n",
    "for goid in gafDict['P35637']:\n",
    "    for goid2 in gafDict['P35637']:\n",
    "        if goid2 in gterms[goid].childs:\n",
    "            print(goid2,'is a child of',goid)\n",
    "            \n",
    "for goid in gafDict['P35637']:\n",
    "    for goid2 in gafDict['P35637']:\n",
    "        if goid2 in gterms[goid].parents:\n",
    "            print(goid2,'is a parent of',goid)\n",
    "            \n",
    "for goid in gafDict['P35637']:\n",
    "    if not gterms[goid].childs:\n",
    "        print(goid)"
   ]
  },
  {
   "cell_type": "code",
   "execution_count": 84,
   "metadata": {
    "collapsed": false
   },
   "outputs": [
    {
     "name": "stdout",
     "output_type": "stream",
     "text": [
      "{'P35637': {'GO:0008270', 'GO:0035255', 'GO:1903506', 'GO:0000166', 'GO:0003677', 'GO:0005654', 'GO:0005634', 'GO:0005844', 'GO:0031489', 'GO:0042802', 'GO:0044822', 'GO:0071277', 'GO:0046965', 'GO:0003713', 'GO:0030331', 'GO:0044327', 'GO:0005515', 'GO:0046966', 'GO:0003723', 'GO:0048471', 'GO:0000398', 'GO:0043204'}, 'Q7L7L0': {'GO:0046982', 'GO:0006337', 'GO:0000788', 'GO:0070914', 'GO:0006342', 'GO:0070062', 'GO:0003677'}, 'P23396': {'GO:0010628', 'GO:0044390', 'GO:0005925', 'GO:0006614', 'GO:1902546', 'GO:0051018', 'GO:0030529', 'GO:0005829', 'GO:0032183', 'GO:0015631', 'GO:0031397', 'GO:0005743', 'GO:0003684', 'GO:0006364', 'GO:0019083', 'GO:0008017', 'GO:0019899', 'GO:0051879', 'GO:2001272', 'GO:0003677', 'GO:0005654', 'GO:0005634', 'GO:0005844', 'GO:0008134', 'GO:0006355', 'GO:0031012', 'GO:0042769', 'GO:0044822', 'GO:0032587', 'GO:0072686', 'GO:0070181', 'GO:0045739', 'GO:0005840', 'GO:0016020', 'GO:0032357', 'GO:0032079', 'GO:0003735', 'GO:2001235', 'GO:1902231', 'GO:0006351', 'GO:0017148', 'GO:0005737', 'GO:0019900', 'GO:0070301', 'GO:1901224', 'GO:0006281', 'GO:0005886', 'GO:0019901', 'GO:0006979', 'GO:0000184', 'GO:0007067', 'GO:0005515', 'GO:0097100', 'GO:0007059', 'GO:0006915', 'GO:0051301', 'GO:0051536', 'GO:0005759', 'GO:0003906', 'GO:0045738', 'GO:0031116', 'GO:0042981', 'GO:0003723', 'GO:0070062', 'GO:0004520', 'GO:1905053', 'GO:0005730', 'GO:0043507', 'GO:0051225', 'GO:0061481', 'GO:0032358', 'GO:0006974', 'GO:0030544', 'GO:0003729', 'GO:0006412', 'GO:0022627', 'GO:0006413'}, 'Q99877': {'GO:0005654', 'GO:0046982', 'GO:0005634', 'GO:0000788', 'GO:0005737', 'GO:0070062', 'GO:0006334', 'GO:0000786', 'GO:0003677'}, 'Q93008': {'GO:0004843', 'GO:0051301', 'GO:0005737', 'GO:0048675', 'GO:0001764', 'GO:0007292', 'GO:0005829', 'GO:0007179', 'GO:0030509', 'GO:0000122', 'GO:0070410', 'GO:0004197', 'GO:0005515', 'GO:0007067', 'GO:0008234', 'GO:0016020', 'GO:0007059', 'GO:0016579', 'GO:0006511', 'GO:0044267', 'GO:0030426'}, 'P04844': {'GO:0005783', 'GO:0007568', 'GO:0005634', 'GO:0042493', 'GO:0004579', 'GO:0005791', 'GO:0005789', 'GO:0043022', 'GO:0006464', 'GO:0006487', 'GO:0016021', 'GO:0005515', 'GO:0016020', 'GO:0018279', 'GO:0008250', 'GO:0000421'}, 'P09651': {'GO:0010467', 'GO:0003697', 'GO:0030529', 'GO:0032211', 'GO:0000166', 'GO:0071013', 'GO:0005654', 'GO:0005634', 'GO:1903936', 'GO:0044822', 'GO:0051028', 'GO:0016020', 'GO:0051168', 'GO:0051170', 'GO:0098505', 'GO:0061752', 'GO:0005737', 'GO:0006397', 'GO:0005515', 'GO:0005681', 'GO:0006405', 'GO:0032212', 'GO:0003723', 'GO:0070062', 'GO:0000398', 'GO:0003727', 'GO:0016032', 'GO:0008543'}, 'Q96HA1': {'GO:0005487', 'GO:0006606', 'GO:0031965', 'GO:0005789', 'GO:0008139', 'GO:0007077', 'GO:0010827', 'GO:0005635', 'GO:0031047', 'GO:0075733', 'GO:0006409', 'GO:0006406', 'GO:0017056', 'GO:0016021', 'GO:0005515', 'GO:0019083', 'GO:1900034', 'GO:0016032', 'GO:0006405', 'GO:0005643', 'GO:0016925'}, 'P68104': {'GO:0043209', 'GO:1904714', 'GO:0005829', 'GO:0098574', 'GO:0006414', 'GO:0005634', 'GO:0006355', 'GO:0044822', 'GO:0032587', 'GO:0016020', 'GO:0005853', 'GO:0006351', 'GO:0005737', 'GO:0000049', 'GO:0005525', 'GO:0005615', 'GO:0003924', 'GO:0019901', 'GO:0005515', 'GO:0071364', 'GO:0003746', 'GO:0070062', 'GO:0005730', 'GO:0030864'}, 'Q9Y4I1': {'GO:0030318', 'GO:0030048', 'GO:0007268', 'GO:0016459', 'GO:0005509', 'GO:0005829', 'GO:0006810', 'GO:0042470', 'GO:0030073', 'GO:0007601', 'GO:0017137', 'GO:0031585', 'GO:0006892', 'GO:0030426', 'GO:0005764', 'GO:0031982', 'GO:0044822', 'GO:0032402', 'GO:0042438', 'GO:0032869', 'GO:0016020', 'GO:0030050', 'GO:0032252', 'GO:0005783', 'GO:0005737', 'GO:0005516', 'GO:0032593', 'GO:0005770', 'GO:0005777', 'GO:0043005', 'GO:0051643', 'GO:0003779', 'GO:0032433', 'GO:0005882', 'GO:0042476', 'GO:0042641', 'GO:0006887', 'GO:0042759', 'GO:0005794', 'GO:0070062', 'GO:0005524', 'GO:0055037', 'GO:0050808', 'GO:0042552', 'GO:0035371', 'GO:0005769', 'GO:0000146', 'GO:0001726', 'GO:0001750', 'GO:0031987', 'GO:0072659', 'GO:0016192', 'GO:0043025', 'GO:0005884'}, 'P06899': {'GO:0005654', 'GO:0046982', 'GO:0005634', 'GO:0000788', 'GO:0005737', 'GO:0005615', 'GO:0019731', 'GO:0006334', 'GO:0050830', 'GO:0002227', 'GO:0000786', 'GO:0003677'}, 'P68431': {'GO:0045815', 'GO:0031047', 'GO:0005913', 'GO:0000228', 'GO:0006335', 'GO:0098609', 'GO:0005654', 'GO:0005634', 'GO:0045814', 'GO:0000784', 'GO:0060968', 'GO:0016020', 'GO:0044267', 'GO:0098641', 'GO:0007596', 'GO:0005576', 'GO:0043234', 'GO:0006334', 'GO:0005515', 'GO:0051290', 'GO:0046982', 'GO:0000788', 'GO:0070062', 'GO:0000183', 'GO:0042393', 'GO:0031492', 'GO:0000786', 'GO:0032200'}, 'Q969J3': {'GO:0031224', 'GO:0072384', 'GO:0032418', 'GO:0098574', 'GO:0005515', 'GO:0099078', 'GO:0005873'}, 'P14866': {'GO:0005654', 'GO:0005634', 'GO:0005737', 'GO:0000381', 'GO:0010467', 'GO:0035770', 'GO:0044212', 'GO:0044822', 'GO:0003723', 'GO:0030529', 'GO:0070062', 'GO:0097157', 'GO:0000398', 'GO:0005515', 'GO:0006396', 'GO:0016020', 'GO:0000166'}, 'P10412': {'GO:0005634', 'GO:0080182', 'GO:0005720', 'GO:0098532', 'GO:0044822', 'GO:0070062', 'GO:0000122', 'GO:0006334', 'GO:0016584', 'GO:0005515', 'GO:0000786', 'GO:0031490'}, 'P16615': {'GO:0055119', 'GO:1903233', 'GO:1903779', 'GO:0032469', 'GO:0005509', 'GO:0032470', 'GO:0019899', 'GO:0033292', 'GO:0034599', 'GO:0070588', 'GO:0005789', 'GO:0034220', 'GO:1990036', 'GO:0014883', 'GO:0010460', 'GO:0016020', 'GO:0044548', 'GO:0031234', 'GO:0006984', 'GO:0007155', 'GO:0031775', 'GO:0005783', 'GO:0070296', 'GO:0031095', 'GO:0012506', 'GO:0043234', 'GO:0014898', 'GO:0045822', 'GO:0086036', 'GO:0005515', 'GO:0097470', 'GO:0005887', 'GO:0006996', 'GO:0008544', 'GO:0002026', 'GO:0033017', 'GO:0005524', 'GO:0010882', 'GO:0005388', 'GO:0016529', 'GO:0086039', 'GO:0048471', 'GO:1903515', 'GO:0034976', 'GO:0098909'}, 'P33778': {'GO:0005654', 'GO:0046982', 'GO:0005634', 'GO:0000788', 'GO:0005737', 'GO:0000784', 'GO:0006334', 'GO:0005515', 'GO:0003677', 'GO:0000786'}, 'P31943': {'GO:0005654', 'GO:0043484', 'GO:0005634', 'GO:0005737', 'GO:0010467', 'GO:0044822', 'GO:0003723', 'GO:0000398', 'GO:0005515', 'GO:0006396', 'GO:0016020', 'GO:0008266', 'GO:0000166', 'GO:0008543', 'GO:0071013'}, 'P12004': {'GO:0006271', 'GO:0000082', 'GO:0000701', 'GO:0005657', 'GO:0035035', 'GO:0045740', 'GO:0030337', 'GO:0043626', 'GO:0003684', 'GO:0006977', 'GO:0000722', 'GO:0019899', 'GO:0030971', 'GO:0006298', 'GO:0016925', 'GO:0043596', 'GO:0032077', 'GO:0005654', 'GO:0032405', 'GO:0005634', 'GO:0005813', 'GO:0000784', 'GO:0006272', 'GO:0042769', 'GO:0042802', 'GO:0070182', 'GO:0006296', 'GO:0006297', 'GO:0030894', 'GO:0045739', 'GO:0097421', 'GO:0042276', 'GO:1902990', 'GO:0030855', 'GO:0046686', 'GO:0000083', 'GO:0030331', 'GO:0005737', 'GO:0000723', 'GO:0006283', 'GO:0007507', 'GO:0070301', 'GO:0008283', 'GO:0032139', 'GO:0032355', 'GO:0005663', 'GO:0019985', 'GO:0005515', 'GO:0070987', 'GO:0071548', 'GO:0070062', 'GO:0070557', 'GO:0003682', 'GO:0044849', 'GO:0033683', 'GO:1902065', 'GO:0034644', 'GO:0031297'}, 'P12036': {'GO:0030424', 'GO:0043209', 'GO:0007409', 'GO:0005737', 'GO:0045502', 'GO:0030031', 'GO:0097418', 'GO:0005200', 'GO:0033693', 'GO:0000226', 'GO:1902513', 'GO:0014069', 'GO:0019901', 'GO:0048936', 'GO:0005198', 'GO:0008017', 'GO:0019894', 'GO:0030674', 'GO:0005739', 'GO:0005883', 'GO:0061564'}, 'O43175': {'GO:0043209', 'GO:0051287', 'GO:0070062', 'GO:0009448', 'GO:0055114', 'GO:0021782', 'GO:0006564', 'GO:0019530', 'GO:0005829', 'GO:0021915', 'GO:0010468', 'GO:0004617', 'GO:0006544', 'GO:0007420', 'GO:0009055', 'GO:0021510', 'GO:0031175', 'GO:0070314', 'GO:0006566', 'GO:0006541', 'GO:0009070'}, 'Q9NQ55': {'GO:0005634', 'GO:0044822', 'GO:0030687', 'GO:0000027', 'GO:0005730', 'GO:0019843'}, 'Q14257': {'GO:0005783', 'GO:0005730', 'GO:0005509', 'GO:0005788', 'GO:0005515'}, 'P45880': {'GO:0043209', 'GO:0005741', 'GO:0005634', 'GO:0046930', 'GO:0055085', 'GO:0015288', 'GO:0070062', 'GO:2001243', 'GO:0006820', 'GO:0042645', 'GO:1903959', 'GO:0005743', 'GO:0008021', 'GO:0005515', 'GO:0008308', 'GO:0032272', 'GO:0005739', 'GO:0000166'}, 'Q93079': {'GO:0005654', 'GO:0046982', 'GO:0005634', 'GO:0000788', 'GO:0005737', 'GO:0070062', 'GO:0006334', 'GO:0000786', 'GO:0003677'}, 'Q32P51': {'GO:0005737', 'GO:0008380', 'GO:0003723', 'GO:0006397', 'GO:0051028', 'GO:0005681', 'GO:0000166'}, 'O15131': {'GO:0005654', 'GO:0005737', 'GO:0008139', 'GO:0075733', 'GO:0005829', 'GO:0006607', 'GO:0019054', 'GO:0005515', 'GO:0008565', 'GO:0005643'}, 'P50402': {'GO:0031965', 'GO:0005913', 'GO:0007077', 'GO:0005874', 'GO:0060828', 'GO:0098609', 'GO:0035914', 'GO:0007084', 'GO:0035414', 'GO:0006936', 'GO:0016021', 'GO:0016020', 'GO:0005783', 'GO:0098641', 'GO:0005635', 'GO:0003779', 'GO:0005515', 'GO:0048147', 'GO:0071363', 'GO:0007517', 'GO:0046827', 'GO:0005637', 'GO:0005640', 'GO:0048487'}, 'Q5QNW6': {'GO:0005654', 'GO:0046982', 'GO:0005634', 'GO:0000788', 'GO:0005737', 'GO:0070062', 'GO:0003674', 'GO:0006334', 'GO:0003677'}, 'P51149': {'GO:0007174', 'GO:0033162', 'GO:0007264', 'GO:0043195', 'GO:0005829', 'GO:1905394', 'GO:0045732', 'GO:0005764', 'GO:0019003', 'GO:0008333', 'GO:0015031', 'GO:0061724', 'GO:0090385', 'GO:2000785', 'GO:0042147', 'GO:0006897', 'GO:0045022', 'GO:0010008', 'GO:0019076', 'GO:0090383', 'GO:0019886', 'GO:0097208', 'GO:0030904', 'GO:0005770', 'GO:0005525', 'GO:0031902', 'GO:0048365', 'GO:0003924', 'GO:0032419', 'GO:1905366', 'GO:1903542', 'GO:0005515', 'GO:0000421', 'GO:0048524', 'GO:0005765', 'GO:0043231', 'GO:1902583', 'GO:0045335', 'GO:0005794', 'GO:0070062', 'GO:0022615', 'GO:1903543', 'GO:0006622', 'GO:0005811', 'GO:0090382', 'GO:0034045', 'GO:0005774', 'GO:0030670', 'GO:0045453'}, 'Q9BQE3': {'GO:0005634', 'GO:0005737', 'GO:0007010', 'GO:0030705', 'GO:0005200', 'GO:0031982', 'GO:0005525', 'GO:0005874', 'GO:0003924', 'GO:0005515', 'GO:0005198', 'GO:0051301', 'GO:0007017'}, 'O15269': {'GO:0004758', 'GO:0006665', 'GO:0035339', 'GO:0005789', 'GO:0017059', 'GO:0030148', 'GO:0030170', 'GO:0046511', 'GO:0046513', 'GO:0016021', 'GO:0005515', 'GO:1904504', 'GO:0046512', 'GO:0006686'}, 'Q00325': {'GO:0043209', 'GO:0005634', 'GO:0032403', 'GO:0070062', 'GO:0006810', 'GO:0005730', 'GO:0005743', 'GO:0015293', 'GO:0035435', 'GO:0015320', 'GO:0016020', 'GO:0005739', 'GO:0005887', 'GO:0006091'}, 'Q12906': {'GO:0003725', 'GO:0005654', 'GO:0005634', 'GO:0005737', 'GO:0006351', 'GO:0017148', 'GO:0045893', 'GO:0006468', 'GO:0044822', 'GO:0003723', 'GO:0030529', 'GO:0005730', 'GO:0045071', 'GO:0005515', 'GO:0016020', 'GO:0051607', 'GO:0005739', 'GO:0045892', 'GO:0003677'}, 'P21796': {'GO:0043209', 'GO:0007612', 'GO:0006820', 'GO:0001662', 'GO:0005743', 'GO:0007270', 'GO:0008021', 'GO:0008308', 'GO:1903146', 'GO:0005634', 'GO:2000378', 'GO:0016020', 'GO:0030855', 'GO:0046930', 'GO:0005886', 'GO:1903959', 'GO:0019901', 'GO:0005515', 'GO:0006915', 'GO:0006851', 'GO:0005741', 'GO:0032403', 'GO:0045121', 'GO:0015288', 'GO:0070062', 'GO:0098656', 'GO:0042645', 'GO:0016032', 'GO:0016236', 'GO:0005739', 'GO:0044325'}, 'Q16777': {'GO:0046982', 'GO:0005634', 'GO:0006342', 'GO:0070062', 'GO:0003674', 'GO:0008150', 'GO:0000790', 'GO:0003677', 'GO:0000786'}, 'Q71UM5': {'GO:0005654', 'GO:0008494', 'GO:0005634', 'GO:0008656', 'GO:0006281', 'GO:0044822', 'GO:0031571', 'GO:0045727', 'GO:0005515', 'GO:0006364', 'GO:0006919', 'GO:0006974', 'GO:0042771', 'GO:0003735', 'GO:0000028', 'GO:0006412', 'GO:0022627', 'GO:0046872'}, 'Q8IXQ5': {'GO:0005654', 'GO:0005634', 'GO:0005737', 'GO:0042787', 'GO:0042803', 'GO:0042802', 'GO:0031463', 'GO:0005886', 'GO:0005730', 'GO:0048471', 'GO:0005515', 'GO:0004842', 'GO:0016567'}, 'O60684': {'GO:0005654', 'GO:0008139', 'GO:0005829', 'GO:0006607', 'GO:0045944', 'GO:0005515', 'GO:0016020', 'GO:0008565', 'GO:0005643', 'GO:0060135'}, 'O00264': {'GO:0005783', 'GO:0031090', 'GO:0005789', 'GO:0012505', 'GO:0020037', 'GO:0070062', 'GO:0005730', 'GO:0016021', 'GO:0005515', 'GO:0016020', 'GO:0005496'}, 'P46934': {'GO:0010768', 'GO:0007528', 'GO:0014068', 'GO:0005829', 'GO:0070534', 'GO:0010766', 'GO:0035255', 'GO:0034765', 'GO:0051592', 'GO:0042110', 'GO:0031698', 'GO:0016327', 'GO:0043162', 'GO:0050815', 'GO:0016567', 'GO:0005634', 'GO:0042787', 'GO:0045732', 'GO:0032801', 'GO:0050807', 'GO:0016241', 'GO:0031175', 'GO:0005938', 'GO:0042921', 'GO:0000151', 'GO:0048514', 'GO:1901016', 'GO:0030948', 'GO:0061630', 'GO:0007041', 'GO:0005737', 'GO:0005886', 'GO:0031623', 'GO:0050816', 'GO:0006513', 'GO:0005515', 'GO:0003151', 'GO:0044111', 'GO:0070064', 'GO:0002250', 'GO:0003197', 'GO:0043130', 'GO:0070063', 'GO:0005794', 'GO:0019871', 'GO:0070062', 'GO:0000785', 'GO:0048814', 'GO:0006622', 'GO:0019904', 'GO:0048471', 'GO:0050847', 'GO:0046824', 'GO:0034644', 'GO:0042391', 'GO:2000650', 'GO:0019089'}, 'Q8N257': {'GO:0005654', 'GO:0046982', 'GO:0005634', 'GO:0000788', 'GO:0005737', 'GO:0003674', 'GO:0006334', 'GO:0003677'}, 'O95816': {'GO:0019538', 'GO:0000774', 'GO:0042802', 'GO:0005829', 'GO:1900034', 'GO:0005515', 'GO:0050790', 'GO:0051087', 'GO:0006457'}, 'P0C0S8': {'GO:0046982', 'GO:0005634', 'GO:0006342', 'GO:0070062', 'GO:0008150', 'GO:0000790', 'GO:0005515', 'GO:0019899', 'GO:0000786', 'GO:0003677'}, 'Q96B45': {'GO:0099078', 'GO:0005515', 'GO:0005765'}, 'Q16778': {'GO:0005654', 'GO:0046982', 'GO:0005634', 'GO:0000788', 'GO:0005737', 'GO:0070062', 'GO:0005615', 'GO:0019731', 'GO:0006334', 'GO:0050830', 'GO:0002227', 'GO:0000786', 'GO:0003677'}, 'P04908': {'GO:0046982', 'GO:0005634', 'GO:0008285', 'GO:0006342', 'GO:0070062', 'GO:0000790', 'GO:0000786', 'GO:0003677'}, 'Q9P258': {'GO:0034506', 'GO:0005829', 'GO:0005874', 'GO:0007062', 'GO:0051987', 'GO:0090630', 'GO:0008017', 'GO:1900027', 'GO:1990023', 'GO:0044822', 'GO:0010762', 'GO:0072356', 'GO:0031901', 'GO:0016020', 'GO:0010971', 'GO:0051895', 'GO:0007229', 'GO:0005886', 'GO:0048365', 'GO:0019901', 'GO:0007067', 'GO:0005515', 'GO:0030496', 'GO:0051301', 'GO:0030334', 'GO:0045184', 'GO:0031267', 'GO:0005730', 'GO:0048041', 'GO:0019904', 'GO:1900025', 'GO:0034260'}, 'Q99729': {'GO:0005654', 'GO:0005634', 'GO:0005737', 'GO:0045893', 'GO:0001837', 'GO:0003700', 'GO:0044822', 'GO:0003723', 'GO:0030529', 'GO:0090575', 'GO:0005515', 'GO:0043565', 'GO:0003729', 'GO:0000166'}, 'P60866': {'GO:0005654', 'GO:0005737', 'GO:0006614', 'GO:0031012', 'GO:0044822', 'GO:0070062', 'GO:0005829', 'GO:0000184', 'GO:0005515', 'GO:0006364', 'GO:0016020', 'GO:0019083', 'GO:0003735', 'GO:0006412', 'GO:0022627', 'GO:0006413'}, 'Q15758': {'GO:0006860', 'GO:0001618', 'GO:0006868', 'GO:0015186', 'GO:0015804', 'GO:0003333', 'GO:0005794', 'GO:0015194', 'GO:0046718', 'GO:0070062', 'GO:0005886', 'GO:0042470', 'GO:0015293', 'GO:0005515', 'GO:0015171', 'GO:0016020', 'GO:0004872', 'GO:0006865', 'GO:0005887', 'GO:0015175', 'GO:0015825'}, 'P31689': {'GO:0007283', 'GO:0005829', 'GO:0051082', 'GO:0031397', 'GO:0009408', 'GO:1905259', 'GO:0070585', 'GO:0005634', 'GO:0043066', 'GO:0042769', 'GO:1901998', 'GO:1903748', 'GO:0016020', 'GO:0051087', 'GO:0050750', 'GO:0000151', 'GO:0046872', 'GO:0051223', 'GO:0098554', 'GO:0030957', 'GO:0043508', 'GO:0005515', 'GO:0030317', 'GO:0031625', 'GO:0055131', 'GO:0006986', 'GO:0070062', 'GO:0005524', 'GO:0001664', 'GO:0030521', 'GO:0048471', 'GO:0030544', 'GO:0006457', 'GO:0005739', 'GO:0043065'}, 'P35268': {'GO:0022625', 'GO:0005634', 'GO:0005737', 'GO:0005925', 'GO:0006614', 'GO:0031012', 'GO:0044822', 'GO:0002181', 'GO:0003723', 'GO:0005829', 'GO:0030529', 'GO:0046632', 'GO:0070062', 'GO:0000184', 'GO:0005515', 'GO:0006364', 'GO:0019083', 'GO:0003735', 'GO:0006412', 'GO:0008201', 'GO:0006413'}, 'P12273': {'GO:0010628', 'GO:0016324', 'GO:0005634', 'GO:0070233', 'GO:0019864', 'GO:0004190', 'GO:0055085', 'GO:0002682', 'GO:0070062', 'GO:0005576', 'GO:0005615', 'GO:0046983', 'GO:0003779', 'GO:0006508', 'GO:0005515', 'GO:0001580', 'GO:0001948', 'GO:0001895'}, 'P57053': {'GO:0005654', 'GO:0046982', 'GO:0005634', 'GO:0000788', 'GO:0005737', 'GO:0005615', 'GO:0019731', 'GO:0006334', 'GO:0050830', 'GO:0002227', 'GO:0003677', 'GO:0021762'}, 'P49755': {'GO:0007030', 'GO:0005801', 'GO:0030140', 'GO:0042470', 'GO:0048208', 'GO:0043279', 'GO:0048199', 'GO:0005793', 'GO:0030667', 'GO:0006886', 'GO:0005789', 'GO:0006890', 'GO:0012507', 'GO:0016021', 'GO:0019905', 'GO:0035964', 'GO:0005783', 'GO:0042589', 'GO:0048205', 'GO:0070765', 'GO:0033116', 'GO:0000139', 'GO:0005886', 'GO:0006888', 'GO:0005515', 'GO:0045055', 'GO:0001822', 'GO:0032403', 'GO:1902003', 'GO:0005794', 'GO:0070062', 'GO:0051259', 'GO:0030133', 'GO:0035459', 'GO:0030137'}, 'Q14839': {'GO:0008270', 'GO:0004407', 'GO:0000978', 'GO:0001103', 'GO:0000122', 'GO:1901796', 'GO:0004003', 'GO:0008017', 'GO:0003677', 'GO:0005654', 'GO:0005634', 'GO:0005813', 'GO:0016575', 'GO:0016020', 'GO:0000980', 'GO:0006357', 'GO:0006351', 'GO:0005737', 'GO:0043234', 'GO:0016581', 'GO:0005515', 'GO:0043044', 'GO:0072553', 'GO:0042826', 'GO:0005524', 'GO:0000790', 'GO:0051225', 'GO:0032508', 'GO:0031492', 'GO:0032993'}, 'P49790': {'GO:0008270', 'GO:0031965', 'GO:0031047', 'GO:0007077', 'GO:0006409', 'GO:0006406', 'GO:1900034', 'GO:0019083', 'GO:0044613', 'GO:0016925', 'GO:0003677', 'GO:0005654', 'GO:0008139', 'GO:0042802', 'GO:0046718', 'GO:0043495', 'GO:0042405', 'GO:0005737', 'GO:0006606', 'GO:0046832', 'GO:0010827', 'GO:0075733', 'GO:0044615', 'GO:0005515', 'GO:0005643', 'GO:0075732', 'GO:0005487', 'GO:0034399', 'GO:0051292', 'GO:0005730', 'GO:0017056', 'GO:0016032'}, 'P05388': {'GO:0005925', 'GO:0006614', 'GO:0002181', 'GO:0030529', 'GO:0005829', 'GO:0030425', 'GO:0006364', 'GO:0019083', 'GO:0022625', 'GO:0005634', 'GO:0044822', 'GO:0016020', 'GO:0036464', 'GO:0003735', 'GO:0005737', 'GO:0000184', 'GO:0070180', 'GO:0005515', 'GO:0071353', 'GO:0030687', 'GO:0070062', 'GO:0006412', 'GO:0006413'}, 'Q16531': {'GO:0031464', 'GO:0046726', 'GO:0045070', 'GO:0000715', 'GO:0003684', 'GO:0016055', 'GO:0003677', 'GO:0031465', 'GO:0005654', 'GO:0005634', 'GO:0042787', 'GO:0070914', 'GO:0000784', 'GO:0043066', 'GO:0042769', 'GO:0006296', 'GO:1902188', 'GO:0000717', 'GO:0080008', 'GO:0005737', 'GO:0006283', 'GO:0006281', 'GO:0005615', 'GO:0006295', 'GO:0006294', 'GO:0035518', 'GO:0005515', 'GO:1901990', 'GO:0070911', 'GO:0070062', 'GO:0006289', 'GO:0033683', 'GO:0016032', 'GO:0006293', 'GO:0043161', 'GO:0051702'}, 'Q6FI13': {'GO:0046982', 'GO:0005634', 'GO:0006342', 'GO:0070062', 'GO:0003674', 'GO:0008150', 'GO:0000790', 'GO:0003677', 'GO:0000786'}, 'P63167': {'GO:0000776', 'GO:0097542', 'GO:0005829', 'GO:0005874', 'GO:0030036', 'GO:0009653', 'GO:0005634', 'GO:0005813', 'GO:0006355', 'GO:0072686', 'GO:0005868', 'GO:0016020', 'GO:0006351', 'GO:0019886', 'GO:0005737', 'GO:0005886', 'GO:0006888', 'GO:0003774', 'GO:0005515', 'GO:0006915', 'GO:0021762', 'GO:1900740', 'GO:0070062', 'GO:0007292', 'GO:0016032', 'GO:0016236', 'GO:0000086', 'GO:0005739', 'GO:0042326', 'GO:0007017', 'GO:0008180'}, 'P23527': {'GO:0005654', 'GO:0046982', 'GO:0005634', 'GO:0000788', 'GO:0005737', 'GO:0006334', 'GO:0000786', 'GO:0003677'}, 'P62879': {'GO:0043209', 'GO:0032403', 'GO:0005925', 'GO:0031982', 'GO:0071377', 'GO:0070062', 'GO:0005615', 'GO:0005829', 'GO:0005886', 'GO:0043234', 'GO:0003924', 'GO:0044297', 'GO:0051020', 'GO:0004871', 'GO:0007186', 'GO:0048471', 'GO:0005515', 'GO:0016020', 'GO:0006457', 'GO:0005246', 'GO:0005765'}, 'P61978': {'GO:0010467', 'GO:0005925', 'GO:0003697', 'GO:0048260', 'GO:0005913', 'GO:0000978', 'GO:1902165', 'GO:0007165', 'GO:0048025', 'GO:0045716', 'GO:0098609', 'GO:0016925', 'GO:0001077', 'GO:0005654', 'GO:0042995', 'GO:0005634', 'GO:0071013', 'GO:0043066', 'GO:0031012', 'GO:0044822', 'GO:0045944', 'GO:0016020', 'GO:0002102', 'GO:0098641', 'GO:0005737', 'GO:0072369', 'GO:0005515', 'GO:0006396', 'GO:0010988', 'GO:0006366', 'GO:0003723', 'GO:0070062', 'GO:0000790', 'GO:0000398', 'GO:0016032'}, 'P62807': {'GO:0005654', 'GO:0046982', 'GO:0005634', 'GO:0000788', 'GO:0005737', 'GO:0070062', 'GO:0005615', 'GO:0019731', 'GO:0006334', 'GO:0005515', 'GO:0050830', 'GO:0002227', 'GO:0000786', 'GO:0003677'}, 'Q96AX9': {'GO:0000209', 'GO:0016874', 'GO:0005737', 'GO:0008270', 'GO:0061630', 'GO:0005829', 'GO:0003779', 'GO:0004871', 'GO:0005769', 'GO:0005515', 'GO:0004842', 'GO:0000151', 'GO:0007219', 'GO:0043123'}, 'P39687': {'GO:0005654', 'GO:0005783', 'GO:0005634', 'GO:0005737', 'GO:0006351', 'GO:0043488', 'GO:0006355', 'GO:0006913', 'GO:0042981', 'GO:0044822', 'GO:0035556', 'GO:0042393', 'GO:0048471', 'GO:0005515'}, 'Q92688': {'GO:0005634', 'GO:0005737', 'GO:0070063', 'GO:0070062', 'GO:0043486', 'GO:0046827', 'GO:0006334', 'GO:0042393', 'GO:0045596', 'GO:0060021', 'GO:0005730', 'GO:0005515', 'GO:0006919', 'GO:0048839', 'GO:0021591', 'GO:0001944'}, 'Q14164': {'GO:0007252', 'GO:0034340', 'GO:0010884', 'GO:0005829', 'GO:0045087', 'GO:0036435', 'GO:0005634', 'GO:0051260', 'GO:0018105', 'GO:0035456', 'GO:0098586', 'GO:0010008', 'GO:0004672', 'GO:0005737', 'GO:0035666', 'GO:0005515', 'GO:0031625', 'GO:0016605', 'GO:0004704', 'GO:0008384', 'GO:0008630', 'GO:0031966', 'GO:0006468', 'GO:0005524', 'GO:0032480', 'GO:0038061', 'GO:0006955', 'GO:0043123'}, 'Q969G3': {'GO:0006337', 'GO:0000978', 'GO:0016922', 'GO:0000228', 'GO:0005654', 'GO:0005634', 'GO:0071565', 'GO:0047485', 'GO:0000980', 'GO:0006357', 'GO:0003713', 'GO:0043234', 'GO:0022008', 'GO:0005515', 'GO:0043044', 'GO:0017053', 'GO:0003723', 'GO:0071564', 'GO:0000790', 'GO:0003682', 'GO:0016569', 'GO:0006338', 'GO:0008080', 'GO:0016514', 'GO:0045892', 'GO:0031492'}, 'Q08211': {'GO:0030529', 'GO:0005829', 'GO:1903608', 'GO:0004003', 'GO:0070937', 'GO:0032481', 'GO:0003677', 'GO:0005654', 'GO:0005634', 'GO:0005813', 'GO:0044822', 'GO:0070934', 'GO:0048511', 'GO:0016020', 'GO:0036464', 'GO:0005737', 'GO:0003724', 'GO:0001649', 'GO:0005515', 'GO:0001085', 'GO:0006396', 'GO:0005524', 'GO:0097165', 'GO:0005730', 'GO:0000398', 'GO:0032508', 'GO:0004004'}, 'Q9UNL2': {'GO:0005622', 'GO:0006614', 'GO:0016021', 'GO:0005789'}, 'Q9UIG0': {'GO:0008270', 'GO:0045815', 'GO:0003007', 'GO:0005721', 'GO:0035173', 'GO:0043596', 'GO:0006333', 'GO:0005654', 'GO:2000273', 'GO:0006355', 'GO:0000793', 'GO:0006351', 'GO:0005515', 'GO:0070577', 'GO:0016572', 'GO:0048096', 'GO:0004715', 'GO:0004713', 'GO:0005524', 'GO:0006302', 'GO:0003682', 'GO:0071884', 'GO:0018108', 'GO:0006974'}, 'O75569': {'GO:0031047', 'GO:0005829', 'GO:0019899', 'GO:0005654', 'GO:0034599', 'GO:0048705', 'GO:0035196', 'GO:0042802', 'GO:0044822', 'GO:0008047', 'GO:0042473', 'GO:0016020', 'GO:0003725', 'GO:0005737', 'GO:0031054', 'GO:2001244', 'GO:0005515', 'GO:0030422', 'GO:0009615', 'GO:0043085', 'GO:0042803', 'GO:0042474', 'GO:0006468', 'GO:0008285', 'GO:0006955', 'GO:0048471'}, 'O43791': {'GO:0005654', 'GO:0043433', 'GO:0005634', 'GO:0005737', 'GO:0042787', 'GO:2000676', 'GO:0042593', 'GO:0031463', 'GO:1902237', 'GO:0000122', 'GO:0030162', 'GO:0005515', 'GO:0001085', 'GO:0031625', 'GO:0019005', 'GO:0016607', 'GO:0043161'}, 'P58876': {'GO:0005654', 'GO:0046982', 'GO:0005634', 'GO:0000788', 'GO:0005737', 'GO:0070062', 'GO:0003674', 'GO:0006334', 'GO:0003677'}, 'Q6NXT2': {'GO:0046982', 'GO:0030307', 'GO:0006334', 'GO:0005515', 'GO:0005719', 'GO:0031492', 'GO:0000786'}, 'P0DMV9': {'GO:0010628', 'GO:0005925', 'GO:0005829', 'GO:0051082', 'GO:0051092', 'GO:0031397', 'GO:0044183', 'GO:0031396', 'GO:1900034', 'GO:2001240', 'GO:0032757', 'GO:0019899', 'GO:0050821', 'GO:0046034', 'GO:0005654', 'GO:0034599', 'GO:0001618', 'GO:0005814', 'GO:0072562', 'GO:0042623', 'GO:0046718', 'GO:0060548', 'GO:0005102', 'GO:0042026', 'GO:0000151', 'GO:0034605', 'GO:0005737', 'GO:0070434', 'GO:0005515', 'GO:0031625', 'GO:0055131', 'GO:0016234', 'GO:0090084', 'GO:0042826', 'GO:0005524', 'GO:0001664', 'GO:0031072', 'GO:1903265', 'GO:0048471', 'GO:0016887', 'GO:0070370'}, 'P35613': {'GO:0005925', 'GO:0005913', 'GO:0042470', 'GO:0098609', 'GO:0007166', 'GO:0046689', 'GO:0007566', 'GO:0042475', 'GO:0016020', 'GO:0042383', 'GO:0098641', 'GO:0000139', 'GO:0005886', 'GO:0043434', 'GO:0022617', 'GO:0005515', 'GO:0050900', 'GO:0046697', 'GO:0005887', 'GO:0005537', 'GO:0002080', 'GO:0008028', 'GO:0045121', 'GO:0015718', 'GO:0070062', 'GO:0051591', 'GO:0072661', 'GO:0005739', 'GO:0030198', 'GO:0006090'}, 'P51532': {'GO:0006337', 'GO:2000134', 'GO:0000978', 'GO:0051091', 'GO:0000122', 'GO:0060766', 'GO:0007070', 'GO:0008094', 'GO:0005654', 'GO:0005634', 'GO:1902895', 'GO:0003714', 'GO:0008134', 'GO:1901838', 'GO:0070182', 'GO:0071565', 'GO:1904837', 'GO:0030308', 'GO:0045944', 'GO:0047485', 'GO:0016020', 'GO:0000980', 'GO:0006357', 'GO:0003713', 'GO:0006351', 'GO:0001105', 'GO:0045893', 'GO:0001164', 'GO:0050681', 'GO:1902661', 'GO:0005615', 'GO:0043234', 'GO:0030957', 'GO:0005515', 'GO:0043044', 'GO:0004386', 'GO:0070577', 'GO:0030177', 'GO:0007399', 'GO:0071564', 'GO:0005524', 'GO:0043923', 'GO:0000790', 'GO:0002039', 'GO:0005730', 'GO:0016569', 'GO:0003407', 'GO:0006338', 'GO:0016514', 'GO:0045892', 'GO:0031492'}, 'P42677': {'GO:0005654', 'GO:0022627', 'GO:0005634', 'GO:0008270', 'GO:0006614', 'GO:0044822', 'GO:0005829', 'GO:0008283', 'GO:0007062', 'GO:0000184', 'GO:0005840', 'GO:0005515', 'GO:0006364', 'GO:0019083', 'GO:0003735', 'GO:0000028', 'GO:0006412', 'GO:0003677', 'GO:0006413'}, 'A8CG34': {'GO:0005487', 'GO:0006606', 'GO:0031965', 'GO:0005789', 'GO:0008139', 'GO:0007077', 'GO:0010827', 'GO:0005635', 'GO:0031047', 'GO:0075733', 'GO:0006409', 'GO:0006406', 'GO:0017056', 'GO:0016021', 'GO:0005515', 'GO:0019083', 'GO:1900034', 'GO:0016032', 'GO:0006405', 'GO:0005643', 'GO:0016925'}, 'O60814': {'GO:0005654', 'GO:0046982', 'GO:0005634', 'GO:0000788', 'GO:0005737', 'GO:0005615', 'GO:0003674', 'GO:0019731', 'GO:0006334', 'GO:0050830', 'GO:0002227', 'GO:0003677'}, 'P19338': {'GO:0005654', 'GO:0001525', 'GO:0005634', 'GO:0071364', 'GO:0042162', 'GO:1901838', 'GO:0042802', 'GO:0044822', 'GO:0003723', 'GO:0030529', 'GO:0070062', 'GO:0005938', 'GO:0008022', 'GO:0005730', 'GO:0045944', 'GO:0005515', 'GO:0016020', 'GO:0036464', 'GO:0000166'}, 'O95831': {'GO:0071949', 'GO:0005829', 'GO:0005743', 'GO:0051402', 'GO:1902510', 'GO:0003677', 'GO:0016651', 'GO:0005634', 'GO:0005758', 'GO:1904045', 'GO:0030261', 'GO:0071732', 'GO:0045454', 'GO:0055114', 'GO:0070301', 'GO:0016174', 'GO:0046983', 'GO:0005515', 'GO:0002931', 'GO:0070059', 'GO:0006915', 'GO:0071392', 'GO:0009636', 'GO:0043525', 'GO:0048471', 'GO:1902065', 'GO:0090650', 'GO:0006919', 'GO:0005739', 'GO:0043065'}, 'P07437': {'GO:0005641', 'GO:0042288', 'GO:0005874', 'GO:0032794', 'GO:0005634', 'GO:0030705', 'GO:0031012', 'GO:0044297', 'GO:0036464', 'GO:0005200', 'GO:0005525', 'GO:0005576', 'GO:0043234', 'GO:0003924', 'GO:0042267', 'GO:0005515', 'GO:0031625', 'GO:0005198', 'GO:0051301', 'GO:0005856', 'GO:0032403', 'GO:0009987', 'GO:0006928', 'GO:0070062', 'GO:0051225', 'GO:0019904', 'GO:0000086', 'GO:0007017'}, 'P04843': {'GO:0004579', 'GO:0005791', 'GO:0005789', 'GO:0031012', 'GO:0044822', 'GO:0006464', 'GO:0042470', 'GO:0016021', 'GO:0005515', 'GO:0016020', 'GO:0018279', 'GO:0008250'}, 'P84243': {'GO:0032200', 'GO:0045815', 'GO:0031047', 'GO:0090230', 'GO:0030307', 'GO:0048477', 'GO:0000228', 'GO:0042692', 'GO:0006997', 'GO:0007566', 'GO:0005654', 'GO:0005634', 'GO:0031508', 'GO:0045814', 'GO:0000784', 'GO:0000979', 'GO:0000980', 'GO:0044267', 'GO:0031509', 'GO:1902340', 'GO:0008584', 'GO:0007596', 'GO:0001649', 'GO:0005576', 'GO:0008283', 'GO:0043234', 'GO:0007286', 'GO:0006334', 'GO:0005515', 'GO:0046982', 'GO:0000788', 'GO:0070062', 'GO:0000183', 'GO:0001740', 'GO:0007338', 'GO:0042393', 'GO:0035264', 'GO:0031492', 'GO:0000786', 'GO:0006336'}, 'P62805': {'GO:0000786', 'GO:0045815', 'GO:0031047', 'GO:0000228', 'GO:0006335', 'GO:0003677', 'GO:0005654', 'GO:0005634', 'GO:0045814', 'GO:0000784', 'GO:0031012', 'GO:0044822', 'GO:1904837', 'GO:0006303', 'GO:0016020', 'GO:0044267', 'GO:0006352', 'GO:0045653', 'GO:0005576', 'GO:0043234', 'GO:0006334', 'GO:0016233', 'GO:0005515', 'GO:0051290', 'GO:0046982', 'GO:0000788', 'GO:0034080', 'GO:0070062', 'GO:0000183', 'GO:0042393', 'GO:0019904', 'GO:0032200', 'GO:0006336'}, 'Q8WWM7': {'GO:0010494', 'GO:0098641', 'GO:0005737', 'GO:0005913', 'GO:0044822', 'GO:0005515', 'GO:0016020', 'GO:0098609', 'GO:0010603', 'GO:0016607', 'GO:0034063'}, 'Q9NQX4': {'GO:0016459', 'GO:0005516', 'GO:0070062', 'GO:0005524', 'GO:0003774', 'GO:0003779'}, 'P08708': {'GO:0005654', 'GO:0034101', 'GO:0005925', 'GO:0006614', 'GO:0031012', 'GO:0044822', 'GO:0070062', 'GO:0005829', 'GO:0000184', 'GO:0005840', 'GO:0006364', 'GO:0016020', 'GO:0019083', 'GO:0042274', 'GO:0003735', 'GO:0000028', 'GO:0006412', 'GO:0022627', 'GO:0006413'}, 'P05023': {'GO:0043209', 'GO:0010248', 'GO:0016324', 'GO:0055119', 'GO:1903779', 'GO:0042470', 'GO:0086009', 'GO:0015991', 'GO:0006883', 'GO:1903416', 'GO:0002028', 'GO:0030007', 'GO:1903561', 'GO:0005768', 'GO:0005901', 'GO:0034220', 'GO:0014069', 'GO:0060081', 'GO:0071383', 'GO:0045989', 'GO:0016021', 'GO:0016020', 'GO:0036376', 'GO:0042383', 'GO:0051087', 'GO:0005783', 'GO:0086013', 'GO:0005391', 'GO:0016791', 'GO:0008217', 'GO:0005886', 'GO:0031402', 'GO:0043234', 'GO:0016323', 'GO:0019901', 'GO:0030955', 'GO:0045822', 'GO:0005515', 'GO:1990573', 'GO:0005890', 'GO:0030315', 'GO:0043548', 'GO:0071260', 'GO:0086002', 'GO:0014704', 'GO:0086064', 'GO:1990239', 'GO:0042493', 'GO:0043231', 'GO:0016311', 'GO:0002026', 'GO:0005794', 'GO:0070062', 'GO:0005524', 'GO:0030506', 'GO:0010107', 'GO:0045823', 'GO:0019904', 'GO:0086004', 'GO:0043531', 'GO:0031947'}, 'Q6P2E9': {'GO:0005654', 'GO:0005634', 'GO:0000932', 'GO:0005737', 'GO:0043231', 'GO:0043928', 'GO:0005829', 'GO:0008150', 'GO:0005515', 'GO:0016020', 'GO:0031087'}, 'Q14974': {'GO:0008270', 'GO:0031965', 'GO:0005829', 'GO:0040001', 'GO:0019899', 'GO:0051879', 'GO:0005654', 'GO:0030953', 'GO:0090307', 'GO:0008139', 'GO:0044822', 'GO:0007079', 'GO:0006309', 'GO:0016020', 'GO:0008565', 'GO:0000060', 'GO:0005737', 'GO:0006606', 'GO:0075733', 'GO:0005635', 'GO:0019054', 'GO:0031291', 'GO:0005515', 'GO:0005643', 'GO:0000059', 'GO:0045184', 'GO:0034399', 'GO:0070062', 'GO:0006610', 'GO:0006607', 'GO:0071782', 'GO:0019904', 'GO:0007080', 'GO:0008536'}, 'P05386': {'GO:0022625', 'GO:0005737', 'GO:0005925', 'GO:0032147', 'GO:0006614', 'GO:0030295', 'GO:0045860', 'GO:0002181', 'GO:0030687', 'GO:0005829', 'GO:0070062', 'GO:0006414', 'GO:0000184', 'GO:0070180', 'GO:0005515', 'GO:0006364', 'GO:0019083', 'GO:0003735', 'GO:0006412', 'GO:0006413'}, 'Q71U36': {'GO:0043209', 'GO:0005881', 'GO:0005634', 'GO:0007010', 'GO:0030705', 'GO:0005200', 'GO:0005525', 'GO:0070062', 'GO:0005829', 'GO:0055037', 'GO:0005874', 'GO:0003924', 'GO:0019904', 'GO:0005515', 'GO:0005198', 'GO:0036464', 'GO:0000086', 'GO:0051301', 'GO:0007017'}, 'Q16695': {'GO:0005654', 'GO:0046982', 'GO:0005634', 'GO:0000788', 'GO:0032460', 'GO:0070062', 'GO:0006334', 'GO:0016233', 'GO:0042393', 'GO:0005515', 'GO:0006303', 'GO:0031492', 'GO:0000786', 'GO:0051290'}, 'Q99832': {'GO:1904871', 'GO:1904874', 'GO:0005829', 'GO:0051082', 'GO:0005874', 'GO:0061077', 'GO:0044183', 'GO:0050821', 'GO:0042802', 'GO:0006458', 'GO:1901998', 'GO:0044297', 'GO:0005737', 'GO:1904851', 'GO:0007339', 'GO:0005832', 'GO:0005515', 'GO:0032212', 'GO:0070062', 'GO:0005524', 'GO:0006457', 'GO:0002199', 'GO:0005739'}, 'P55795': {'GO:0005654', 'GO:0005634', 'GO:0005737', 'GO:0010467', 'GO:0044822', 'GO:0003723', 'GO:0030529', 'GO:0000398', 'GO:0005515', 'GO:0016020', 'GO:0000166'}, 'Q96TA2': {'GO:0005654', 'GO:0004176', 'GO:0007005', 'GO:0006515', 'GO:0004222', 'GO:0005524', 'GO:0008283', 'GO:0035694', 'GO:0008237', 'GO:0005743', 'GO:0016021', 'GO:0016020', 'GO:0005739', 'GO:0046872'}, 'Q9BTM1': {'GO:0046982', 'GO:0006342', 'GO:0070062', 'GO:0003674', 'GO:0008150', 'GO:0000790', 'GO:0003677', 'GO:0000786'}, 'P48643': {'GO:0043209', 'GO:1904871', 'GO:1904874', 'GO:0005829', 'GO:0051082', 'GO:0005874', 'GO:0061077', 'GO:0044183', 'GO:0050821', 'GO:0005813', 'GO:0006458', 'GO:1901998', 'GO:0044297', 'GO:0005737', 'GO:1904851', 'GO:0007339', 'GO:0005832', 'GO:0005515', 'GO:0009615', 'GO:0032212', 'GO:0070062', 'GO:0005524', 'GO:0005730', 'GO:0048487', 'GO:0006457', 'GO:0002199', 'GO:0031681'}, 'Q13263': {'GO:0070087', 'GO:1901536', 'GO:0008270', 'GO:0005720', 'GO:0003700', 'GO:0000122', 'GO:0045087', 'GO:0004842', 'GO:0046777', 'GO:0016925', 'GO:0016567', 'GO:0003677', 'GO:0005654', 'GO:0007566', 'GO:0005634', 'GO:0003714', 'GO:0035851', 'GO:0043388', 'GO:0044822', 'GO:0045869', 'GO:0006367', 'GO:0045739', 'GO:0045944', 'GO:0042993', 'GO:0060669', 'GO:0016874', 'GO:0004672', 'GO:0001105', 'GO:0045893', 'GO:0001837', 'GO:0090309', 'GO:0006281', 'GO:0043045', 'GO:0090575', 'GO:0007265', 'GO:0005515', 'GO:0005719', 'GO:0031625', 'GO:2000653', 'GO:0043565', 'GO:1902187', 'GO:1990841', 'GO:0051259', 'GO:0003682', 'GO:0016569', 'GO:0060028', 'GO:0045892'}, 'P30050': {'GO:0022625', 'GO:0005925', 'GO:0006614', 'GO:0031012', 'GO:0044822', 'GO:0070062', 'GO:0005829', 'GO:0000027', 'GO:0005730', 'GO:0000184', 'GO:0005515', 'GO:0006364', 'GO:0016020', 'GO:0019083', 'GO:0019843', 'GO:0003735', 'GO:0006412', 'GO:0006413'}, 'Q96CS3': {'GO:0005783', 'GO:0043086', 'GO:0055102', 'GO:0043130', 'GO:0006986', 'GO:0035473', 'GO:0034098', 'GO:0005515', 'GO:0030970', 'GO:0005811', 'GO:0031625', 'GO:0030433', 'GO:0034389'}, 'Q9UFW8': {'GO:0001227', 'GO:0005654', 'GO:0005634', 'GO:0006351', 'GO:0042802', 'GO:0000122', 'GO:0000977', 'GO:0005515', 'GO:0003690'}, 'P05141': {'GO:0043209', 'GO:0006810', 'GO:0005743', 'GO:0008284', 'GO:1901029', 'GO:0005634', 'GO:0055085', 'GO:0031012', 'GO:0044822', 'GO:0015207', 'GO:0016020', 'GO:0050796', 'GO:0015853', 'GO:0005515', 'GO:0031625', 'GO:0007059', 'GO:0005887', 'GO:0070062', 'GO:0042645', 'GO:0071817', 'GO:0016032', 'GO:0005739'}, 'P20671': {'GO:0046982', 'GO:0005634', 'GO:0006342', 'GO:0070062', 'GO:0003674', 'GO:0008150', 'GO:0000790', 'GO:0003677', 'GO:0000786'}, 'Q93077': {'GO:0046982', 'GO:0005634', 'GO:0008285', 'GO:0006342', 'GO:0070062', 'GO:0003674', 'GO:0000790', 'GO:0003677', 'GO:0000786'}, 'P07919': {'GO:0005750', 'GO:0008121', 'GO:0055114', 'GO:0006122', 'GO:1902600', 'GO:0005746', 'GO:0005743', 'GO:0006119', 'GO:0005515', 'GO:0009060', 'GO:0005739'}, 'Q5VTE0': {'GO:0005634', 'GO:0005737', 'GO:0003746', 'GO:0005525', 'GO:0005615', 'GO:0070062', 'GO:0003674', 'GO:0008150', 'GO:0003924', 'GO:0006414'}, 'Q00839': {'GO:0010628', 'GO:0010467', 'GO:0030529', 'GO:0032211', 'GO:0070937', 'GO:0035326', 'GO:0003677', 'GO:0071013', 'GO:0005654', 'GO:0005634', 'GO:0031012', 'GO:0044822', 'GO:0070934', 'GO:0043021', 'GO:2000373', 'GO:0055013', 'GO:0016020', 'GO:0036464', 'GO:0071549', 'GO:0070034', 'GO:0001649', 'GO:0005515', 'GO:0006396', 'GO:0034046', 'GO:0032922', 'GO:0009986', 'GO:0001047', 'GO:0003723', 'GO:0005524', 'GO:0000398', 'GO:0005697'}, 'P52597': {'GO:0005654', 'GO:0043484', 'GO:0005634', 'GO:0005737', 'GO:0010467', 'GO:0017025', 'GO:0044822', 'GO:0003723', 'GO:0000398', 'GO:0005515', 'GO:0003727', 'GO:0006396', 'GO:0016020', 'GO:0000166', 'GO:0008543', 'GO:0071013'}, 'P27708': {'GO:0008270', 'GO:0000050', 'GO:0043195', 'GO:0005829', 'GO:0042594', 'GO:0001889', 'GO:0019899', 'GO:0046777', 'GO:0051414', 'GO:0070335', 'GO:0042995', 'GO:0005654', 'GO:0005634', 'GO:0004088', 'GO:0017144', 'GO:0006228', 'GO:0042802', 'GO:0004087', 'GO:0046134', 'GO:0014075', 'GO:0033574', 'GO:0016020', 'GO:0019240', 'GO:0004672', 'GO:0032868', 'GO:0004070', 'GO:0018107', 'GO:0007507', 'GO:0006526', 'GO:0016363', 'GO:0043234', 'GO:0007595', 'GO:0044205', 'GO:0006207', 'GO:0035690', 'GO:0071364', 'GO:0007565', 'GO:0031000', 'GO:0070062', 'GO:0005524', 'GO:0031100', 'GO:0004151', 'GO:0043025', 'GO:0006541'}, 'Q99880': {'GO:0005654', 'GO:0046982', 'GO:0005634', 'GO:0000788', 'GO:0005737', 'GO:0070062', 'GO:0006334', 'GO:0000786', 'GO:0003677'}, 'Q99878': {'GO:0046982', 'GO:0005634', 'GO:0006342', 'GO:0070062', 'GO:0003674', 'GO:0008150', 'GO:0000790', 'GO:0003677', 'GO:0000786'}, 'Q8TAQ2': {'GO:0006337', 'GO:0000978', 'GO:0000122', 'GO:0021882', 'GO:0005654', 'GO:0071565', 'GO:0000980', 'GO:0006357', 'GO:0003713', 'GO:0006351', 'GO:0045893', 'GO:0043234', 'GO:0005515', 'GO:0043044', 'GO:0017053', 'GO:0071564', 'GO:0000790', 'GO:0016569', 'GO:0006338', 'GO:0016514', 'GO:0031492', 'GO:0045892'}, 'P78537': {'GO:0005759', 'GO:0018394', 'GO:0048490', 'GO:0016197', 'GO:1904115', 'GO:0005758', 'GO:0032418', 'GO:0032438', 'GO:0070062', 'GO:0005615', 'GO:0005829', 'GO:0060155', 'GO:0031175', 'GO:0031083', 'GO:0008089', 'GO:0005515', 'GO:0099078', 'GO:0009060', 'GO:0005765'}, 'Q71DI3': {'GO:0005654', 'GO:0046982', 'GO:0005634', 'GO:0045815', 'GO:0045814', 'GO:0007596', 'GO:0031047', 'GO:0070062', 'GO:0005576', 'GO:0000183', 'GO:0000122', 'GO:0006334', 'GO:0042393', 'GO:0005515', 'GO:0031492', 'GO:0000786', 'GO:0044267'}, 'P52294': {'GO:0005654', 'GO:0005634', 'GO:0005737', 'GO:0008139', 'GO:0075733', 'GO:0005829', 'GO:0006607', 'GO:0030425', 'GO:0019054', 'GO:0000018', 'GO:0005515', 'GO:0006309', 'GO:0008565', 'GO:0005643'}, 'Q9UHD2': {'GO:0032728', 'GO:0010629', 'GO:0005829', 'GO:0045087', 'GO:0050830', 'GO:0032727', 'GO:0032481', 'GO:0018105', 'GO:0045944', 'GO:0010008', 'GO:0004672', 'GO:0005737', 'GO:0035666', 'GO:0051219', 'GO:0044565', 'GO:0004674', 'GO:0005515', 'GO:1904417', 'GO:0009615', 'GO:0003676', 'GO:1901214', 'GO:0005524', 'GO:0032480', 'GO:0032606', 'GO:0007249', 'GO:0006954', 'GO:0045359', 'GO:0051607', 'GO:0043123', 'GO:0033138'}, 'P22102': {'GO:0021549', 'GO:0006189', 'GO:0010033', 'GO:0070062', 'GO:0005524', 'GO:0005829', 'GO:0004637', 'GO:0006544', 'GO:0009113', 'GO:0003360', 'GO:0004641', 'GO:0004644', 'GO:0009168', 'GO:0010035', 'GO:0046654', 'GO:0021987', 'GO:0046872'}, 'Q8N163': {'GO:0090311', 'GO:0032435', 'GO:0032784', 'GO:0004857', 'GO:1900034', 'GO:0009411', 'GO:0016055', 'GO:0019899', 'GO:0005654', 'GO:0005634', 'GO:2000003', 'GO:0044822', 'GO:0048511', 'GO:0030308', 'GO:0043653', 'GO:1902230', 'GO:0044609', 'GO:0031647', 'GO:0006351', 'GO:0005737', 'GO:0006397', 'GO:0090263', 'GO:0005515', 'GO:0005681', 'GO:0000993', 'GO:0005759', 'GO:0043086', 'GO:0008380', 'GO:0007049', 'GO:0000790', 'GO:0006974', 'GO:0042752', 'GO:0045892', 'GO:0043065'}, 'P11142': {'GO:0043209', 'GO:0005925', 'GO:0005913', 'GO:0030529', 'GO:0005829', 'GO:0051082', 'GO:0051085', 'GO:0042470', 'GO:1900034', 'GO:0098609', 'GO:0019899', 'GO:0001786', 'GO:0046034', 'GO:0005654', 'GO:0098575', 'GO:0005634', 'GO:0043488', 'GO:1904589', 'GO:0072562', 'GO:0031012', 'GO:0042623', 'GO:0044822', 'GO:0007269', 'GO:0072318', 'GO:0042026', 'GO:0016020', 'GO:0000151', 'GO:0023026', 'GO:0044829', 'GO:0031647', 'GO:0006351', 'GO:0098641', 'GO:1902904', 'GO:0061741', 'GO:0005770', 'GO:0005615', 'GO:0048026', 'GO:0005886', 'GO:0009267', 'GO:0051726', 'GO:0043202', 'GO:0005515', 'GO:0031625', 'GO:0005681', 'GO:0055131', 'GO:0098793', 'GO:0005765', 'GO:0043254', 'GO:0061202', 'GO:0061684', 'GO:0061740', 'GO:0006986', 'GO:0000974', 'GO:0070062', 'GO:0005524', 'GO:0061635', 'GO:1904764', 'GO:0001664', 'GO:0031072', 'GO:0005730', 'GO:0000398', 'GO:0005622', 'GO:0016032', 'GO:0016887', 'GO:0006457', 'GO:0045892', 'GO:0061738'}, 'P08238': {'GO:0008180', 'GO:0016324', 'GO:0032564', 'GO:0005913', 'GO:0032435', 'GO:0005829', 'GO:0051082', 'GO:0032516', 'GO:0017098', 'GO:0031396', 'GO:0042470', 'GO:1900034', 'GO:0098609', 'GO:0050821', 'GO:1990917', 'GO:0005654', 'GO:0005634', 'GO:0038096', 'GO:0044822', 'GO:0060334', 'GO:0034751', 'GO:0071902', 'GO:0071407', 'GO:0008144', 'GO:0097435', 'GO:1990913', 'GO:0030235', 'GO:0002135', 'GO:0016020', 'GO:0023026', 'GO:0003725', 'GO:0098641', 'GO:0045597', 'GO:0005737', 'GO:0019900', 'GO:1903660', 'GO:0009651', 'GO:0005525', 'GO:0001890', 'GO:0030511', 'GO:0046983', 'GO:0016323', 'GO:0019887', 'GO:0019901', 'GO:0031526', 'GO:1990226', 'GO:0005515', 'GO:0030911', 'GO:0005765', 'GO:0035690', 'GO:0016234', 'GO:0071353', 'GO:0009986', 'GO:0006986', 'GO:0042826', 'GO:0043524', 'GO:0070062', 'GO:0005524', 'GO:0019062', 'GO:0002134', 'GO:0045429', 'GO:0031072', 'GO:0032092', 'GO:0045793', 'GO:2000010', 'GO:0001948', 'GO:0060338', 'GO:0006457', 'GO:0005739', 'GO:0033160', 'GO:0042220', 'GO:0044325'}, 'P17987': {'GO:0043209', 'GO:0005720', 'GO:1904871', 'GO:1904874', 'GO:0005829', 'GO:0051082', 'GO:0005874', 'GO:0061077', 'GO:0044183', 'GO:0090666', 'GO:0001669', 'GO:0050821', 'GO:0005813', 'GO:0044822', 'GO:0006458', 'GO:1901998', 'GO:0044297', 'GO:0051973', 'GO:0044053', 'GO:0000242', 'GO:1904851', 'GO:0007339', 'GO:0005832', 'GO:0005515', 'GO:0031625', 'GO:0032212', 'GO:0005794', 'GO:0070062', 'GO:0005524', 'GO:0006457', 'GO:0002199', 'GO:0007021', 'GO:2000109'}, 'P31942': {'GO:0005654', 'GO:0005634', 'GO:0008380', 'GO:0044822', 'GO:0003723', 'GO:0000398', 'GO:0005515', 'GO:0006396', 'GO:0005681', 'GO:0030855', 'GO:0000166'}, 'P22626': {'GO:0010467', 'GO:0030529', 'GO:0000122', 'GO:0006406', 'GO:0048025', 'GO:0000166', 'GO:1905663', 'GO:0071013', 'GO:0005654', 'GO:0003730', 'GO:0005634', 'GO:0044806', 'GO:0044822', 'GO:0000781', 'GO:0097157', 'GO:0016020', 'GO:1904358', 'GO:0098505', 'GO:0005737', 'GO:0016363', 'GO:0006397', 'GO:0031053', 'GO:0043047', 'GO:0005515', 'GO:0005681', 'GO:0050658', 'GO:1990247', 'GO:0003723', 'GO:0070062', 'GO:0000398', 'GO:1990428', 'GO:0015030', 'GO:0035198'}, 'P35232': {'GO:0010628', 'GO:0043209', 'GO:0070373', 'GO:0007005', 'GO:0071897', 'GO:0000122', 'GO:0007165', 'GO:0005743', 'GO:0060766', 'GO:0019899', 'GO:0050821', 'GO:0005654', 'GO:2000323', 'GO:0005634', 'GO:0006355', 'GO:0016575', 'GO:0045745', 'GO:0008022', 'GO:0030308', 'GO:0016020', 'GO:0070374', 'GO:0005737', 'GO:0042177', 'GO:0045893', 'GO:0010944', 'GO:0001649', 'GO:0045917', 'GO:0005886', 'GO:0071354', 'GO:0010942', 'GO:0005515', 'GO:0005887', 'GO:0001850', 'GO:0009986', 'GO:0044212', 'GO:0008285', 'GO:0042826', 'GO:0042981', 'GO:0070062', 'GO:0000981', 'GO:0001851', 'GO:0031871', 'GO:0005769', 'GO:0050847', 'GO:0005739', 'GO:0045892'}, 'Q9Y5M8': {'GO:0005881', 'GO:0005737', 'GO:0005789', 'GO:0006614', 'GO:0005047', 'GO:0007264', 'GO:0005525', 'GO:0016021', 'GO:0016020', 'GO:0005785', 'GO:0036498'}, 'P49411': {'GO:0043209', 'GO:0003746', 'GO:0044822', 'GO:0005525', 'GO:0045471', 'GO:0070062', 'GO:0003924', 'GO:0042645', 'GO:0006414', 'GO:0005743', 'GO:0070125', 'GO:0005515', 'GO:0016020', 'GO:0005739'}, 'P20700': {'GO:0005654', 'GO:0031965', 'GO:0016363', 'GO:0005635', 'GO:0005637', 'GO:0005515', 'GO:0005638', 'GO:0005198', 'GO:0016020', 'GO:0043274'}, 'Q05639': {'GO:0043209', 'GO:0005853', 'GO:0090218', 'GO:0005737', 'GO:0003746', 'GO:1904714', 'GO:0008135', 'GO:0005525', 'GO:0098574', 'GO:0003924', 'GO:0019901', 'GO:0006414', 'GO:0005515', 'GO:0010035', 'GO:0051602', 'GO:0043025', 'GO:0043065'}, 'P51571': {'GO:0070062', 'GO:0016021', 'GO:0005784'}, 'Q96A08': {'GO:0005654', 'GO:0031639', 'GO:0005634', 'GO:0000788', 'GO:0006337', 'GO:0046982', 'GO:0000784', 'GO:0051099', 'GO:0071674', 'GO:0003674', 'GO:0006334', 'GO:0006954', 'GO:0019897', 'GO:0035093', 'GO:0003677', 'GO:0000786'}, 'Q15907': {'GO:0007264', 'GO:0005913', 'GO:0090150', 'GO:2000008', 'GO:0008021', 'GO:0098609', 'GO:0030672', 'GO:0030054', 'GO:0031489', 'GO:0019003', 'GO:0035773', 'GO:0033572', 'GO:0032402', 'GO:0001881', 'GO:0071468', 'GO:1990126', 'GO:0098641', 'GO:0005525', 'GO:0005886', 'GO:0003924', 'GO:0005515', 'GO:0045055', 'GO:0055038', 'GO:0016235', 'GO:0045335', 'GO:0005815', 'GO:0070062', 'GO:0055037', 'GO:2001135', 'GO:0045054', 'GO:0044070', 'GO:0005739', 'GO:0030670'}, 'P78527': {'GO:0033153', 'GO:0043065', 'GO:0001756', 'GO:0097681', 'GO:0035234', 'GO:0005958', 'GO:0002638', 'GO:0005829', 'GO:0048536', 'GO:0019899', 'GO:0032481', 'GO:0005654', 'GO:0004677', 'GO:0010332', 'GO:0002684', 'GO:0014823', 'GO:0008134', 'GO:0000784', 'GO:0043066', 'GO:0048660', 'GO:0031012', 'GO:0018105', 'GO:0044822', 'GO:2001229', 'GO:0048511', 'GO:0005667', 'GO:0002360', 'GO:0032869', 'GO:0031648', 'GO:0045944', 'GO:0006303', 'GO:0016020', 'GO:0048146', 'GO:0002328', 'GO:0070419', 'GO:0033152', 'GO:0004672', 'GO:0048538', 'GO:0007507', 'GO:0006464', 'GO:0008283', 'GO:0016233', 'GO:0004674', 'GO:0005515', 'GO:0048639', 'GO:0002326', 'GO:0008630', 'GO:2000773', 'GO:0072431', 'GO:0005524', 'GO:0006302', 'GO:0007420', 'GO:0005730', 'GO:0001933', 'GO:0003690', 'GO:0042752', 'GO:0033077'}, 'Q99879': {'GO:0005654', 'GO:0046982', 'GO:0005634', 'GO:0000788', 'GO:0005737', 'GO:0070062', 'GO:0006334', 'GO:0000786', 'GO:0003677'}, 'Q96FJ2': {'GO:0019886', 'GO:0005634', 'GO:0008092', 'GO:0005813', 'GO:1900740', 'GO:0008039', 'GO:0016459', 'GO:0097542', 'GO:0030286', 'GO:0005829', 'GO:0005886', 'GO:0005874', 'GO:0006888', 'GO:0003774', 'GO:0005515', 'GO:0016020', 'GO:0016236', 'GO:0005739', 'GO:0007017'}, 'P53992': {'GO:0001701', 'GO:0019886', 'GO:0008270', 'GO:0006886', 'GO:0005789', 'GO:0000139', 'GO:0003674', 'GO:0005829', 'GO:0006888', 'GO:0048208', 'GO:0012507', 'GO:0005515', 'GO:0048471', 'GO:0030127', 'GO:0002474'}, 'P10606': {'GO:0070062', 'GO:0004129', 'GO:0006123', 'GO:0005743', 'GO:0005515', 'GO:0005751', 'GO:0007585', 'GO:0042776', 'GO:0005739', 'GO:0046872'}, 'Q96KK5': {'GO:0046982', 'GO:0006342', 'GO:0070062', 'GO:0003674', 'GO:0008150', 'GO:0000790', 'GO:0003677', 'GO:0000786'}, 'Q09028': {'GO:0016580', 'GO:0004407', 'GO:0000978', 'GO:1901796', 'GO:0006335', 'GO:0008094', 'GO:0005654', 'GO:0005634', 'GO:0045814', 'GO:0006355', 'GO:0016575', 'GO:0000980', 'GO:0035098', 'GO:0006351', 'GO:0043234', 'GO:0016581', 'GO:0051726', 'GO:0005515', 'GO:0043044', 'GO:0034080', 'GO:0006260', 'GO:0007049', 'GO:0008285', 'GO:0042826', 'GO:0016589', 'GO:0000790', 'GO:0033186', 'GO:0042393', 'GO:0006338', 'GO:0031497', 'GO:0031492', 'GO:0006336'}}\n"
     ]
    }
   ],
   "source": [
    "print(gafDict)"
   ]
  },
  {
   "cell_type": "code",
   "execution_count": 83,
   "metadata": {
    "collapsed": false,
    "scrolled": true
   },
   "outputs": [
    {
     "name": "stdout",
     "output_type": "stream",
     "text": [
      "{'P35637': {'GO:0005654', 'GO:0030331', 'GO:0008270', 'GO:0005844', 'GO:0031489', 'GO:0044327', 'GO:0035255', 'GO:0046966', 'GO:0071277', 'GO:0046965', 'GO:0043204'}, 'Q7L7L0': {'GO:0046982', 'GO:0000788', 'GO:0070914', 'GO:0070062'}, 'P23396': {'GO:0005925', 'GO:0006614', 'GO:0005743', 'GO:0051879', 'GO:0005654', 'GO:0005844', 'GO:0032587', 'GO:0072686', 'GO:0070181', 'GO:0032357', 'GO:0032079', 'GO:0003735', 'GO:0070301', 'GO:0097100', 'GO:0005759', 'GO:0070062', 'GO:1905053', 'GO:0005730', 'GO:0061481', 'GO:0032358', 'GO:0030544', 'GO:0022627'}, 'P04844': {'GO:0004579', 'GO:0005791'}, 'P09651': {'GO:0005654', 'GO:0098505', 'GO:0061752', 'GO:0032212', 'GO:1903936', 'GO:0070062', 'GO:0032211'}, 'Q96HA1': {'GO:0007077', 'GO:0005635', 'GO:0017056', 'GO:0005643', 'GO:0008139'}, 'Q93008': {'GO:0004843', 'GO:0070410'}, 'Q9Y4I1': {'GO:0005516', 'GO:0032593', 'GO:0005794', 'GO:0070062', 'GO:0005524', 'GO:0032402', 'GO:0032869', 'GO:0042470', 'GO:0032433', 'GO:0001726', 'GO:0001750', 'GO:0017137', 'GO:0043025'}, 'P06899': {'GO:0005654', 'GO:0046982', 'GO:0000788', 'GO:0005615', 'GO:0050830', 'GO:0002227'}, 'P68431': {'GO:0005654', 'GO:0098641', 'GO:0046982', 'GO:0000788', 'GO:0000784', 'GO:0007596', 'GO:0070062', 'GO:0000183', 'GO:0006335', 'GO:0051290', 'GO:0031492'}, 'Q969J3': {'GO:0099078', 'GO:0005873', 'GO:0098574'}, 'P14866': {'GO:0005654', 'GO:0070062', 'GO:0000381'}, 'P10412': {'GO:0098532', 'GO:0016584', 'GO:0070062', 'GO:0080182'}, 'P16615': {'GO:0055119', 'GO:0031095', 'GO:1990036', 'GO:0005524', 'GO:0086039', 'GO:0016529', 'GO:0014883', 'GO:0014898', 'GO:0086036', 'GO:1903515', 'GO:0044548', 'GO:0033292', 'GO:0031234', 'GO:0097470', 'GO:0098909', 'GO:0031775'}, 'P31943': {'GO:0005654', 'GO:0008266'}, 'P12004': {'GO:0000082', 'GO:0000701', 'GO:0035035', 'GO:0030337', 'GO:0043626', 'GO:0006977', 'GO:0000722', 'GO:0043596', 'GO:0005654', 'GO:0032405', 'GO:0000784', 'GO:0070182', 'GO:0006296', 'GO:0006297', 'GO:0097421', 'GO:0042276', 'GO:1902990', 'GO:0030331', 'GO:0006283', 'GO:0070301', 'GO:0070987', 'GO:0070062', 'GO:0070557', 'GO:0044849'}, 'P12036': {'GO:0043209', 'GO:0033693', 'GO:0005883', 'GO:0097418', 'GO:0048936'}, 'O43175': {'GO:0043209', 'GO:0070062', 'GO:0006564', 'GO:0021915', 'GO:0021510', 'GO:0004617', 'GO:0007420'}, 'Q13263': {'GO:0070087', 'GO:1901536', 'GO:0005654', 'GO:0008270', 'GO:0090309', 'GO:0035851', 'GO:1990841', 'GO:0045869', 'GO:0006367', 'GO:0031625', 'GO:0005719', 'GO:2000653', 'GO:0060669', 'GO:0007566'}, 'Q14257': {'GO:0005730'}, 'P45880': {'GO:0043209', 'GO:0005741', 'GO:0042645', 'GO:0070062', 'GO:0005743'}, 'Q32P51': set(), 'O15131': {'GO:0005654', 'GO:0005643', 'GO:0006607', 'GO:0008139'}, 'P50402': {'GO:0098641', 'GO:0007084', 'GO:0007077', 'GO:0005635', 'GO:0035414', 'GO:0005637', 'GO:0005640', 'GO:0048487'}, 'P31942': {'GO:0005654'}, 'Q5QNW6': {'GO:0005654', 'GO:0046982', 'GO:0000788', 'GO:0070062'}, 'P51149': {'GO:0007174', 'GO:0019886', 'GO:0033162', 'GO:0097208', 'GO:0030904', 'GO:0019003', 'GO:0005525', 'GO:0005794', 'GO:0070062', 'GO:0048365', 'GO:1903543', 'GO:0032419', 'GO:0061724', 'GO:1905366', 'GO:1903542', 'GO:1905394', 'GO:0045022', 'GO:0034045', 'GO:0045453'}, 'Q9BQE3': {'GO:0005525'}, 'O15269': {'GO:0004758', 'GO:0035339', 'GO:0046511', 'GO:0030170', 'GO:1904504', 'GO:0046512', 'GO:0006686'}, 'Q00325': {'GO:0043209', 'GO:0005730', 'GO:0070062', 'GO:0005743', 'GO:0015320'}, 'P21796': {'GO:0043209', 'GO:0005741', 'GO:0070062', 'GO:0042645', 'GO:0001662', 'GO:0005743', 'GO:0044325'}, 'Q99877': {'GO:0005654', 'GO:0046982', 'GO:0000788', 'GO:0070062'}, 'Q71UM5': {'GO:0005654', 'GO:0008494', 'GO:0008656', 'GO:0031571', 'GO:0042771', 'GO:0003735', 'GO:0000028', 'GO:0022627'}, 'Q8IXQ5': {'GO:0005654', 'GO:0005730', 'GO:0042803', 'GO:0031463'}, 'O60684': {'GO:0005654', 'GO:0005643', 'GO:0006607', 'GO:0008139'}, 'P52597': {'GO:0005654'}, 'P46934': {'GO:0010768', 'GO:0014068', 'GO:0003197', 'GO:0005794', 'GO:0019871', 'GO:0070062', 'GO:0050816', 'GO:0042921', 'GO:0035255', 'GO:0050847', 'GO:0003151', 'GO:0031698', 'GO:0016327', 'GO:0043162', 'GO:0030948'}, 'Q8N257': {'GO:0005654', 'GO:0046982', 'GO:0000788'}, 'O95816': {'GO:0000774', 'GO:0051087'}, 'P0C0S8': {'GO:0046982', 'GO:0070062'}, 'P08238': {'GO:0016324', 'GO:0032564', 'GO:0051082', 'GO:0017098', 'GO:0042470', 'GO:0050821', 'GO:1990917', 'GO:0005654', 'GO:0038096', 'GO:1990913', 'GO:0002135', 'GO:0023026', 'GO:0098641', 'GO:1903660', 'GO:0030511', 'GO:0005525', 'GO:0001890', 'GO:1990226', 'GO:0016323', 'GO:0031526', 'GO:0030911', 'GO:0071353', 'GO:0009986', 'GO:0042826', 'GO:0070062', 'GO:0005524', 'GO:2000010', 'GO:0002134', 'GO:0045429', 'GO:0008180', 'GO:0033160', 'GO:0044325'}, 'Q96B45': {'GO:0099078'}, 'P68104': {'GO:0043209', 'GO:0005853', 'GO:0071364', 'GO:0003746', 'GO:0005525', 'GO:0005615', 'GO:0070062', 'GO:0032587', 'GO:0098574', 'GO:0005730'}, 'P04908': {'GO:0046982', 'GO:0070062'}, 'Q9P258': {'GO:1990023', 'GO:0007229', 'GO:0072356', 'GO:0034506', 'GO:0048365', 'GO:0005730', 'GO:0048041', 'GO:0090630', 'GO:1900025', 'GO:0051895', 'GO:0030496', 'GO:0034260'}, 'Q99729': {'GO:0005654'}, 'P60866': {'GO:0005654', 'GO:0070062', 'GO:0003735', 'GO:0022627', 'GO:0006614'}, 'Q15758': {'GO:0006860', 'GO:0001618', 'GO:0015194', 'GO:0005794', 'GO:0070062', 'GO:0042470'}, 'P31689': {'GO:0007283', 'GO:0070062', 'GO:0051082', 'GO:0005524', 'GO:0030957', 'GO:0043508', 'GO:0030317', 'GO:0051087', 'GO:0031625', 'GO:1905259', 'GO:0050750', 'GO:0055131', 'GO:0030544'}, 'P35268': {'GO:0022625', 'GO:0005925', 'GO:0006614', 'GO:0002181', 'GO:0070062', 'GO:0003735', 'GO:0008201'}, 'P12273': {'GO:0016324', 'GO:0070062', 'GO:0005615', 'GO:0019864', 'GO:0001580'}, 'P57053': {'GO:0005654', 'GO:0046982', 'GO:0000788', 'GO:0005615', 'GO:0050830', 'GO:0002227', 'GO:0021762'}, 'P49755': {'GO:0042589', 'GO:0070765', 'GO:0005794', 'GO:0070062', 'GO:0005801', 'GO:0033116', 'GO:0030140', 'GO:0006888', 'GO:0042470', 'GO:0048208', 'GO:0012507', 'GO:0035964', 'GO:0005793'}, 'P49790': {'GO:0005654', 'GO:0042405', 'GO:0008270', 'GO:0008139', 'GO:0007077', 'GO:0034399', 'GO:0044615', 'GO:0005730', 'GO:0017056', 'GO:0044613', 'GO:0005643'}, 'P05388': {'GO:0022625', 'GO:0005925', 'GO:0071353', 'GO:0006614', 'GO:0002181', 'GO:0030687', 'GO:0070062', 'GO:0003735'}, 'Q16531': {'GO:0005654', 'GO:0070914', 'GO:0000784', 'GO:0006283', 'GO:0070911', 'GO:0031464', 'GO:0046726', 'GO:0070062', 'GO:0006296', 'GO:0005615', 'GO:0006295', 'GO:0006294', 'GO:0000717', 'GO:0006293'}, 'Q6FI13': {'GO:0046982', 'GO:0070062'}, 'P63167': {'GO:0019886', 'GO:1900740', 'GO:0097542', 'GO:0070062', 'GO:0072686', 'GO:0005868', 'GO:0006888', 'GO:0000086', 'GO:0008180', 'GO:0021762'}, 'P23527': {'GO:0005654', 'GO:0046982', 'GO:0000788'}, 'P53992': {'GO:0001701', 'GO:0019886', 'GO:0008270', 'GO:0006888', 'GO:0048208', 'GO:0012507', 'GO:0030127'}, 'P62879': {'GO:0043209', 'GO:0071377', 'GO:0005925', 'GO:0070062', 'GO:0005615'}, 'P61978': {'GO:0005654', 'GO:0098641', 'GO:0005925', 'GO:0070062', 'GO:0048025', 'GO:0045716', 'GO:0002102'}, 'P62807': {'GO:0005654', 'GO:0046982', 'GO:0000788', 'GO:0070062', 'GO:0005615', 'GO:0050830', 'GO:0002227'}, 'Q96AX9': {'GO:0008270'}, 'P39687': {'GO:0005654'}, 'P20700': {'GO:0005654', 'GO:0016363', 'GO:0005635', 'GO:0005637', 'GO:0005638', 'GO:0043274'}, 'P78527': {'GO:0005654', 'GO:0004677', 'GO:0048538', 'GO:0001756', 'GO:0097681', 'GO:0000784', 'GO:0035234', 'GO:2000773', 'GO:0005958', 'GO:2001229', 'GO:0005524', 'GO:0016233', 'GO:0048536', 'GO:0032869', 'GO:0031648', 'GO:0007420', 'GO:0005730', 'GO:0002328', 'GO:0033153'}, 'Q08211': {'GO:0005654', 'GO:0070934', 'GO:0001649', 'GO:1903608', 'GO:0005524', 'GO:0097165', 'GO:0005730', 'GO:0070937'}, 'Q9UIG0': {'GO:0005654', 'GO:0008270', 'GO:0048096', 'GO:0004715', 'GO:0005524', 'GO:0003007', 'GO:0071884', 'GO:0043596', 'GO:0070577'}, 'O75569': {'GO:0005654', 'GO:0042803', 'GO:0035196', 'GO:0042474', 'GO:0031054', 'GO:0042473'}, 'O43791': {'GO:0005654', 'GO:2000676', 'GO:0031463', 'GO:1902237', 'GO:0031625'}, 'P58876': {'GO:0005654', 'GO:0046982', 'GO:0000788', 'GO:0070062'}, 'Q6NXT2': {'GO:0046982', 'GO:0031492', 'GO:0005719'}, 'P0DMV9': {'GO:0005654', 'GO:0001618', 'GO:0005925', 'GO:0005814', 'GO:0042826', 'GO:0070434', 'GO:0051082', 'GO:0005524', 'GO:0044183', 'GO:1903265', 'GO:2001240', 'GO:0031625', 'GO:0055131', 'GO:0050821', 'GO:0070370'}, 'P35613': {'GO:0098641', 'GO:0005925', 'GO:0002080', 'GO:0070062', 'GO:0042470', 'GO:0072661', 'GO:0042383', 'GO:0046697', 'GO:0005537', 'GO:0007566'}, 'P51532': {'GO:0007070', 'GO:0005654', 'GO:1902895', 'GO:1901838', 'GO:0070182', 'GO:0071565', 'GO:1904837', 'GO:0000980', 'GO:0001164', 'GO:0050681', 'GO:1902661', 'GO:0005615', 'GO:0030957', 'GO:0070577', 'GO:0007399', 'GO:0071564', 'GO:0005524', 'GO:0043923', 'GO:0002039', 'GO:0005730', 'GO:0003407', 'GO:0016514', 'GO:0031492'}, 'P42677': {'GO:0005654', 'GO:0008270', 'GO:0006614', 'GO:0003735', 'GO:0022627', 'GO:0000028'}, 'A8CG34': {'GO:0007077', 'GO:0005635', 'GO:0017056', 'GO:0005643', 'GO:0008139'}, 'Q93079': {'GO:0005654', 'GO:0046982', 'GO:0000788', 'GO:0070062'}, 'P19338': {'GO:0005654', 'GO:0071364', 'GO:1901838', 'GO:0070062', 'GO:0008022', 'GO:0005730'}, 'O95831': {'GO:0045454', 'GO:0005758', 'GO:0071949', 'GO:0070301', 'GO:1904045', 'GO:0071392', 'GO:0016174', 'GO:0005743', 'GO:0071732', 'GO:0090650', 'GO:0002931'}, 'P07437': {'GO:0005641', 'GO:0005525', 'GO:0070062', 'GO:0031625', 'GO:0032794', 'GO:0000086'}, 'P04843': {'GO:0004579', 'GO:0042470', 'GO:0005791'}, 'P84243': {'GO:0005654', 'GO:0046982', 'GO:0031508', 'GO:0031509', 'GO:0000788', 'GO:0008584', 'GO:0000784', 'GO:0007596', 'GO:0070062', 'GO:0001649', 'GO:0048477', 'GO:0007286', 'GO:0000183', 'GO:0001740', 'GO:0007338', 'GO:0000979', 'GO:0035264', 'GO:0000980', 'GO:0031492', 'GO:0007566'}, 'P62805': {'GO:0005654', 'GO:0046982', 'GO:0000788', 'GO:0000784', 'GO:0034080', 'GO:0045653', 'GO:0070062', 'GO:1904837', 'GO:0000183', 'GO:0016233', 'GO:0006335', 'GO:0051290'}, 'Q8WWM7': {'GO:0010494', 'GO:0098641', 'GO:0034063'}, 'Q9NQX4': {'GO:0005516', 'GO:0070062', 'GO:0005524'}, 'Q09028': {'GO:0005654', 'GO:0035098', 'GO:0016580', 'GO:0034080', 'GO:0042826', 'GO:0016589', 'GO:0033186', 'GO:0006335', 'GO:0016581', 'GO:0000980', 'GO:0031492'}, 'P08708': {'GO:0005654', 'GO:0034101', 'GO:0005925', 'GO:0006614', 'GO:0070062', 'GO:0042274', 'GO:0003735', 'GO:0000028', 'GO:0022627'}, 'P05023': {'GO:0043209', 'GO:0010248', 'GO:0016324', 'GO:0055119', 'GO:0042470', 'GO:0015991', 'GO:0006883', 'GO:0005901', 'GO:0060081', 'GO:0036376', 'GO:0051087', 'GO:0042383', 'GO:0031402', 'GO:0016323', 'GO:0030955', 'GO:1990573', 'GO:0005890', 'GO:0030315', 'GO:0071260', 'GO:0014704', 'GO:0005794', 'GO:0070062', 'GO:0005524', 'GO:0030506', 'GO:0010107', 'GO:0043531'}, 'Q6P2E9': {'GO:0005654', 'GO:0000932'}, 'Q14974': {'GO:0005654', 'GO:0000059', 'GO:0008270', 'GO:0090307', 'GO:0008139', 'GO:0034399', 'GO:0005635', 'GO:0070062', 'GO:0006610', 'GO:0006607', 'GO:0007079', 'GO:0006309', 'GO:0007080', 'GO:0051879', 'GO:0005643', 'GO:0000060', 'GO:0008536'}, 'P05386': {'GO:0022625', 'GO:0005925', 'GO:0006614', 'GO:0002181', 'GO:0030687', 'GO:0070062', 'GO:0003735'}, 'Q71U36': {'GO:0043209', 'GO:0005525', 'GO:0070062', 'GO:0000086'}, 'Q16695': {'GO:0005654', 'GO:0046982', 'GO:0000788', 'GO:0070062', 'GO:0016233', 'GO:0031492', 'GO:0051290'}, 'Q99832': {'GO:0032212', 'GO:1904851', 'GO:1904871', 'GO:1904874', 'GO:0007339', 'GO:0005832', 'GO:0070062', 'GO:0051082', 'GO:0005524', 'GO:0044183', 'GO:0050821', 'GO:0002199'}, 'Q16777': {'GO:0046982', 'GO:0070062'}, 'P55795': {'GO:0005654'}, 'Q96TA2': {'GO:0005654', 'GO:0035694', 'GO:0004176', 'GO:0005743', 'GO:0005524'}, 'Q9BTM1': {'GO:0046982', 'GO:0070062'}, 'P33778': {'GO:0005654', 'GO:0046982', 'GO:0000788', 'GO:0000784'}, 'Q92688': {'GO:0005730', 'GO:0070062', 'GO:0021591'}, 'P30050': {'GO:0022625', 'GO:0005925', 'GO:0006614', 'GO:0070062', 'GO:0005730', 'GO:0003735'}, 'Q96CS3': {'GO:0030970', 'GO:0034098', 'GO:0031625', 'GO:0035473'}, 'Q9UFW8': {'GO:0005654'}, 'P05141': {'GO:0043209', 'GO:0070062', 'GO:0015207', 'GO:0042645', 'GO:0005743', 'GO:0031625', 'GO:0071817', 'GO:1901029'}, 'O00264': {'GO:0012505', 'GO:0020037', 'GO:0070062', 'GO:0005730'}, 'Q93077': {'GO:0046982', 'GO:0070062'}, 'P07919': {'GO:0005750', 'GO:0008121', 'GO:0006122', 'GO:0005746', 'GO:0005743', 'GO:0006119'}, 'P20671': {'GO:0046982', 'GO:0070062'}, 'Q12906': {'GO:0005654', 'GO:0005730'}, 'P27708': {'GO:0005654', 'GO:0008270', 'GO:0004070', 'GO:0071364', 'GO:0007565', 'GO:0004088', 'GO:0000050', 'GO:0006228', 'GO:0004087', 'GO:0016363', 'GO:0070062', 'GO:0005524', 'GO:0007595', 'GO:0004151', 'GO:0044205', 'GO:0043025', 'GO:0070335', 'GO:0006207'}, 'Q99880': {'GO:0005654', 'GO:0046982', 'GO:0000788', 'GO:0070062'}, 'P48643': {'GO:0043209', 'GO:0032212', 'GO:1904851', 'GO:1904871', 'GO:1904874', 'GO:0007339', 'GO:0005832', 'GO:0070062', 'GO:0051082', 'GO:0005524', 'GO:0044183', 'GO:0005730', 'GO:0048487', 'GO:0050821', 'GO:0002199', 'GO:0031681'}, 'Q99878': {'GO:0046982', 'GO:0070062'}, 'P78537': {'GO:0005759', 'GO:0048490', 'GO:1904115', 'GO:0005758', 'GO:0070062', 'GO:0005615', 'GO:0060155', 'GO:0031083', 'GO:0099078'}, 'Q969G3': {'GO:0005654', 'GO:0016922', 'GO:0071564', 'GO:0071565', 'GO:0000980', 'GO:0016514', 'GO:0031492'}, 'P22626': {'GO:0005654', 'GO:0044806', 'GO:0098505', 'GO:0035198', 'GO:0016363', 'GO:1990247', 'GO:0070062', 'GO:0048025', 'GO:1905663', 'GO:0015030'}, 'Q71DI3': {'GO:0005654', 'GO:0046982', 'GO:0007596', 'GO:0070062', 'GO:0000183', 'GO:0031492'}, 'Q9UHD2': {'GO:0005524', 'GO:0044565', 'GO:0007249', 'GO:0045359', 'GO:0050830', 'GO:1904417'}, 'Q00839': {'GO:0005654', 'GO:0070034', 'GO:0032922', 'GO:0009986', 'GO:0070934', 'GO:0001649', 'GO:0032211', 'GO:2000373', 'GO:0005524', 'GO:0070937', 'GO:0034046', 'GO:0071549'}, 'P22102': {'GO:0021549', 'GO:0006189', 'GO:0070062', 'GO:0005524', 'GO:0004637', 'GO:0003360', 'GO:0004641', 'GO:0004644', 'GO:0021987'}, 'Q8N163': {'GO:0005654', 'GO:0000993', 'GO:0005759', 'GO:0043653', 'GO:0044609'}, 'P11142': {'GO:0043209', 'GO:0005925', 'GO:0051085', 'GO:0051082', 'GO:0042470', 'GO:0001786', 'GO:0098575', 'GO:0005654', 'GO:0023026', 'GO:0044829', 'GO:1902904', 'GO:0098641', 'GO:0061741', 'GO:0005615', 'GO:0048026', 'GO:0031625', 'GO:0055131', 'GO:0061202', 'GO:0061684', 'GO:0061740', 'GO:0000974', 'GO:0070062', 'GO:0005524', 'GO:0061635', 'GO:1904764', 'GO:0005730', 'GO:0005622', 'GO:0061738'}, 'Q16778': {'GO:0005654', 'GO:0046982', 'GO:0000788', 'GO:0070062', 'GO:0005615', 'GO:0050830', 'GO:0002227'}, 'P17987': {'GO:0043209', 'GO:0032212', 'GO:0000242', 'GO:1904851', 'GO:1904871', 'GO:1904874', 'GO:0007339', 'GO:0005832', 'GO:0005794', 'GO:0070062', 'GO:0051082', 'GO:0005524', 'GO:0044183', 'GO:0090666', 'GO:0031625', 'GO:0001669', 'GO:0050821', 'GO:0044053', 'GO:0002199', 'GO:0007021'}, 'Q8TAQ2': {'GO:0005654', 'GO:0071564', 'GO:0071565', 'GO:0000980', 'GO:0016514', 'GO:0031492'}, 'Q14839': {'GO:0005654', 'GO:0008270', 'GO:0042826', 'GO:0001103', 'GO:0005524', 'GO:0016581', 'GO:0072553', 'GO:0000980', 'GO:0031492'}, 'P35232': {'GO:0043209', 'GO:0005654', 'GO:2000323', 'GO:0070373', 'GO:0001850', 'GO:0009986', 'GO:0010944', 'GO:0042826', 'GO:0001649', 'GO:0070062', 'GO:0001851', 'GO:0008022', 'GO:0071354', 'GO:0005743', 'GO:0050847', 'GO:0050821'}, 'Q9Y5M8': {'GO:0005785', 'GO:0005047', 'GO:0036498', 'GO:0005525', 'GO:0006614'}, 'P49411': {'GO:0043209', 'GO:0003746', 'GO:0005525', 'GO:0070062', 'GO:0042645', 'GO:0005743', 'GO:0070125'}, 'Q14164': {'GO:0016605', 'GO:0007252', 'GO:0005524', 'GO:0038061', 'GO:0031625', 'GO:0036435', 'GO:0004704', 'GO:0008384'}, 'O60814': {'GO:0005654', 'GO:0046982', 'GO:0000788', 'GO:0005615', 'GO:0050830', 'GO:0002227'}, 'P51571': {'GO:0070062', 'GO:0005784'}, 'Q96A08': {'GO:0005654', 'GO:0046982', 'GO:0000788', 'GO:0035093', 'GO:0000784'}, 'Q15907': {'GO:0098641', 'GO:0055038', 'GO:0030672', 'GO:0016235', 'GO:0031489', 'GO:0019003', 'GO:0035773', 'GO:0005525', 'GO:0070062', 'GO:0033572', 'GO:0032402', 'GO:0045054'}, 'Q05639': {'GO:0043209', 'GO:0005853', 'GO:0003746', 'GO:0005525', 'GO:0098574', 'GO:0043025'}, 'Q9NQ55': {'GO:0005730', 'GO:0030687'}, 'Q99879': {'GO:0005654', 'GO:0046982', 'GO:0000788', 'GO:0070062'}, 'P52294': {'GO:0005654', 'GO:0005643', 'GO:0006607', 'GO:0006309', 'GO:0008139'}, 'Q96FJ2': {'GO:1900740', 'GO:0019886', 'GO:0008039', 'GO:0097542', 'GO:0006888'}, 'Q5VTE0': {'GO:0005525', 'GO:0005615', 'GO:0070062', 'GO:0003746'}, 'P10606': {'GO:0070062', 'GO:0004129', 'GO:0006123', 'GO:0005743', 'GO:0005751', 'GO:0042776'}, 'Q96KK5': {'GO:0046982', 'GO:0070062'}, 'Q9UNL2': {'GO:0005622', 'GO:0006614'}}\n"
     ]
    }
   ],
   "source": [
    "baseGOids = {gene:set() for gene in gafDict}\n",
    "for gene, GOids in gafDict.items():\n",
    "    for GOid in GOids:\n",
    "        if not gterms[GOid].childs:\n",
    "            baseGOids[gene].add(GOid)\n",
    "print(baseGOids)"
   ]
  },
  {
   "cell_type": "code",
   "execution_count": 92,
   "metadata": {
    "collapsed": false
   },
   "outputs": [
    {
     "name": "stdout",
     "output_type": "stream",
     "text": [
      "['GO:0008270', 'GO:0035255', 'GO:0005654', 'GO:0005844', 'GO:0031489', 'GO:0071277', 'GO:0046965', 'GO:0030331', 'GO:0044327', 'GO:0046966', 'GO:0043204', 'GO:0046982', 'GO:0000788', 'GO:0070914', 'GO:0070062', 'GO:0005925', 'GO:0006614', 'GO:0005743', 'GO:0051879', 'GO:0005654', 'GO:0005844', 'GO:0032587', 'GO:0072686', 'GO:0070181', 'GO:0032357', 'GO:0032079', 'GO:0003735', 'GO:0070301', 'GO:0097100', 'GO:0005759', 'GO:0070062', 'GO:1905053', 'GO:0005730', 'GO:0061481', 'GO:0032358', 'GO:0030544', 'GO:0022627', 'GO:0005654', 'GO:0046982', 'GO:0000788', 'GO:0070062', 'GO:0004843', 'GO:0070410', 'GO:0004579', 'GO:0005791', 'GO:0032211', 'GO:0005654', 'GO:1903936', 'GO:0098505', 'GO:0061752', 'GO:0032212', 'GO:0070062', 'GO:0008139', 'GO:0007077', 'GO:0005635', 'GO:0017056', 'GO:0005643', 'GO:0043209', 'GO:0098574', 'GO:0032587', 'GO:0005853', 'GO:0005525', 'GO:0005615', 'GO:0071364', 'GO:0003746', 'GO:0070062', 'GO:0005730', 'GO:0042470', 'GO:0017137', 'GO:0032402', 'GO:0032869', 'GO:0005516', 'GO:0032593', 'GO:0032433', 'GO:0005794', 'GO:0070062', 'GO:0005524', 'GO:0001726', 'GO:0001750', 'GO:0043025', 'GO:0005654', 'GO:0046982', 'GO:0000788', 'GO:0005615', 'GO:0050830', 'GO:0002227', 'GO:0006335', 'GO:0005654', 'GO:0000784', 'GO:0098641', 'GO:0007596', 'GO:0051290', 'GO:0046982', 'GO:0000788', 'GO:0070062', 'GO:0000183', 'GO:0031492', 'GO:0098574', 'GO:0099078', 'GO:0005873', 'GO:0005654', 'GO:0000381', 'GO:0070062', 'GO:0080182', 'GO:0098532', 'GO:0070062', 'GO:0016584', 'GO:0055119', 'GO:0033292', 'GO:1990036', 'GO:0014883', 'GO:0044548', 'GO:0031234', 'GO:0031775', 'GO:0031095', 'GO:0014898', 'GO:0086036', 'GO:0097470', 'GO:0005524', 'GO:0016529', 'GO:0086039', 'GO:1903515', 'GO:0098909', 'GO:0005654', 'GO:0046982', 'GO:0000788', 'GO:0000784', 'GO:0005654', 'GO:0008266', 'GO:0000082', 'GO:0000701', 'GO:0035035', 'GO:0030337', 'GO:0043626', 'GO:0006977', 'GO:0000722', 'GO:0043596', 'GO:0005654', 'GO:0032405', 'GO:0000784', 'GO:0070182', 'GO:0006296', 'GO:0006297', 'GO:0097421', 'GO:0042276', 'GO:1902990', 'GO:0030331', 'GO:0006283', 'GO:0070301', 'GO:0070987', 'GO:0070062', 'GO:0070557', 'GO:0044849', 'GO:0043209', 'GO:0097418', 'GO:0033693', 'GO:0048936', 'GO:0005883', 'GO:0043209', 'GO:0070062', 'GO:0006564', 'GO:0021915', 'GO:0004617', 'GO:0007420', 'GO:0021510', 'GO:0030687', 'GO:0005730', 'GO:0005730', 'GO:0043209', 'GO:0005741', 'GO:0070062', 'GO:0042645', 'GO:0005743', 'GO:0005654', 'GO:0046982', 'GO:0000788', 'GO:0070062', 'GO:0005654', 'GO:0008139', 'GO:0006607', 'GO:0005643', 'GO:0007077', 'GO:0007084', 'GO:0035414', 'GO:0098641', 'GO:0005635', 'GO:0005637', 'GO:0005640', 'GO:0048487', 'GO:0005654', 'GO:0046982', 'GO:0000788', 'GO:0070062', 'GO:0007174', 'GO:0033162', 'GO:1905394', 'GO:0019003', 'GO:0061724', 'GO:0045022', 'GO:0019886', 'GO:0097208', 'GO:0030904', 'GO:0005525', 'GO:0048365', 'GO:0032419', 'GO:1905366', 'GO:1903542', 'GO:0005794', 'GO:0070062', 'GO:1903543', 'GO:0034045', 'GO:0045453', 'GO:0005525', 'GO:0004758', 'GO:0035339', 'GO:0030170', 'GO:0046511', 'GO:1904504', 'GO:0046512', 'GO:0006686', 'GO:0043209', 'GO:0070062', 'GO:0005730', 'GO:0005743', 'GO:0015320', 'GO:0005654', 'GO:0005730', 'GO:0043209', 'GO:0001662', 'GO:0005743', 'GO:0005741', 'GO:0070062', 'GO:0042645', 'GO:0044325', 'GO:0046982', 'GO:0070062', 'GO:0005654', 'GO:0008494', 'GO:0008656', 'GO:0031571', 'GO:0042771', 'GO:0003735', 'GO:0000028', 'GO:0022627', 'GO:0005654', 'GO:0042803', 'GO:0031463', 'GO:0005730', 'GO:0005654', 'GO:0008139', 'GO:0006607', 'GO:0005643', 'GO:0012505', 'GO:0020037', 'GO:0070062', 'GO:0005730', 'GO:0010768', 'GO:0014068', 'GO:0035255', 'GO:0031698', 'GO:0016327', 'GO:0043162', 'GO:0042921', 'GO:0030948', 'GO:0050816', 'GO:0003151', 'GO:0003197', 'GO:0005794', 'GO:0019871', 'GO:0070062', 'GO:0050847', 'GO:0005654', 'GO:0046982', 'GO:0000788', 'GO:0000774', 'GO:0051087', 'GO:0046982', 'GO:0070062', 'GO:0099078', 'GO:0005654', 'GO:0046982', 'GO:0000788', 'GO:0070062', 'GO:0005615', 'GO:0050830', 'GO:0002227', 'GO:0046982', 'GO:0070062', 'GO:0034506', 'GO:0090630', 'GO:1990023', 'GO:0072356', 'GO:0051895', 'GO:0007229', 'GO:0048365', 'GO:0030496', 'GO:0005730', 'GO:0048041', 'GO:1900025', 'GO:0034260', 'GO:0005654', 'GO:0005654', 'GO:0006614', 'GO:0070062', 'GO:0003735', 'GO:0022627', 'GO:0006860', 'GO:0001618', 'GO:0005794', 'GO:0015194', 'GO:0070062', 'GO:0042470', 'GO:0007283', 'GO:0051082', 'GO:1905259', 'GO:0051087', 'GO:0050750', 'GO:0030957', 'GO:0043508', 'GO:0030317', 'GO:0031625', 'GO:0055131', 'GO:0070062', 'GO:0005524', 'GO:0030544', 'GO:0022625', 'GO:0005925', 'GO:0006614', 'GO:0002181', 'GO:0070062', 'GO:0003735', 'GO:0008201', 'GO:0016324', 'GO:0019864', 'GO:0070062', 'GO:0005615', 'GO:0001580', 'GO:0005654', 'GO:0046982', 'GO:0000788', 'GO:0005615', 'GO:0050830', 'GO:0002227', 'GO:0021762', 'GO:0005801', 'GO:0030140', 'GO:0042470', 'GO:0048208', 'GO:0005793', 'GO:0012507', 'GO:0035964', 'GO:0042589', 'GO:0070765', 'GO:0033116', 'GO:0006888', 'GO:0005794', 'GO:0070062', 'GO:0008270', 'GO:0001103', 'GO:0005654', 'GO:0000980', 'GO:0016581', 'GO:0072553', 'GO:0042826', 'GO:0005524', 'GO:0031492', 'GO:0008270', 'GO:0007077', 'GO:0044613', 'GO:0005654', 'GO:0008139', 'GO:0042405', 'GO:0044615', 'GO:0005643', 'GO:0034399', 'GO:0005730', 'GO:0017056', 'GO:0005925', 'GO:0006614', 'GO:0002181', 'GO:0022625', 'GO:0003735', 'GO:0071353', 'GO:0030687', 'GO:0070062', 'GO:0031464', 'GO:0046726', 'GO:0005654', 'GO:0070914', 'GO:0000784', 'GO:0006296', 'GO:0000717', 'GO:0006283', 'GO:0005615', 'GO:0006295', 'GO:0006294', 'GO:0070911', 'GO:0070062', 'GO:0006293', 'GO:0046982', 'GO:0070062', 'GO:0097542', 'GO:0072686', 'GO:0005868', 'GO:0019886', 'GO:0006888', 'GO:0021762', 'GO:1900740', 'GO:0070062', 'GO:0000086', 'GO:0008180', 'GO:0005654', 'GO:0046982', 'GO:0000788', 'GO:0043209', 'GO:0005925', 'GO:0071377', 'GO:0070062', 'GO:0005615', 'GO:0005925', 'GO:0048025', 'GO:0045716', 'GO:0005654', 'GO:0002102', 'GO:0098641', 'GO:0070062', 'GO:0005654', 'GO:0046982', 'GO:0000788', 'GO:0070062', 'GO:0005615', 'GO:0050830', 'GO:0002227', 'GO:0008270', 'GO:0005654', 'GO:0070062', 'GO:0005730', 'GO:0021591', 'GO:0007252', 'GO:0036435', 'GO:0031625', 'GO:0016605', 'GO:0004704', 'GO:0008384', 'GO:0005524', 'GO:0038061', 'GO:0016922', 'GO:0005654', 'GO:0071565', 'GO:0000980', 'GO:0071564', 'GO:0016514', 'GO:0031492', 'GO:1903608', 'GO:0070937', 'GO:0005654', 'GO:0070934', 'GO:0001649', 'GO:0005524', 'GO:0097165', 'GO:0005730', 'GO:0005622', 'GO:0006614', 'GO:0008270', 'GO:0003007', 'GO:0043596', 'GO:0005654', 'GO:0070577', 'GO:0048096', 'GO:0004715', 'GO:0005524', 'GO:0071884', 'GO:0005654', 'GO:0035196', 'GO:0042473', 'GO:0031054', 'GO:0042803', 'GO:0042474', 'GO:0005654', 'GO:2000676', 'GO:0031463', 'GO:1902237', 'GO:0031625', 'GO:0005654', 'GO:0046982', 'GO:0000788', 'GO:0070062', 'GO:0046982', 'GO:0005719', 'GO:0031492', 'GO:0005925', 'GO:0051082', 'GO:0044183', 'GO:2001240', 'GO:0050821', 'GO:0005654', 'GO:0001618', 'GO:0005814', 'GO:0070434', 'GO:0031625', 'GO:0055131', 'GO:0042826', 'GO:0005524', 'GO:1903265', 'GO:0070370', 'GO:0005925', 'GO:0042470', 'GO:0007566', 'GO:0042383', 'GO:0098641', 'GO:0046697', 'GO:0005537', 'GO:0002080', 'GO:0070062', 'GO:0072661', 'GO:0007070', 'GO:0005654', 'GO:1902895', 'GO:1901838', 'GO:0070182', 'GO:0071565', 'GO:1904837', 'GO:0000980', 'GO:0001164', 'GO:0050681', 'GO:1902661', 'GO:0005615', 'GO:0030957', 'GO:0070577', 'GO:0007399', 'GO:0071564', 'GO:0005524', 'GO:0043923', 'GO:0002039', 'GO:0005730', 'GO:0003407', 'GO:0016514', 'GO:0031492', 'GO:0005654', 'GO:0022627', 'GO:0008270', 'GO:0006614', 'GO:0003735', 'GO:0000028', 'GO:0008139', 'GO:0007077', 'GO:0005635', 'GO:0017056', 'GO:0005643', 'GO:0005654', 'GO:0046982', 'GO:0000788', 'GO:0005615', 'GO:0050830', 'GO:0002227', 'GO:0005654', 'GO:0071364', 'GO:1901838', 'GO:0070062', 'GO:0008022', 'GO:0005730', 'GO:0071949', 'GO:0005743', 'GO:0005758', 'GO:1904045', 'GO:0071732', 'GO:0045454', 'GO:0070301', 'GO:0016174', 'GO:0002931', 'GO:0071392', 'GO:0090650', 'GO:0005641', 'GO:0032794', 'GO:0005525', 'GO:0031625', 'GO:0070062', 'GO:0000086', 'GO:0004579', 'GO:0005791', 'GO:0042470', 'GO:0048477', 'GO:0007566', 'GO:0005654', 'GO:0031508', 'GO:0000784', 'GO:0000979', 'GO:0000980', 'GO:0031509', 'GO:0008584', 'GO:0007596', 'GO:0001649', 'GO:0007286', 'GO:0046982', 'GO:0000788', 'GO:0070062', 'GO:0000183', 'GO:0001740', 'GO:0007338', 'GO:0035264', 'GO:0031492', 'GO:0006335', 'GO:0005654', 'GO:0000784', 'GO:1904837', 'GO:0045653', 'GO:0016233', 'GO:0051290', 'GO:0046982', 'GO:0000788', 'GO:0034080', 'GO:0070062', 'GO:0000183', 'GO:0010494', 'GO:0098641', 'GO:0034063', 'GO:0005516', 'GO:0070062', 'GO:0005524', 'GO:0005654', 'GO:0034101', 'GO:0005925', 'GO:0006614', 'GO:0070062', 'GO:0042274', 'GO:0003735', 'GO:0000028', 'GO:0022627', 'GO:0043209', 'GO:0010248', 'GO:0016324', 'GO:0055119', 'GO:0042470', 'GO:0015991', 'GO:0006883', 'GO:0005901', 'GO:0060081', 'GO:0036376', 'GO:0042383', 'GO:0051087', 'GO:0031402', 'GO:0016323', 'GO:0030955', 'GO:1990573', 'GO:0005890', 'GO:0030315', 'GO:0071260', 'GO:0014704', 'GO:0005794', 'GO:0070062', 'GO:0005524', 'GO:0030506', 'GO:0010107', 'GO:0043531', 'GO:0005654', 'GO:0000932', 'GO:0008270', 'GO:0051879', 'GO:0005654', 'GO:0090307', 'GO:0008139', 'GO:0007079', 'GO:0006309', 'GO:0000060', 'GO:0005635', 'GO:0005643', 'GO:0000059', 'GO:0034399', 'GO:0070062', 'GO:0006610', 'GO:0006607', 'GO:0007080', 'GO:0008536', 'GO:0022625', 'GO:0005925', 'GO:0006614', 'GO:0002181', 'GO:0030687', 'GO:0070062', 'GO:0003735', 'GO:0043209', 'GO:0005525', 'GO:0070062', 'GO:0000086', 'GO:0005654', 'GO:0046982', 'GO:0000788', 'GO:0070062', 'GO:0016233', 'GO:0031492', 'GO:0051290', 'GO:1904871', 'GO:1904874', 'GO:0051082', 'GO:0044183', 'GO:0050821', 'GO:1904851', 'GO:0007339', 'GO:0005832', 'GO:0032212', 'GO:0070062', 'GO:0005524', 'GO:0002199', 'GO:0005654', 'GO:0005654', 'GO:0004176', 'GO:0005524', 'GO:0035694', 'GO:0005743', 'GO:0046982', 'GO:0070062', 'GO:0043209', 'GO:1904871', 'GO:1904874', 'GO:0051082', 'GO:0044183', 'GO:0050821', 'GO:1904851', 'GO:0007339', 'GO:0005832', 'GO:0032212', 'GO:0070062', 'GO:0005524', 'GO:0005730', 'GO:0048487', 'GO:0002199', 'GO:0031681', 'GO:0070087', 'GO:1901536', 'GO:0008270', 'GO:0005654', 'GO:0007566', 'GO:0035851', 'GO:0045869', 'GO:0006367', 'GO:0060669', 'GO:0090309', 'GO:0005719', 'GO:0031625', 'GO:2000653', 'GO:1990841', 'GO:0022625', 'GO:0005925', 'GO:0006614', 'GO:0070062', 'GO:0005730', 'GO:0003735', 'GO:0035473', 'GO:0034098', 'GO:0030970', 'GO:0031625', 'GO:0005654', 'GO:0043209', 'GO:0005743', 'GO:1901029', 'GO:0015207', 'GO:0031625', 'GO:0070062', 'GO:0042645', 'GO:0071817', 'GO:0046982', 'GO:0070062', 'GO:0046982', 'GO:0070062', 'GO:0005750', 'GO:0008121', 'GO:0006122', 'GO:0005746', 'GO:0005743', 'GO:0006119', 'GO:0003746', 'GO:0005525', 'GO:0005615', 'GO:0070062', 'GO:0032211', 'GO:0070937', 'GO:0005654', 'GO:0070934', 'GO:2000373', 'GO:0071549', 'GO:0070034', 'GO:0001649', 'GO:0034046', 'GO:0032922', 'GO:0009986', 'GO:0005524', 'GO:0005654', 'GO:0008270', 'GO:0000050', 'GO:0070335', 'GO:0005654', 'GO:0004088', 'GO:0006228', 'GO:0004087', 'GO:0004070', 'GO:0016363', 'GO:0007595', 'GO:0044205', 'GO:0006207', 'GO:0071364', 'GO:0007565', 'GO:0070062', 'GO:0005524', 'GO:0004151', 'GO:0043025', 'GO:0005654', 'GO:0046982', 'GO:0000788', 'GO:0070062', 'GO:0046982', 'GO:0070062', 'GO:0005654', 'GO:0071565', 'GO:0000980', 'GO:0071564', 'GO:0016514', 'GO:0031492', 'GO:0005759', 'GO:0048490', 'GO:1904115', 'GO:0005758', 'GO:0070062', 'GO:0005615', 'GO:0060155', 'GO:0031083', 'GO:0099078', 'GO:0005654', 'GO:0046982', 'GO:0007596', 'GO:0070062', 'GO:0000183', 'GO:0031492', 'GO:0005654', 'GO:0008139', 'GO:0006607', 'GO:0006309', 'GO:0005643', 'GO:0050830', 'GO:0044565', 'GO:1904417', 'GO:0005524', 'GO:0007249', 'GO:0045359', 'GO:0021549', 'GO:0006189', 'GO:0070062', 'GO:0005524', 'GO:0004637', 'GO:0003360', 'GO:0004641', 'GO:0004644', 'GO:0021987', 'GO:0005654', 'GO:0043653', 'GO:0044609', 'GO:0000993', 'GO:0005759', 'GO:0043209', 'GO:0005925', 'GO:0051082', 'GO:0051085', 'GO:0042470', 'GO:0001786', 'GO:0005654', 'GO:0098575', 'GO:0023026', 'GO:0044829', 'GO:0098641', 'GO:1902904', 'GO:0061741', 'GO:0005615', 'GO:0048026', 'GO:0031625', 'GO:0055131', 'GO:0061202', 'GO:0061684', 'GO:0061740', 'GO:0000974', 'GO:0070062', 'GO:0005524', 'GO:0061635', 'GO:1904764', 'GO:0005730', 'GO:0005622', 'GO:0061738', 'GO:0008180', 'GO:0016324', 'GO:0032564', 'GO:0051082', 'GO:0017098', 'GO:0042470', 'GO:0050821', 'GO:1990917', 'GO:0005654', 'GO:0038096', 'GO:1990913', 'GO:0002135', 'GO:0023026', 'GO:0098641', 'GO:1903660', 'GO:0005525', 'GO:0001890', 'GO:0030511', 'GO:0016323', 'GO:0031526', 'GO:1990226', 'GO:0030911', 'GO:0071353', 'GO:0009986', 'GO:0042826', 'GO:0070062', 'GO:0005524', 'GO:0002134', 'GO:0045429', 'GO:2000010', 'GO:0033160', 'GO:0044325', 'GO:0043209', 'GO:1904871', 'GO:1904874', 'GO:0051082', 'GO:0044183', 'GO:0090666', 'GO:0001669', 'GO:0050821', 'GO:0044053', 'GO:0000242', 'GO:1904851', 'GO:0007339', 'GO:0005832', 'GO:0031625', 'GO:0032212', 'GO:0005794', 'GO:0070062', 'GO:0005524', 'GO:0002199', 'GO:0007021', 'GO:0005654', 'GO:0048025', 'GO:1905663', 'GO:0005654', 'GO:0044806', 'GO:0098505', 'GO:0016363', 'GO:1990247', 'GO:0070062', 'GO:0015030', 'GO:0035198', 'GO:0043209', 'GO:0070373', 'GO:0005743', 'GO:0050821', 'GO:0005654', 'GO:2000323', 'GO:0008022', 'GO:0010944', 'GO:0001649', 'GO:0071354', 'GO:0001850', 'GO:0009986', 'GO:0042826', 'GO:0070062', 'GO:0001851', 'GO:0050847', 'GO:0006614', 'GO:0005047', 'GO:0005525', 'GO:0005785', 'GO:0036498', 'GO:0043209', 'GO:0003746', 'GO:0005525', 'GO:0070062', 'GO:0042645', 'GO:0005743', 'GO:0070125', 'GO:0005654', 'GO:0016363', 'GO:0005635', 'GO:0005637', 'GO:0005638', 'GO:0043274', 'GO:0043209', 'GO:0005853', 'GO:0003746', 'GO:0005525', 'GO:0098574', 'GO:0043025', 'GO:0070062', 'GO:0005784', 'GO:0005654', 'GO:0000788', 'GO:0046982', 'GO:0000784', 'GO:0035093', 'GO:0030672', 'GO:0031489', 'GO:0019003', 'GO:0035773', 'GO:0033572', 'GO:0032402', 'GO:0098641', 'GO:0005525', 'GO:0055038', 'GO:0016235', 'GO:0070062', 'GO:0045054', 'GO:0033153', 'GO:0001756', 'GO:0097681', 'GO:0035234', 'GO:0005958', 'GO:0048536', 'GO:0005654', 'GO:0004677', 'GO:0000784', 'GO:2001229', 'GO:0032869', 'GO:0031648', 'GO:0002328', 'GO:0048538', 'GO:0016233', 'GO:2000773', 'GO:0005524', 'GO:0007420', 'GO:0005730', 'GO:0005654', 'GO:0046982', 'GO:0000788', 'GO:0070062', 'GO:0019886', 'GO:1900740', 'GO:0008039', 'GO:0097542', 'GO:0006888', 'GO:0001701', 'GO:0019886', 'GO:0008270', 'GO:0006888', 'GO:0048208', 'GO:0012507', 'GO:0030127', 'GO:0070062', 'GO:0004129', 'GO:0006123', 'GO:0005743', 'GO:0005751', 'GO:0042776', 'GO:0046982', 'GO:0070062', 'GO:0016580', 'GO:0006335', 'GO:0005654', 'GO:0000980', 'GO:0035098', 'GO:0016581', 'GO:0034080', 'GO:0042826', 'GO:0016589', 'GO:0033186', 'GO:0031492']\n",
      "['GO:0008270', 'GO:0035255', 'GO:0005654', 'GO:0005844', 'GO:0031489', 'GO:0071277', 'GO:0046965', 'GO:0030331', 'GO:0044327', 'GO:0046966', 'GO:0043204', 'GO:0046982', 'GO:0000788', 'GO:0070914', 'GO:0070062', 'GO:0005925', 'GO:0006614', 'GO:0005743', 'GO:0051879', 'GO:0005654', 'GO:0005844', 'GO:0032587', 'GO:0072686', 'GO:0070181', 'GO:0032357', 'GO:0032079', 'GO:0003735', 'GO:0070301', 'GO:0097100', 'GO:0005759', 'GO:0070062', 'GO:1905053', 'GO:0005730', 'GO:0061481', 'GO:0032358', 'GO:0030544', 'GO:0022627', 'GO:0005654', 'GO:0046982', 'GO:0000788', 'GO:0070062', 'GO:0004843', 'GO:0070410', 'GO:0004579', 'GO:0005791', 'GO:0032211', 'GO:0005654', 'GO:1903936', 'GO:0098505', 'GO:0061752', 'GO:0032212', 'GO:0070062', 'GO:0008139', 'GO:0007077', 'GO:0005635', 'GO:0017056', 'GO:0005643', 'GO:0043209', 'GO:0098574', 'GO:0032587', 'GO:0005853', 'GO:0005525', 'GO:0005615', 'GO:0071364', 'GO:0003746', 'GO:0070062', 'GO:0005730', 'GO:0042470', 'GO:0017137', 'GO:0032402', 'GO:0032869', 'GO:0005516', 'GO:0032593', 'GO:0032433', 'GO:0005794', 'GO:0070062', 'GO:0005524', 'GO:0001726', 'GO:0001750', 'GO:0043025', 'GO:0005654', 'GO:0046982', 'GO:0000788', 'GO:0005615', 'GO:0050830', 'GO:0002227', 'GO:0006335', 'GO:0005654', 'GO:0000784', 'GO:0098641', 'GO:0007596', 'GO:0051290', 'GO:0046982', 'GO:0000788', 'GO:0070062', 'GO:0000183', 'GO:0031492', 'GO:0098574', 'GO:0099078', 'GO:0005873', 'GO:0005654', 'GO:0000381', 'GO:0070062', 'GO:0080182', 'GO:0098532', 'GO:0070062', 'GO:0016584', 'GO:0055119', 'GO:0033292', 'GO:1990036', 'GO:0014883', 'GO:0044548', 'GO:0031234', 'GO:0031775', 'GO:0031095', 'GO:0014898', 'GO:0086036', 'GO:0097470', 'GO:0005524', 'GO:0016529', 'GO:0086039', 'GO:1903515', 'GO:0098909', 'GO:0005654', 'GO:0046982', 'GO:0000788', 'GO:0000784', 'GO:0005654', 'GO:0008266', 'GO:0000082', 'GO:0000701', 'GO:0035035', 'GO:0030337', 'GO:0043626', 'GO:0006977', 'GO:0000722', 'GO:0043596', 'GO:0005654', 'GO:0032405', 'GO:0000784', 'GO:0070182', 'GO:0006296', 'GO:0006297', 'GO:0097421', 'GO:0042276', 'GO:1902990', 'GO:0030331', 'GO:0006283', 'GO:0070301', 'GO:0070987', 'GO:0070062', 'GO:0070557', 'GO:0044849', 'GO:0043209', 'GO:0097418', 'GO:0033693', 'GO:0048936', 'GO:0005883', 'GO:0043209', 'GO:0070062', 'GO:0006564', 'GO:0021915', 'GO:0004617', 'GO:0007420', 'GO:0021510', 'GO:0030687', 'GO:0005730', 'GO:0005730', 'GO:0043209', 'GO:0005741', 'GO:0070062', 'GO:0042645', 'GO:0005743', 'GO:0005654', 'GO:0046982', 'GO:0000788', 'GO:0070062', 'GO:0005654', 'GO:0008139', 'GO:0006607', 'GO:0005643', 'GO:0007077', 'GO:0007084', 'GO:0035414', 'GO:0098641', 'GO:0005635', 'GO:0005637', 'GO:0005640', 'GO:0048487', 'GO:0005654', 'GO:0046982', 'GO:0000788', 'GO:0070062', 'GO:0007174', 'GO:0033162', 'GO:1905394', 'GO:0019003', 'GO:0061724', 'GO:0045022', 'GO:0019886', 'GO:0097208', 'GO:0030904', 'GO:0005525', 'GO:0048365', 'GO:0032419', 'GO:1905366', 'GO:1903542', 'GO:0005794', 'GO:0070062', 'GO:1903543', 'GO:0034045', 'GO:0045453', 'GO:0005525', 'GO:0004758', 'GO:0035339', 'GO:0030170', 'GO:0046511', 'GO:1904504', 'GO:0046512', 'GO:0006686', 'GO:0043209', 'GO:0070062', 'GO:0005730', 'GO:0005743', 'GO:0015320', 'GO:0005654', 'GO:0005730', 'GO:0043209', 'GO:0001662', 'GO:0005743', 'GO:0005741', 'GO:0070062', 'GO:0042645', 'GO:0044325', 'GO:0046982', 'GO:0070062', 'GO:0005654', 'GO:0008494', 'GO:0008656', 'GO:0031571', 'GO:0042771', 'GO:0003735', 'GO:0000028', 'GO:0022627', 'GO:0005654', 'GO:0042803', 'GO:0031463', 'GO:0005730', 'GO:0005654', 'GO:0008139', 'GO:0006607', 'GO:0005643', 'GO:0012505', 'GO:0020037', 'GO:0070062', 'GO:0005730', 'GO:0010768', 'GO:0014068', 'GO:0035255', 'GO:0031698', 'GO:0016327', 'GO:0043162', 'GO:0042921', 'GO:0030948', 'GO:0050816', 'GO:0003151', 'GO:0003197', 'GO:0005794', 'GO:0019871', 'GO:0070062', 'GO:0050847', 'GO:0005654', 'GO:0046982', 'GO:0000788', 'GO:0000774', 'GO:0051087', 'GO:0046982', 'GO:0070062', 'GO:0099078', 'GO:0005654', 'GO:0046982', 'GO:0000788', 'GO:0070062', 'GO:0005615', 'GO:0050830', 'GO:0002227', 'GO:0046982', 'GO:0070062', 'GO:0034506', 'GO:0090630', 'GO:1990023', 'GO:0072356', 'GO:0051895', 'GO:0007229', 'GO:0048365', 'GO:0030496', 'GO:0005730', 'GO:0048041', 'GO:1900025', 'GO:0034260', 'GO:0005654', 'GO:0005654', 'GO:0006614', 'GO:0070062', 'GO:0003735', 'GO:0022627', 'GO:0006860', 'GO:0001618', 'GO:0005794', 'GO:0015194', 'GO:0070062', 'GO:0042470', 'GO:0007283', 'GO:0051082', 'GO:1905259', 'GO:0051087', 'GO:0050750', 'GO:0030957', 'GO:0043508', 'GO:0030317', 'GO:0031625', 'GO:0055131', 'GO:0070062', 'GO:0005524', 'GO:0030544', 'GO:0022625', 'GO:0005925', 'GO:0006614', 'GO:0002181', 'GO:0070062', 'GO:0003735', 'GO:0008201', 'GO:0016324', 'GO:0019864', 'GO:0070062', 'GO:0005615', 'GO:0001580', 'GO:0005654', 'GO:0046982', 'GO:0000788', 'GO:0005615', 'GO:0050830', 'GO:0002227', 'GO:0021762', 'GO:0005801', 'GO:0030140', 'GO:0042470', 'GO:0048208', 'GO:0005793', 'GO:0012507', 'GO:0035964', 'GO:0042589', 'GO:0070765', 'GO:0033116', 'GO:0006888', 'GO:0005794', 'GO:0070062', 'GO:0008270', 'GO:0001103', 'GO:0005654', 'GO:0000980', 'GO:0016581', 'GO:0072553', 'GO:0042826', 'GO:0005524', 'GO:0031492', 'GO:0008270', 'GO:0007077', 'GO:0044613', 'GO:0005654', 'GO:0008139', 'GO:0042405', 'GO:0044615', 'GO:0005643', 'GO:0034399', 'GO:0005730', 'GO:0017056', 'GO:0005925', 'GO:0006614', 'GO:0002181', 'GO:0022625', 'GO:0003735', 'GO:0071353', 'GO:0030687', 'GO:0070062', 'GO:0031464', 'GO:0046726', 'GO:0005654', 'GO:0070914', 'GO:0000784', 'GO:0006296', 'GO:0000717', 'GO:0006283', 'GO:0005615', 'GO:0006295', 'GO:0006294', 'GO:0070911', 'GO:0070062', 'GO:0006293', 'GO:0046982', 'GO:0070062', 'GO:0097542', 'GO:0072686', 'GO:0005868', 'GO:0019886', 'GO:0006888', 'GO:0021762', 'GO:1900740', 'GO:0070062', 'GO:0000086', 'GO:0008180', 'GO:0005654', 'GO:0046982', 'GO:0000788', 'GO:0043209', 'GO:0005925', 'GO:0071377', 'GO:0070062', 'GO:0005615', 'GO:0005925', 'GO:0048025', 'GO:0045716', 'GO:0005654', 'GO:0002102', 'GO:0098641', 'GO:0070062', 'GO:0005654', 'GO:0046982', 'GO:0000788', 'GO:0070062', 'GO:0005615', 'GO:0050830', 'GO:0002227', 'GO:0008270', 'GO:0005654', 'GO:0070062', 'GO:0005730', 'GO:0021591', 'GO:0007252', 'GO:0036435', 'GO:0031625', 'GO:0016605', 'GO:0004704', 'GO:0008384', 'GO:0005524', 'GO:0038061', 'GO:0016922', 'GO:0005654', 'GO:0071565', 'GO:0000980', 'GO:0071564', 'GO:0016514', 'GO:0031492', 'GO:1903608', 'GO:0070937', 'GO:0005654', 'GO:0070934', 'GO:0001649', 'GO:0005524', 'GO:0097165', 'GO:0005730', 'GO:0005622', 'GO:0006614', 'GO:0008270', 'GO:0003007', 'GO:0043596', 'GO:0005654', 'GO:0070577', 'GO:0048096', 'GO:0004715', 'GO:0005524', 'GO:0071884', 'GO:0005654', 'GO:0035196', 'GO:0042473', 'GO:0031054', 'GO:0042803', 'GO:0042474', 'GO:0005654', 'GO:2000676', 'GO:0031463', 'GO:1902237', 'GO:0031625', 'GO:0005654', 'GO:0046982', 'GO:0000788', 'GO:0070062', 'GO:0046982', 'GO:0005719', 'GO:0031492', 'GO:0005925', 'GO:0051082', 'GO:0044183', 'GO:2001240', 'GO:0050821', 'GO:0005654', 'GO:0001618', 'GO:0005814', 'GO:0070434', 'GO:0031625', 'GO:0055131', 'GO:0042826', 'GO:0005524', 'GO:1903265', 'GO:0070370', 'GO:0005925', 'GO:0042470', 'GO:0007566', 'GO:0042383', 'GO:0098641', 'GO:0046697', 'GO:0005537', 'GO:0002080', 'GO:0070062', 'GO:0072661', 'GO:0007070', 'GO:0005654', 'GO:1902895', 'GO:1901838', 'GO:0070182', 'GO:0071565', 'GO:1904837', 'GO:0000980', 'GO:0001164', 'GO:0050681', 'GO:1902661', 'GO:0005615', 'GO:0030957', 'GO:0070577', 'GO:0007399', 'GO:0071564', 'GO:0005524', 'GO:0043923', 'GO:0002039', 'GO:0005730', 'GO:0003407', 'GO:0016514', 'GO:0031492', 'GO:0005654', 'GO:0022627', 'GO:0008270', 'GO:0006614', 'GO:0003735', 'GO:0000028', 'GO:0008139', 'GO:0007077', 'GO:0005635', 'GO:0017056', 'GO:0005643', 'GO:0005654', 'GO:0046982', 'GO:0000788', 'GO:0005615', 'GO:0050830', 'GO:0002227', 'GO:0005654', 'GO:0071364', 'GO:1901838', 'GO:0070062', 'GO:0008022', 'GO:0005730', 'GO:0071949', 'GO:0005743', 'GO:0005758', 'GO:1904045', 'GO:0071732', 'GO:0045454', 'GO:0070301', 'GO:0016174', 'GO:0002931', 'GO:0071392', 'GO:0090650', 'GO:0005641', 'GO:0032794', 'GO:0005525', 'GO:0031625', 'GO:0070062', 'GO:0000086', 'GO:0004579', 'GO:0005791', 'GO:0042470', 'GO:0048477', 'GO:0007566', 'GO:0005654', 'GO:0031508', 'GO:0000784', 'GO:0000979', 'GO:0000980', 'GO:0031509', 'GO:0008584', 'GO:0007596', 'GO:0001649', 'GO:0007286', 'GO:0046982', 'GO:0000788', 'GO:0070062', 'GO:0000183', 'GO:0001740', 'GO:0007338', 'GO:0035264', 'GO:0031492', 'GO:0006335', 'GO:0005654', 'GO:0000784', 'GO:1904837', 'GO:0045653', 'GO:0016233', 'GO:0051290', 'GO:0046982', 'GO:0000788', 'GO:0034080', 'GO:0070062', 'GO:0000183', 'GO:0010494', 'GO:0098641', 'GO:0034063', 'GO:0005516', 'GO:0070062', 'GO:0005524', 'GO:0005654', 'GO:0034101', 'GO:0005925', 'GO:0006614', 'GO:0070062', 'GO:0042274', 'GO:0003735', 'GO:0000028', 'GO:0022627', 'GO:0043209', 'GO:0010248', 'GO:0016324', 'GO:0055119', 'GO:0042470', 'GO:0015991', 'GO:0006883', 'GO:0005901', 'GO:0060081', 'GO:0036376', 'GO:0042383', 'GO:0051087', 'GO:0031402', 'GO:0016323', 'GO:0030955', 'GO:1990573', 'GO:0005890', 'GO:0030315', 'GO:0071260', 'GO:0014704', 'GO:0005794', 'GO:0070062', 'GO:0005524', 'GO:0030506', 'GO:0010107', 'GO:0043531', 'GO:0005654', 'GO:0000932', 'GO:0008270', 'GO:0051879', 'GO:0005654', 'GO:0090307', 'GO:0008139', 'GO:0007079', 'GO:0006309', 'GO:0000060', 'GO:0005635', 'GO:0005643', 'GO:0000059', 'GO:0034399', 'GO:0070062', 'GO:0006610', 'GO:0006607', 'GO:0007080', 'GO:0008536', 'GO:0022625', 'GO:0005925', 'GO:0006614', 'GO:0002181', 'GO:0030687', 'GO:0070062', 'GO:0003735', 'GO:0043209', 'GO:0005525', 'GO:0070062', 'GO:0000086', 'GO:0005654', 'GO:0046982', 'GO:0000788', 'GO:0070062', 'GO:0016233', 'GO:0031492', 'GO:0051290', 'GO:1904871', 'GO:1904874', 'GO:0051082', 'GO:0044183', 'GO:0050821', 'GO:1904851', 'GO:0007339', 'GO:0005832', 'GO:0032212', 'GO:0070062', 'GO:0005524', 'GO:0002199', 'GO:0005654', 'GO:0005654', 'GO:0004176', 'GO:0005524', 'GO:0035694', 'GO:0005743', 'GO:0046982', 'GO:0070062', 'GO:0043209', 'GO:1904871', 'GO:1904874', 'GO:0051082', 'GO:0044183', 'GO:0050821', 'GO:1904851', 'GO:0007339', 'GO:0005832', 'GO:0032212', 'GO:0070062', 'GO:0005524', 'GO:0005730', 'GO:0048487', 'GO:0002199', 'GO:0031681', 'GO:0070087', 'GO:1901536', 'GO:0008270', 'GO:0005654', 'GO:0007566', 'GO:0035851', 'GO:0045869', 'GO:0006367', 'GO:0060669', 'GO:0090309', 'GO:0005719', 'GO:0031625', 'GO:2000653', 'GO:1990841', 'GO:0022625', 'GO:0005925', 'GO:0006614', 'GO:0070062', 'GO:0005730', 'GO:0003735', 'GO:0035473', 'GO:0034098', 'GO:0030970', 'GO:0031625', 'GO:0005654', 'GO:0043209', 'GO:0005743', 'GO:1901029', 'GO:0015207', 'GO:0031625', 'GO:0070062', 'GO:0042645', 'GO:0071817', 'GO:0046982', 'GO:0070062', 'GO:0046982', 'GO:0070062', 'GO:0005750', 'GO:0008121', 'GO:0006122', 'GO:0005746', 'GO:0005743', 'GO:0006119', 'GO:0003746', 'GO:0005525', 'GO:0005615', 'GO:0070062', 'GO:0032211', 'GO:0070937', 'GO:0005654', 'GO:0070934', 'GO:2000373', 'GO:0071549', 'GO:0070034', 'GO:0001649', 'GO:0034046', 'GO:0032922', 'GO:0009986', 'GO:0005524', 'GO:0005654', 'GO:0008270', 'GO:0000050', 'GO:0070335', 'GO:0005654', 'GO:0004088', 'GO:0006228', 'GO:0004087', 'GO:0004070', 'GO:0016363', 'GO:0007595', 'GO:0044205', 'GO:0006207', 'GO:0071364', 'GO:0007565', 'GO:0070062', 'GO:0005524', 'GO:0004151', 'GO:0043025', 'GO:0005654', 'GO:0046982', 'GO:0000788', 'GO:0070062', 'GO:0046982', 'GO:0070062', 'GO:0005654', 'GO:0071565', 'GO:0000980', 'GO:0071564', 'GO:0016514', 'GO:0031492', 'GO:0005759', 'GO:0048490', 'GO:1904115', 'GO:0005758', 'GO:0070062', 'GO:0005615', 'GO:0060155', 'GO:0031083', 'GO:0099078', 'GO:0005654', 'GO:0046982', 'GO:0007596', 'GO:0070062', 'GO:0000183', 'GO:0031492', 'GO:0005654', 'GO:0008139', 'GO:0006607', 'GO:0006309', 'GO:0005643', 'GO:0050830', 'GO:0044565', 'GO:1904417', 'GO:0005524', 'GO:0007249', 'GO:0045359', 'GO:0021549', 'GO:0006189', 'GO:0070062', 'GO:0005524', 'GO:0004637', 'GO:0003360', 'GO:0004641', 'GO:0004644', 'GO:0021987', 'GO:0005654', 'GO:0043653', 'GO:0044609', 'GO:0000993', 'GO:0005759', 'GO:0043209', 'GO:0005925', 'GO:0051082', 'GO:0051085', 'GO:0042470', 'GO:0001786', 'GO:0005654', 'GO:0098575', 'GO:0023026', 'GO:0044829', 'GO:0098641', 'GO:1902904', 'GO:0061741', 'GO:0005615', 'GO:0048026', 'GO:0031625', 'GO:0055131', 'GO:0061202', 'GO:0061684', 'GO:0061740', 'GO:0000974', 'GO:0070062', 'GO:0005524', 'GO:0061635', 'GO:1904764', 'GO:0005730', 'GO:0005622', 'GO:0061738', 'GO:0008180', 'GO:0016324', 'GO:0032564', 'GO:0051082', 'GO:0017098', 'GO:0042470', 'GO:0050821', 'GO:1990917', 'GO:0005654', 'GO:0038096', 'GO:1990913', 'GO:0002135', 'GO:0023026', 'GO:0098641', 'GO:1903660', 'GO:0005525', 'GO:0001890', 'GO:0030511', 'GO:0016323', 'GO:0031526', 'GO:1990226', 'GO:0030911', 'GO:0071353', 'GO:0009986', 'GO:0042826', 'GO:0070062', 'GO:0005524', 'GO:0002134', 'GO:0045429', 'GO:2000010', 'GO:0033160', 'GO:0044325', 'GO:0043209', 'GO:1904871', 'GO:1904874', 'GO:0051082', 'GO:0044183', 'GO:0090666', 'GO:0001669', 'GO:0050821', 'GO:0044053', 'GO:0000242', 'GO:1904851', 'GO:0007339', 'GO:0005832', 'GO:0031625', 'GO:0032212', 'GO:0005794', 'GO:0070062', 'GO:0005524', 'GO:0002199', 'GO:0007021', 'GO:0005654', 'GO:0048025', 'GO:1905663', 'GO:0005654', 'GO:0044806', 'GO:0098505', 'GO:0016363', 'GO:1990247', 'GO:0070062', 'GO:0015030', 'GO:0035198', 'GO:0043209', 'GO:0070373', 'GO:0005743', 'GO:0050821', 'GO:0005654', 'GO:2000323', 'GO:0008022', 'GO:0010944', 'GO:0001649', 'GO:0071354', 'GO:0001850', 'GO:0009986', 'GO:0042826', 'GO:0070062', 'GO:0001851', 'GO:0050847', 'GO:0006614', 'GO:0005047', 'GO:0005525', 'GO:0005785', 'GO:0036498', 'GO:0043209', 'GO:0003746', 'GO:0005525', 'GO:0070062', 'GO:0042645', 'GO:0005743', 'GO:0070125', 'GO:0005654', 'GO:0016363', 'GO:0005635', 'GO:0005637', 'GO:0005638', 'GO:0043274', 'GO:0043209', 'GO:0005853', 'GO:0003746', 'GO:0005525', 'GO:0098574', 'GO:0043025', 'GO:0070062', 'GO:0005784', 'GO:0005654', 'GO:0000788', 'GO:0046982', 'GO:0000784', 'GO:0035093', 'GO:0030672', 'GO:0031489', 'GO:0019003', 'GO:0035773', 'GO:0033572', 'GO:0032402', 'GO:0098641', 'GO:0005525', 'GO:0055038', 'GO:0016235', 'GO:0070062', 'GO:0045054', 'GO:0033153', 'GO:0001756', 'GO:0097681', 'GO:0035234', 'GO:0005958', 'GO:0048536', 'GO:0005654', 'GO:0004677', 'GO:0000784', 'GO:2001229', 'GO:0032869', 'GO:0031648', 'GO:0002328', 'GO:0048538', 'GO:0016233', 'GO:2000773', 'GO:0005524', 'GO:0007420', 'GO:0005730', 'GO:0005654', 'GO:0046982', 'GO:0000788', 'GO:0070062', 'GO:0019886', 'GO:1900740', 'GO:0008039', 'GO:0097542', 'GO:0006888', 'GO:0001701', 'GO:0019886', 'GO:0008270', 'GO:0006888', 'GO:0048208', 'GO:0012507', 'GO:0030127', 'GO:0070062', 'GO:0004129', 'GO:0006123', 'GO:0005743', 'GO:0005751', 'GO:0042776', 'GO:0046982', 'GO:0070062', 'GO:0016580', 'GO:0006335', 'GO:0005654', 'GO:0000980', 'GO:0035098', 'GO:0016581', 'GO:0034080', 'GO:0042826', 'GO:0016589', 'GO:0033186', 'GO:0031492']\n"
     ]
    },
    {
     "data": {
      "text/plain": [
       "True"
      ]
     },
     "execution_count": 92,
     "metadata": {},
     "output_type": "execute_result"
    }
   ],
   "source": [
    "baseGOids = [GOid for gene, GOids in gafDict.items() for GOid in GOids if not gterms[GOid].childs ]\n",
    "\n",
    "baseGOids2 = []\n",
    "for gene, GOids in gafDict.items():\n",
    "    for GOid in GOids:\n",
    "        if not gterms[GOid].childs:\n",
    "            baseGOids2.append(GOid)\n",
    "            \n",
    "print(baseGOids)\n",
    "print(baseGOids2)\n",
    "baseGOids == baseGOids2"
   ]
  },
  {
   "cell_type": "code",
   "execution_count": 74,
   "metadata": {
    "collapsed": false
   },
   "outputs": [
    {
     "name": "stdout",
     "output_type": "stream",
     "text": [
      "{'GO:0005654', 'GO:0046982', 'GO:0005634', 'GO:0000788', 'GO:0005737', 'GO:0070062', 'GO:0006334', 'GO:0000786', 'GO:0003677'}\n",
      "{'GO:0009987', 'GO:0043933', 'GO:0034728', 'GO:0016043', 'GO:0008150', 'GO:0065003', 'GO:0065004', 'GO:0022607', 'GO:0071824', 'GO:0006325', 'GO:0034622', 'GO:0071840'}\n",
      "GO:0009987\n",
      "GO:0043933\n",
      "GO:0034728\n",
      "GO:0016043\n",
      "GO:0008150\n",
      "GO:0065003\n",
      "GO:0065004\n",
      "GO:0022607\n",
      "GO:0071824\n",
      "GO:0006325\n",
      "GO:0034622\n",
      "GO:0071840\n"
     ]
    }
   ],
   "source": [
    "print(gafDict['Q99879'])\n",
    "print(gterms['GO:0006334'].parents)\n",
    "\n",
    "for goid in gterms['GO:0006334'].parents:\n",
    "    if goid not in gafDict['Q99879']:\n",
    "        print(goid)"
   ]
  },
  {
   "cell_type": "code",
   "execution_count": 14,
   "metadata": {
    "collapsed": false,
    "scrolled": true
   },
   "outputs": [
    {
     "name": "stdout",
     "output_type": "stream",
     "text": [
      "GO:0005654\n",
      "GO:0006334\n",
      "GO:0070062\n",
      "GO:0000786\n",
      "GO:0003677\n",
      "GO:0005737\n",
      "GO:0000788\n",
      "GO:0046982\n",
      "GO:0005634\n"
     ]
    }
   ],
   "source": [
    "for goid in gafDict['Q99879']:\n",
    "    if goid not in gterms['GO:0006334'].parents:\n",
    "        print(goid)"
   ]
  },
  {
   "cell_type": "code",
   "execution_count": 25,
   "metadata": {
    "collapsed": false,
    "scrolled": false
   },
   "outputs": [
    {
     "name": "stdout",
     "output_type": "stream",
     "text": [
      "isparent GO:1900826\n",
      "isparent GO:1904180\n",
      "isparent GO:1905029\n",
      "isparent GO:1905027\n",
      "isparent GO:0060371\n",
      "isparent GO:1905028\n",
      "isparent GO:0051901\n",
      "isparent GO:1904198\n",
      "isparent GO:0051900\n",
      "isparent GO:1900827\n",
      "isparent GO:0060373\n",
      "isparent GO:1900825\n",
      "isparent GO:1904181\n",
      "isparent GO:1904199\n",
      "isparent GO:0051902\n",
      "isparent GO:0098902\n",
      "done\n"
     ]
    }
   ],
   "source": [
    "for goid, goobj in gterms.items():\n",
    "    if 'GO:0003254' in goobj.parents:\n",
    "        print('isparent',goid)\n",
    "print('done')"
   ]
  },
  {
   "cell_type": "code",
   "execution_count": 93,
   "metadata": {
    "collapsed": false
   },
   "outputs": [
    {
     "name": "stdout",
     "output_type": "stream",
     "text": [
      "<class 'dict'>\n"
     ]
    }
   ],
   "source": [
    "a = {}\n",
    "print(type(a))"
   ]
  },
  {
   "cell_type": "code",
   "execution_count": 26,
   "metadata": {
    "collapsed": true
   },
   "outputs": [],
   "source": [
    "for gene in gafDict:\n",
    "    if 'GO:0003254' in gafDict[gene]:\n",
    "        print(gene)"
   ]
  },
  {
   "cell_type": "code",
   "execution_count": 57,
   "metadata": {
    "collapsed": false
   },
   "outputs": [
    {
     "data": {
      "text/plain": [
       "True"
      ]
     },
     "execution_count": 57,
     "metadata": {},
     "output_type": "execute_result"
    }
   ],
   "source": [
    "b = set(['a','b','c'])\n",
    "s = set(['a'])\n",
    "s.issubset(b)"
   ]
  },
  {
   "cell_type": "code",
   "execution_count": 156,
   "metadata": {
    "collapsed": true
   },
   "outputs": [],
   "source": [
    "gterms2 = importOBO(oboPath)"
   ]
  },
  {
   "cell_type": "code",
   "execution_count": 162,
   "metadata": {
    "collapsed": false
   },
   "outputs": [
    {
     "name": "stdout",
     "output_type": "stream",
     "text": [
      "{'GO:0065004', 'GO:0034728'}\n"
     ]
    }
   ],
   "source": [
    "print(gterms2['GO:0006334'].parents)\n"
   ]
  },
  {
   "cell_type": "code",
   "execution_count": null,
   "metadata": {
    "collapsed": true
   },
   "outputs": [],
   "source": [
    "def enrichmentOneSided(GOid, background, subset, GOdict, gafDict):\n",
    "    \"\"\"\n",
    "    Performs a one-sided hypergeometric test for a given GO term.\n",
    "\n",
    "    Parameters\n",
    "    ----------\n",
    "    GOid : str\n",
    "        A GO identifier (key to the GO dictionary).\n",
    "    background : set of str\n",
    "        A set of background uniprot AC's.\n",
    "    subset : set of str\n",
    "        A subset of uniprot AC's of interest.\n",
    "    GOdict : dict\n",
    "        A dictionary of GO objects generated by importOBO().\n",
    "        Keys are of the format `GO-0000001` and map to OBO objects.\n",
    "\n",
    "    Returns\n",
    "    -------\n",
    "    float\n",
    "        The p-value of the one-sided hypergeometric test.\n",
    "    \"\"\"\n",
    "\n",
    "    backgroundTotal = len(background)\n",
    "    subsetTotal = len(subset)\n",
    "    \n",
    "    backgroundGO = countGOassociations(GOid, background, GOdict)\n",
    "    subsetGO = countGOassociations(GOid, subset, GOdict)\n",
    "    \n",
    "    # k or more successes (= GO associations = subsetGO) in N draws (= subsetTotal)\n",
    "    # from a population of size M (backgroundTotal) containing n successes (backgroundGO)\n",
    "    # k or more is the sum of the probability mass functions of k up to N successes\n",
    "    # since cdf gives the cumulative probability up and including input (less or equal to k successes),\n",
    "    # and we want P(k or more), we need to calculate 1 - P(less than k) =  1 - P(k-1 or less)\n",
    "    # .sf is the survival function (1-cdf).\n",
    "    pVal = hypergeom.sf(subsetGO-1, backgroundTotal, backgroundGO, subsetTotal)\n",
    "    \n",
    "    if pVal > args.threshold:\n",
    "        pVal = recurseEnrichmentOneSided(GOid, background, subset, GOdict)\n",
    "    \n",
    "    return pVal\n",
    "\n",
    "def countGOassociations(GOid, backgroundSet, GOdict, gafDict):\n",
    "    \"\"\"\n",
    "    \"\"\"\n",
    "    \n",
    "    GOcounter = 0\n",
    "    \n",
    "    validTerms = set(GOid)\n",
    "    validTerms.update(GOdict['GOid'].childs)\n",
    "    \n",
    "    for gene in backgroundSet:\n",
    "        if GOid in gafDict\n",
    "        \n",
    "        \n",
    "\n",
    "def enrichmentTwoSided(currentTerm, basegoID, GOdict, parentSet):\n",
    "    \"\"\"\n",
    "    Propagates through the parent hierarchy of a provided GO term.\n",
    "\n",
    "    Parameters\n",
    "    ----------\n",
    "    GOdict : dict\n",
    "        A dictionary of GO objects generated by importOBO().\n",
    "\n",
    "    Returns\n",
    "    -------\n",
    "    dict of OBO objects\n",
    "        Updated GO dict where parent attributes trace back over the full tree hierarchy.\n",
    "        Keys are of the format `GO-0000001` and map to OBO objects.\n",
    "    \"\"\""
   ]
  },
  {
   "cell_type": "markdown",
   "metadata": {},
   "source": [
    "probability of drawing 4 or more white balls from the urn in 10 draws, from a total of 5 white and 45 black balls."
   ]
  },
  {
   "cell_type": "code",
   "execution_count": 7,
   "metadata": {
    "collapsed": false
   },
   "outputs": [
    {
     "data": {
      "text/plain": [
       "0.0040835205497556553"
      ]
     },
     "execution_count": 7,
     "metadata": {},
     "output_type": "execute_result"
    }
   ],
   "source": [
    "from scipy.stats import hypergeom\n",
    "hypergeom.sf(3, 50, 5, 10, loc=0)\n"
   ]
  },
  {
   "cell_type": "code",
   "execution_count": 152,
   "metadata": {
    "collapsed": false
   },
   "outputs": [
    {
     "data": {
      "text/plain": [
       "0.0040835205497192772"
      ]
     },
     "execution_count": 152,
     "metadata": {},
     "output_type": "execute_result"
    }
   ],
   "source": [
    "1-hypergeom.cdf(3, 50, 5, 10, loc=0)"
   ]
  },
  {
   "cell_type": "code",
   "execution_count": 153,
   "metadata": {
    "collapsed": false
   },
   "outputs": [
    {
     "data": {
      "text/plain": [
       "0.00011893749174045793"
      ]
     },
     "execution_count": 153,
     "metadata": {},
     "output_type": "execute_result"
    }
   ],
   "source": [
    "hypergeom.sf(4, 50, 5, 10, loc=0)"
   ]
  },
  {
   "cell_type": "code",
   "execution_count": 146,
   "metadata": {
    "collapsed": false
   },
   "outputs": [
    {
     "data": {
      "text/plain": [
       "0.004083520549755517"
      ]
     },
     "execution_count": 146,
     "metadata": {},
     "output_type": "execute_result"
    }
   ],
   "source": [
    "from scipy.special import comb\n",
    "( comb(5, 4, exact=True) * comb(45, 6, exact=True) ) / (comb(50, 10, exact=True)) +  ( \n",
    "    comb(5, 5, exact=True) * comb(45, 5, exact=True) ) / (comb(50, 10, exact=True))"
   ]
  },
  {
   "cell_type": "code",
   "execution_count": 141,
   "metadata": {
    "collapsed": false
   },
   "outputs": [
    {
     "data": {
      "text/plain": [
       "0.0040835205497556553"
      ]
     },
     "execution_count": 141,
     "metadata": {},
     "output_type": "execute_result"
    }
   ],
   "source": [
    "hypergeom.pmf(4,50,5,10) + hypergeom.pmf(5,50,5,10)"
   ]
  },
  {
   "cell_type": "markdown",
   "metadata": {},
   "source": [
    "hypergeometric test function first"
   ]
  },
  {
   "cell_type": "code",
   "execution_count": 169,
   "metadata": {
    "collapsed": false
   },
   "outputs": [
    {
     "name": "stdout",
     "output_type": "stream",
     "text": [
      "23\n",
      "5\n"
     ]
    }
   ],
   "source": [
    "bgCount = 0\n",
    "for gene in background:\n",
    "    if gene in gafDict:\n",
    "        if 'GO:0006334' in gafDict.get(gene):\n",
    "            bgCount += 1\n",
    "print(bgCount)\n",
    "subCount = 0\n",
    "for gene in interest:\n",
    "    if gene in gafDict:\n",
    "        if 'GO:0006334' in gafDict.get(gene):\n",
    "            subCount += 1\n",
    "print(subCount)\n",
    "\n"
   ]
  },
  {
   "cell_type": "code",
   "execution_count": 188,
   "metadata": {
    "collapsed": false
   },
   "outputs": [
    {
     "name": "stdout",
     "output_type": "stream",
     "text": [
      "1271\n",
      "3117\n",
      "1271\n"
     ]
    }
   ],
   "source": [
    "baseGOids = set()\n",
    "for gene, goidSet in gafDict.items():\n",
    "    baseGOids.update(goidSet)\n",
    "    \n",
    "print(len(baseGOids))\n",
    "\n",
    "l=[]\n",
    "for gene, goidSet in gafDict.items():\n",
    "    l.extend(list(goidSet))\n",
    "print(len(l))\n",
    "print(len(set(l)))"
   ]
  },
  {
   "cell_type": "code",
   "execution_count": 1,
   "metadata": {
    "collapsed": false
   },
   "outputs": [
    {
     "ename": "NameError",
     "evalue": "name 'background' is not defined",
     "output_type": "error",
     "traceback": [
      "\u001b[0;31m---------------------------------------------------------------------------\u001b[0m",
      "\u001b[0;31mNameError\u001b[0m                                 Traceback (most recent call last)",
      "\u001b[0;32m<ipython-input-1-793de19e9f0d>\u001b[0m in \u001b[0;36m<module>\u001b[0;34m()\u001b[0m\n\u001b[0;32m----> 1\u001b[0;31m \u001b[0mprint\u001b[0m\u001b[1;33m(\u001b[0m\u001b[0mtype\u001b[0m\u001b[1;33m(\u001b[0m\u001b[0mbackground\u001b[0m\u001b[1;33m)\u001b[0m\u001b[1;33m)\u001b[0m\u001b[1;33m\u001b[0m\u001b[0m\n\u001b[0m\u001b[1;32m      2\u001b[0m \u001b[0mprint\u001b[0m\u001b[1;33m(\u001b[0m\u001b[0mbackground\u001b[0m\u001b[1;33m)\u001b[0m\u001b[1;33m\u001b[0m\u001b[0m\n\u001b[1;32m      3\u001b[0m \u001b[0mprint\u001b[0m\u001b[1;33m(\u001b[0m\u001b[0mgafDict\u001b[0m\u001b[1;33m.\u001b[0m\u001b[0mkeys\u001b[0m\u001b[1;33m(\u001b[0m\u001b[1;33m)\u001b[0m\u001b[1;33m)\u001b[0m\u001b[1;33m\u001b[0m\u001b[0m\n\u001b[1;32m      4\u001b[0m \u001b[1;32mfor\u001b[0m \u001b[0mi\u001b[0m \u001b[1;32min\u001b[0m \u001b[0mgafDict\u001b[0m\u001b[1;33m:\u001b[0m\u001b[1;33m\u001b[0m\u001b[0m\n\u001b[1;32m      5\u001b[0m     \u001b[1;32mif\u001b[0m \u001b[0mi\u001b[0m \u001b[1;32mnot\u001b[0m \u001b[1;32min\u001b[0m \u001b[0mbackground\u001b[0m\u001b[1;33m:\u001b[0m\u001b[1;33m\u001b[0m\u001b[0m\n",
      "\u001b[0;31mNameError\u001b[0m: name 'background' is not defined"
     ]
    }
   ],
   "source": [
    "print(type(background))\n",
    "print(background)\n",
    "print(gafDict.keys())\n",
    "for i in gafDict:\n",
    "    if i not in background:\n",
    "        print(i)"
   ]
  },
  {
   "cell_type": "code",
   "execution_count": 179,
   "metadata": {
    "collapsed": false
   },
   "outputs": [
    {
     "name": "stdout",
     "output_type": "stream",
     "text": [
      "F8VVM2\n"
     ]
    }
   ],
   "source": [
    "for i in background:\n",
    "    if i not in gafDict:\n",
    "        print(i)"
   ]
  },
  {
   "cell_type": "code",
   "execution_count": null,
   "metadata": {
    "collapsed": true
   },
   "outputs": [],
   "source": []
  },
  {
   "cell_type": "code",
   "execution_count": null,
   "metadata": {
    "collapsed": true
   },
   "outputs": [],
   "source": [
    "\n",
    "def buildGOtree(GOdict):\n",
    "    \"\"\"\n",
    "    Generates the entire GO tree's parent structure by walking through the parent hierarchy of each GO entry.\n",
    "\n",
    "    Parameters\n",
    "    ----------\n",
    "    GOdict : dict\n",
    "        A dictionary of GO objects generated by importOBO().\n",
    "        Keys are of the format `GO-0000001` and map to OBO objects.\n",
    "\n",
    "    Returns\n",
    "    -------\n",
    "    None\n",
    "        The input GO dictionary will be updated.\n",
    "        Parent attributes now trace back over the full tree hierarchy.\n",
    "    \"\"\"\n",
    "\n",
    "    # Process each GO term in the GO dictionary\n",
    "    for goID, obj in GOdict.items():\n",
    "        # Define new set to store higher order parents\n",
    "        parentSet = set()\n",
    "        # Call helper function to propagate through parents\n",
    "        completeHigherOrderParentSet = propagateTree(goID, goID, GOdict, parentSet)\n",
    "        # Update GO term's parents attribute to include all higher order parents\n",
    "        obj.parents.update(parentSet)\n",
    "\n",
    "    return None\n",
    "\n",
    "def propagateTree(currentTerm, basegoID, GOdict, parentSet):\n",
    "    \"\"\"\n",
    "    Propagates through the parent hierarchy of a provided GO term.\n",
    "\n",
    "    Parameters\n",
    "    ----------\n",
    "    GOdict : dict\n",
    "        A dictionary of GO objects generated by importOBO().\n",
    "\n",
    "    Returns\n",
    "    -------\n",
    "    dict of OBO objects\n",
    "        Updated GO dict where parent attributes trace back over the full tree hierarchy.\n",
    "        Keys are of the format `GO-0000001` and map to OBO objects.\n",
    "    \"\"\"\n",
    "\n",
    "    # If current term has no further parents will end and move\n",
    "    # back up the stack, since there are no parents to iterate over\n",
    "    parents = GOdict.get(currentTerm).parents\n",
    "    for parent in parents:\n",
    "\n",
    "        # Check if parent is present in GO dictionary\n",
    "        if parent not in GOdict:\n",
    "            print('WARNING!\\n' + parent, 'was defined as a parent for',\n",
    "                  basegoID, ', but was not found in the OBO file.')\n",
    "\n",
    "        # Add current term's parents to growing set\n",
    "        parentSet.add(parent)\n",
    "\n",
    "        # and recurse function for each parent\n",
    "        propagateTree(parent, basegoID, GOdict, parentSet)\n"
   ]
  },
  {
   "cell_type": "code",
   "execution_count": 130,
   "metadata": {
    "collapsed": false
   },
   "outputs": [],
   "source": [
    "# # Import .gaf file\n",
    "# gafPath = os.path.abspath('../data/go_data/goa_human.gaf')\n",
    "# with open(gafPath,'r') as gafFile:\n",
    "#     gafDict = {}\n",
    "#     for line in gafFile:\n",
    "#         if not line.startswith('!'):                    # ignore comments in gaf file\n",
    "#             splitLine = line.split('\\t')                # split column-wise\n",
    "#             uniprotAC = splitLine[1]\n",
    "#             goTerm = splitLine[4]\n",
    "#             goQualifier = splitLine[3]\n",
    "#             if not 'NOT' in goQualifier:                # ignore annotations with \"NOT\"\n",
    "#                 if uniprotAC in geneSet:                # only keep genes present in input gene set\n",
    "#                     if not uniprotAC in gafDict:        # Create new key if AC does not already appear in dictionary\n",
    "#                         gafDict[uniprotAC] = {goTerm}   # make dictionary containing uniprot AC as key and set of GO's\n",
    "#                     else:\n",
    "#                         gafDict[uniprotAC].add(goTerm)\n",
    "# print(gafDict['O43175'])"
   ]
  },
  {
   "cell_type": "code",
   "execution_count": 131,
   "metadata": {
    "collapsed": false
   },
   "outputs": [],
   "source": [
    "# # Gaf pandas\n",
    "# gafDf = pd.read_csv(gafPath, sep='\\t', header=None, comment='!')\n",
    "# gafDf = gafDf[gafDf[1].isin(geneSet)]    # only keep genes present in input gene set\n",
    "# gafDf = gafDf[~gafDf[3].str.contains('NOT', na=False)]    # ignore annotations with \"NOT\"\n",
    "# gafDf = gafDf.reset_index(drop=True)\n",
    "# print(gafDf)"
   ]
  },
  {
   "cell_type": "code",
   "execution_count": null,
   "metadata": {
    "collapsed": false,
    "scrolled": false
   },
   "outputs": [],
   "source": [
    "print(gterms)\n",
    "gterms['GO:0000001'].id\n",
    "print(gterms['GO:0000001'].parents)\n",
    "gterms['GO:0000001'].childs"
   ]
  },
  {
   "cell_type": "code",
   "execution_count": 124,
   "metadata": {
    "collapsed": true
   },
   "outputs": [],
   "source": [
    "gterms = importOBO(oboPath)\n",
    "\n",
    "def buildGOtree(GOdict):\n",
    "    \"\"\"\n",
    "    Generates the entire GO tree by walking through the parent hierarchy.\n",
    "    \n",
    "    Parameters\n",
    "    ----------\n",
    "    GOdict : dict\n",
    "        A dictionary of GO objects generated by importOBO().\n",
    "\n",
    "    Returns\n",
    "    -------\n",
    "    dict of OBO objects\n",
    "        Child and parent attributes are completed.\n",
    "        Keys of the format `GO-0000001` mapping to OBO objects.\n",
    "    \"\"\"\n",
    "    for goID in GOdict:\n",
    "        \n",
    "        # recursive call starts here\n",
    "        \n",
    "        for parent in GOdict[goID].parents:\n",
    "            \n",
    "            propagateTree(parent, goID, GOdict)\n",
    "            \n",
    "def propagateTree(parent, goID, GOdict):\n",
    "    if goID not in GOdict[parent].child:\n",
    "        GOdict[parent].child.add(goID)\n",
    "        \n",
    "    if GOdict[parent]:\n",
    "        for parentsParent in GOdict[parent].parents: \n",
    "            propagateTree(parentsParent, goID, GOdict)\n",
    "    else:\n",
    "        return False"
   ]
  },
  {
   "cell_type": "code",
   "execution_count": 127,
   "metadata": {
    "collapsed": false
   },
   "outputs": [
    {
     "name": "stdout",
     "output_type": "stream",
     "text": [
      "GO:0048308\n",
      "GO:0048311\n",
      "GO:0007005\n",
      "GO:0008150\n"
     ]
    },
    {
     "ename": "KeyError",
     "evalue": "'GO:0048308'",
     "output_type": "error",
     "traceback": [
      "\u001b[0;31m---------------------------------------------------------------------------\u001b[0m",
      "\u001b[0;31mKeyError\u001b[0m                                  Traceback (most recent call last)",
      "\u001b[0;32m<ipython-input-127-3d2b49ed6f9c>\u001b[0m in \u001b[0;36m<module>\u001b[0;34m()\u001b[0m\n\u001b[1;32m      3\u001b[0m         \u001b[0mprint\u001b[0m\u001b[0;34m(\u001b[0m\u001b[0mparent\u001b[0m\u001b[0;34m)\u001b[0m\u001b[0;34m\u001b[0m\u001b[0m\n\u001b[1;32m      4\u001b[0m \u001b[0;34m\u001b[0m\u001b[0m\n\u001b[0;32m----> 5\u001b[0;31m \u001b[0mgterms\u001b[0m\u001b[0;34m[\u001b[0m\u001b[0;34m'GO:0048308'\u001b[0m\u001b[0;34m]\u001b[0m\u001b[0;34m.\u001b[0m\u001b[0mchild\u001b[0m\u001b[0;34m\u001b[0m\u001b[0m\n\u001b[0m",
      "\u001b[0;31mKeyError\u001b[0m: 'GO:0048308'"
     ]
    }
   ],
   "source": [
    "for goID in gterms:\n",
    "    for parent in gterms[goID].parents:\n",
    "        print(parent)\n",
    "        \n",
    "gterms['GO:0048308'].child"
   ]
  },
  {
   "cell_type": "code",
   "execution_count": null,
   "metadata": {
    "collapsed": true
   },
   "outputs": [],
   "source": []
  },
  {
   "cell_type": "code",
   "execution_count": null,
   "metadata": {
    "collapsed": false
   },
   "outputs": [],
   "source": [
    "from timeit import timeit\n",
    "import re\n",
    "\n",
    "def find(string, text):\n",
    "    if string.find(text) > -1:\n",
    "        pass\n",
    "\n",
    "def re_find(string, text):\n",
    "    if re.match(text, string):\n",
    "        pass\n",
    "\n",
    "def best_find(string, text):\n",
    "    if text in string:\n",
    "        pass\n",
    "\n",
    "def third_find(string, text):\n",
    "    if text.startswith(string):\n",
    "        pass    \n",
    "\n",
    "print(timeit(\"find(string, text)\", \"from __main__ import find; string='lookforme'; text='look'\"))\n",
    "print(timeit(\"re_find(string, text)\", \"from __main__ import re_find; string='lookforme'; text='look'\")) \n",
    "print(timeit(\"best_find(string, text)\", \"from __main__ import best_find; string='lookforme'; text='look'\")) \n",
    "print(timeit(\"third_find(string, text)\", \"from __main__ import third_find; string='lookforme'; text='look'\")) \n",
    "\n"
   ]
  },
  {
   "cell_type": "code",
   "execution_count": null,
   "metadata": {
    "collapsed": true
   },
   "outputs": [],
   "source": [
    "# https://techoverflow.net/blog/2013/11/18/a-geneontology-obo-v1.2-parser-in-python/\n",
    "# Import .obo file\n",
    "oboPath = os.path.abspath('../data/go_data/go.obo')\n",
    "# with open(oboPath,'r') as oboFile:\n",
    "#     for line in oboFile:\n",
    "\n",
    "\n",
    "def processGOTerm(goTerm):\n",
    "    \"\"\"\n",
    "    In an object representing a GO term, replace single-element lists with\n",
    "    their only member.\n",
    "    Returns the modified object as a dictionary.\n",
    "    \"\"\"\n",
    "    ret = dict(goTerm) #Input is a defaultdict, might express unexpected behaviour\n",
    "    for key, value in ret.iteritems():\n",
    "        if len(value) == 1:\n",
    "            ret[key] = value[0]\n",
    "    return ret\n",
    "\n",
    "def parseGOOBO(filename):\n",
    "    \"\"\"\n",
    "    Parses a Gene Ontology dump in OBO v1.2 format.\n",
    "    Yields each \n",
    "    Keyword arguments:\n",
    "        filename: The filename to read\n",
    "    \"\"\"\n",
    "    with open(filename, \"r\") as infile:\n",
    "        currentGOTerm = None\n",
    "        for line in infile:\n",
    "            line = line.strip()\n",
    "            if not line: continue #Skip empty\n",
    "            if line == \"[Term]\":\n",
    "                if currentGOTerm: yield processGOTerm(currentGOTerm)\n",
    "                currentGOTerm = defaultdict(list)\n",
    "            elif line == \"[Typedef]\":\n",
    "                #Skip [Typedef sections]\n",
    "                currentGOTerm = None\n",
    "            else: #Not [Term]\n",
    "                #Only process if we're inside a [Term] environment\n",
    "                if currentGOTerm is None: continue\n",
    "                key, sep, val = line.partition(\":\")\n",
    "                currentGOTerm[key].append(val.strip())\n",
    "        #Add last term\n",
    "        if currentGOTerm is not None:\n",
    "            yield processGOTerm(currentGOTerm)"
   ]
  },
  {
   "cell_type": "code",
   "execution_count": null,
   "metadata": {
    "collapsed": false
   },
   "outputs": [],
   "source": [
    "for goTerm in parseGOOBO(oboPath):\n",
    "    termCounter += 1\n"
   ]
  },
  {
   "cell_type": "code",
   "execution_count": null,
   "metadata": {
    "collapsed": true
   },
   "outputs": [],
   "source": []
  },
  {
   "cell_type": "code",
   "execution_count": null,
   "metadata": {
    "collapsed": true
   },
   "outputs": [],
   "source": []
  }
 ],
 "metadata": {
  "anaconda-cloud": {},
  "kernelspec": {
   "display_name": "Python 3",
   "language": "python",
   "name": "python3"
  },
  "language_info": {
   "codemirror_mode": {
    "name": "ipython",
    "version": 3
   },
   "file_extension": ".py",
   "mimetype": "text/x-python",
   "name": "python",
   "nbconvert_exporter": "python",
   "pygments_lexer": "ipython3",
   "version": "3.4.3"
  }
 },
 "nbformat": 4,
 "nbformat_minor": 2
}
