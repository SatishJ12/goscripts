{
 "cells": [
  {
   "cell_type": "code",
   "execution_count": 1,
   "metadata": {
    "collapsed": true
   },
   "outputs": [],
   "source": [
    "import argparse\n",
    "\n",
    "import enrichment_stats\n",
    "import gaf_parser\n",
    "import genelist_importer\n",
    "import obo_tools"
   ]
  },
  {
   "cell_type": "code",
   "execution_count": 15,
   "metadata": {
    "collapsed": false
   },
   "outputs": [
    {
     "name": "stdout",
     "output_type": "stream",
     "text": [
      "Retrieved 146 background uniprot AC's from ../data/background.txt\n",
      "Retrieved 26 subset uniprot AC's from ../data/missing.txt\n",
      "Retrieved 145 annotated (background filtered) uniprot AC's from /media/pieter/DATA/github/ebola-go/data/go_data/goa_human.gaf\n",
      "\n",
      "WARNING!\n",
      "Not every uniprot AC that was provided in the background set was found in the GAF file:\n",
      "['F8VVM2']\n",
      "WARNING!\n",
      "\n",
      "WARNING!\n",
      "Not every uniprot AC that was provided in the gene subset was found in the GAF file:\n",
      "['F8VVM2']\n",
      "WARNING!\n",
      "\n",
      "background\n",
      " {'P31943', 'Q15907', 'Q6P2E9', 'P23527', 'Q09028', 'Q92688', 'Q96AX9', 'Q14164', 'O95816', 'P42677', 'O43791', 'Q15758', 'P09651', 'Q14974', 'P78537', 'P19338', 'Q16531', 'P11142', 'Q00325', 'P05388', 'P51571', 'P21796', 'P60866', 'Q969G3', 'P20700', 'P05386', 'F8VVM2', 'P51149', 'O75569', 'Q8N163', 'Q9NQ55', 'P35268', 'P04908', 'Q12906', 'Q13263', 'P55795', 'O60814', 'Q99879', 'P17987', 'P35637', 'P22626', 'Q99878', 'P62807', 'Q05639', 'Q5QNW6', 'Q99729', 'P35232', 'Q96CS3', 'P45880', 'Q8WWM7', 'P51532', 'Q9BTM1', 'Q8N257', 'Q9Y4I1', 'Q96TA2', 'Q6FI13', 'P10606', 'P14866', 'O95831', 'Q9NQX4', 'Q16777', 'P30050', 'Q99832', 'Q7L7L0', 'P0C0S8', 'P07437', 'P23396', 'Q93077', 'O43175', 'P08238', 'P57053', 'P61978', 'Q5VTE0', 'P16615', 'P49411', 'P52597', 'P62879', 'Q9Y5M8', 'P10412', 'P68104', 'Q08211', 'O15131', 'Q14839', 'P04844', 'Q8TAQ2', 'P62805', 'Q71DI3', 'P68431', 'P49755', 'P0DMV9', 'Q71U36', 'Q9UHD2', 'P20671', 'P31689', 'P78527', 'P48643', 'Q9BQE3', 'P12036', 'P52294', 'Q96FJ2', 'P58876', 'P08708', 'Q9P258', 'P27708', 'Q32P51', 'P63167', 'Q8IXQ5', 'P22102', 'P04843', 'Q969J3', 'P05023', 'P12004', 'Q96A08', 'Q9UNL2', 'P31942', 'P06899', 'P46934', 'Q14257', 'P50402', 'Q9UIG0', 'P53992', 'P35613', 'Q16695', 'Q16778', 'P07919', 'O15269', 'P39687', 'P33778', 'Q96HA1', 'Q9UFW8', 'O60684', 'P12273', 'Q99877', 'Q00839', 'O00264', 'P05141', 'Q6NXT2', 'P84243', 'Q93079', 'P49790', 'Q96B45', 'Q93008', 'Q96KK5', 'Q71UM5', 'A8CG34', 'Q99880'}\n",
      "interest\n",
      " {'P31943', 'Q99879', 'Q5VTE0', 'P49411', 'P35637', 'Q9Y5M8', 'P10412', 'Q96AX9', 'O15131', 'Q14839', 'P35613', 'Q8TAQ2', 'Q16695', 'P0DMV9', 'P51532', 'Q8N257', 'Q9BQE3', 'P12036', 'Q99877', 'F8VVM2', 'P27708', 'Q32P51', 'Q96KK5', 'Q71UM5', 'A8CG34', 'P35268'}\n",
      "id GO:0060373 parents {'GO:0003254'}\n",
      "id GO:0048245 parents {'GO:0071621', 'GO:0072677'}\n",
      "id GO:0044077 parents {'GO:0048259', 'GO:0044068'}\n",
      "id GO:0042925 parents {'GO:0042910'}\n",
      "id GO:1902361 parents {'GO:1990542', 'GO:1901475', 'GO:0006850'}\n",
      "id GO:1902361 parents {'GO:1990542', 'GO:1901475', 'GO:0006850'}\n",
      "id GO:1902361 parents {'GO:1990542', 'GO:1901475', 'GO:0006850'}\n",
      "id GO:0000001 parents {'GO:0048308', 'GO:0048311'}\n",
      "id GO:0000002 parents {'GO:0007005'}\n",
      "id GO:0060373 parents {'GO:0042391', 'GO:0008150', 'GO:0003254', 'GO:2000021', 'GO:0032844', 'GO:0050794', 'GO:0065008', 'GO:0065007', 'GO:0050789'}\n",
      "id GO:0048245 parents {'GO:0050900', 'GO:0071621', 'GO:0044763', 'GO:0016477', 'GO:0040011', 'GO:0097530', 'GO:0060326', 'GO:0030595', 'GO:0006935', 'GO:0008150', 'GO:0009987', 'GO:0048870', 'GO:0097529', 'GO:0042330', 'GO:0002376', 'GO:0044699', 'GO:0006928', 'GO:0072677'}\n",
      "id GO:0044077 parents {'GO:0035821', 'GO:0051701', 'GO:0048259', 'GO:0051128', 'GO:0044419', 'GO:0051817', 'GO:0065008', 'GO:0032879', 'GO:0044068', 'GO:0065007', 'GO:0051049', 'GO:0030100', 'GO:0008150', 'GO:0051704', 'GO:0044003', 'GO:0050794', 'GO:0060627', 'GO:0050789'}\n",
      "id GO:0042925 parents {'GO:0042910', 'GO:0005215', 'GO:0003674'}\n",
      "id GO:1902361 parents {'GO:1903825', 'GO:0015711', 'GO:0098656', 'GO:1902578', 'GO:0006820', 'GO:0015849', 'GO:0015718', 'GO:0006850', 'GO:0034220', 'GO:0006810', 'GO:0006848', 'GO:1990542', 'GO:0046942', 'GO:0051179', 'GO:0071702', 'GO:0006839', 'GO:0044765', 'GO:1901475', 'GO:0008150', 'GO:0051234', 'GO:0055085', 'GO:0044699', 'GO:0006811', 'GO:1905039'}\n",
      "id GO:1902361 parents {'GO:1903825', 'GO:0015711', 'GO:0098656', 'GO:1902578', 'GO:0006820', 'GO:0015849', 'GO:0015718', 'GO:0006850', 'GO:0034220', 'GO:0006810', 'GO:0006848', 'GO:1990542', 'GO:0046942', 'GO:0051179', 'GO:0071702', 'GO:0006839', 'GO:0044765', 'GO:1901475', 'GO:0008150', 'GO:0051234', 'GO:0055085', 'GO:0044699', 'GO:0006811', 'GO:1905039'}\n",
      "id GO:1902361 parents {'GO:1903825', 'GO:0015711', 'GO:0098656', 'GO:1902578', 'GO:0006820', 'GO:0015849', 'GO:0015718', 'GO:0006850', 'GO:0034220', 'GO:0006810', 'GO:0006848', 'GO:1990542', 'GO:0046942', 'GO:0051179', 'GO:0071702', 'GO:0006839', 'GO:0044765', 'GO:1901475', 'GO:0008150', 'GO:0051234', 'GO:0055085', 'GO:0044699', 'GO:0006811', 'GO:1905039'}\n",
      "id GO:0000001 parents {'GO:0006996', 'GO:0008150', 'GO:0009987', 'GO:0007005', 'GO:0051640', 'GO:0016043', 'GO:0051646', 'GO:0051179', 'GO:0048308', 'GO:0048311', 'GO:0071840', 'GO:0051641'}\n",
      "id GO:0000002 parents {'GO:0016043', 'GO:0008150', 'GO:0009987', 'GO:0007005', 'GO:0071840', 'GO:0006996'}\n"
     ]
    }
   ],
   "source": [
    "\n",
    "background = genelist_importer.importBackground('../data/background.txt')\n",
    "subset = genelist_importer.importSubset('../data/missing.txt')\n",
    "if not genelist_importer.isValidSubset(interest, background):\n",
    "    print(\"WARNING! Subset contains genes not present in background set!\")\n",
    "    print(interest - background)\n",
    "    print('Terminating script.')\n",
    "    exit()\n",
    "\n",
    "gafDict = gaf_parser.importGAF('../data/go_data/goa_human.gaf', background)\n",
    "gafSubset = gaf_parser.createSubsetGafDict(interest, gafDict)\n",
    "\n",
    "GOterms = obo_tools.importOBO('../data/go_data/go.obo')\n",
    "\n",
    "print('background\\n', background)\n",
    "print('interest\\n', interest)\n",
    "\n",
    "for i in ['GO:0060373', 'GO:0048245', 'GO:0044077', 'GO:0042925', 'GO:1902361', 'GO:1902361', 'GO:1902361', 'GO:0000001', 'GO:0000002']:\n",
    "    print('id', i, 'parents', GOterms[i].parents)\n",
    "\n",
    "obo_tools.buildGOtree(GOterms)\n",
    "\n",
    "for i in ['GO:0060373', 'GO:0048245', 'GO:0044077', 'GO:0042925', 'GO:1902361', 'GO:1902361', 'GO:1902361', 'GO:0000001', 'GO:0000002']:\n",
    "    print('id', i, 'parents', GOterms[i].parents)"
   ]
  },
  {
   "cell_type": "code",
   "execution_count": 71,
   "metadata": {
    "collapsed": false
   },
   "outputs": [],
   "source": [
    "backgroundTotal = len(background)\n",
    "subsetTotal = len(subset)\n",
    "\n",
    "baseGOids = [GOid for gene, GOids in gafSubset.items() for GOid in GOids if not GOterms[GOid].childs]\n",
    "GOid = baseGOids[140]"
   ]
  },
  {
   "cell_type": "code",
   "execution_count": 72,
   "metadata": {
    "collapsed": false
   },
   "outputs": [],
   "source": [
    "validTerms = set([GOid])\n",
    "validTerms.update(GOterms[GOid].childs)"
   ]
  },
  {
   "cell_type": "code",
   "execution_count": 73,
   "metadata": {
    "collapsed": false
   },
   "outputs": [],
   "source": [
    "backgroundGO = enrichment_stats.countGOassociations(validTerms, gafDict)\n",
    "subsetGO = enrichment_stats.countGOassociations(validTerms, gafSubset)"
   ]
  },
  {
   "cell_type": "code",
   "execution_count": 74,
   "metadata": {
    "collapsed": false
   },
   "outputs": [
    {
     "data": {
      "text/plain": [
       "1"
      ]
     },
     "execution_count": 74,
     "metadata": {},
     "output_type": "execute_result"
    }
   ],
   "source": [
    "backgroundGO\n",
    "subsetGO"
   ]
  },
  {
   "cell_type": "code",
   "execution_count": 78,
   "metadata": {
    "collapsed": false
   },
   "outputs": [
    {
     "name": "stdout",
     "output_type": "stream",
     "text": [
      "1\n",
      "1\n",
      "1\n",
      "1\n"
     ]
    }
   ],
   "source": [
    "if backgroundGO < 3:\n",
    "        for parent in GOterms[GOid].parents:\n",
    "            validTerms = set([GOid])\n",
    "            validTerms.update(GOterms[GOid].childs)\n",
    "            backgroundGO = enrichment_stats.countGOassociations(validTerms, gafDict)\n",
    "            subsetGO = enrichment_stats.countGOassociations(validTerms, gafSubset)\n",
    "            print(backgroundGO)"
   ]
  },
  {
   "cell_type": "code",
   "execution_count": 101,
   "metadata": {
    "collapsed": false
   },
   "outputs": [],
   "source": [
    "def finder(goid, smallGOterms):\n",
    "    if not goid in smallGOterms:\n",
    "        smallGOterms[goid] = GOterms[goid]\n",
    "        for goid in GOterms[goid].parents:\n",
    "            finder(goid, smallGOterms)\n",
    "    \n",
    "    \n",
    "smallGOterms = {}\n",
    "for goid in baseGOids:\n",
    "    finder(goid, smallGOterms)\n",
    "\n"
   ]
  },
  {
   "cell_type": "code",
   "execution_count": 102,
   "metadata": {
    "collapsed": false
   },
   "outputs": [
    {
     "data": {
      "text/plain": [
       "684"
      ]
     },
     "execution_count": 102,
     "metadata": {},
     "output_type": "execute_result"
    }
   ],
   "source": [
    "len(smallGOterms)"
   ]
  },
  {
   "cell_type": "code",
   "execution_count": 104,
   "metadata": {
    "collapsed": false
   },
   "outputs": [],
   "source": [
    "baseParents = set([goid for goid in baseGOids for parent in GOterms[goid].parents])\n",
    "baseParents.update(baseGOids)"
   ]
  },
  {
   "cell_type": "code",
   "execution_count": 105,
   "metadata": {
    "collapsed": false
   },
   "outputs": [
    {
     "data": {
      "text/plain": [
       "110"
      ]
     },
     "execution_count": 105,
     "metadata": {},
     "output_type": "execute_result"
    }
   ],
   "source": [
    "len(baseParents)"
   ]
  },
  {
   "cell_type": "code",
   "execution_count": null,
   "metadata": {
    "collapsed": true
   },
   "outputs": [],
   "source": [
    "altGOterms = {}\n",
    "\n",
    "for goid in GOterms:\n",
    "    if not goid in altGOterms:\n",
    "        for basegoid in baseGOids:\n",
    "            if goid\n"
   ]
  }
 ],
 "metadata": {
  "kernelspec": {
   "display_name": "Python 3",
   "language": "python",
   "name": "python3"
  },
  "language_info": {
   "codemirror_mode": {
    "name": "ipython",
    "version": 3
   },
   "file_extension": ".py",
   "mimetype": "text/x-python",
   "name": "python",
   "nbconvert_exporter": "python",
   "pygments_lexer": "ipython3",
   "version": "3.4.3"
  }
 },
 "nbformat": 4,
 "nbformat_minor": 2
}
